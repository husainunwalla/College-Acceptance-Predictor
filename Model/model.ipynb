{
 "cells": [
  {
   "cell_type": "markdown",
   "metadata": {},
   "source": [
    "### Problem Statement\n",
    "- ### The goal here is to find the chance of admission of a candidate based on his/her GRE score, TOEFL score, rating of the university in which he/she is trying to get admission,strength of the SOP,Strength of the letter of the recommendation, CGPA and the research experience\n"
   ]
  },
  {
   "cell_type": "markdown",
   "metadata": {},
   "source": [
    "# Data Preprocessing "
   ]
  },
  {
   "cell_type": "markdown",
   "metadata": {},
   "source": []
  },
  {
   "cell_type": "code",
   "execution_count": 83,
   "metadata": {},
   "outputs": [],
   "source": [
    "#importing libraries\n",
    "import pandas as pd\n",
    "import numpy as np\n",
    "import matplotlib.pyplot as plt\n",
    "import pickle\n",
    "import seaborn as sns\n",
    "from joblib import dump\n",
    "%matplotlib inline"
   ]
  },
  {
   "cell_type": "code",
   "execution_count": 84,
   "metadata": {},
   "outputs": [],
   "source": [
    "df=pd.read_csv(\"Admission_Prediction.csv\")  # importing the data set"
   ]
  },
  {
   "cell_type": "code",
   "execution_count": 85,
   "metadata": {},
   "outputs": [],
   "source": [
    "df.drop('Serial No.', axis=1, inplace=True)\n",
    "df.drop('SOP', axis=1, inplace=True)\n",
    "df.drop('LOR', axis=1, inplace=True)\n"
   ]
  },
  {
   "cell_type": "code",
   "execution_count": 86,
   "metadata": {},
   "outputs": [],
   "source": [
    "df['GRE Score'].fillna(df['GRE Score'].mode()[0],inplace=True)\n",
    "df['TOEFL Score'].fillna(df['TOEFL Score'].mode()[0],inplace=True)\n",
    "df['University Rating'].fillna(df['University Rating'].mean(),inplace=True)"
   ]
  },
  {
   "cell_type": "code",
   "execution_count": 87,
   "metadata": {},
   "outputs": [
    {
     "data": {
      "text/html": [
       "<div>\n",
       "<style scoped>\n",
       "    .dataframe tbody tr th:only-of-type {\n",
       "        vertical-align: middle;\n",
       "    }\n",
       "\n",
       "    .dataframe tbody tr th {\n",
       "        vertical-align: top;\n",
       "    }\n",
       "\n",
       "    .dataframe thead th {\n",
       "        text-align: right;\n",
       "    }\n",
       "</style>\n",
       "<table border=\"1\" class=\"dataframe\">\n",
       "  <thead>\n",
       "    <tr style=\"text-align: right;\">\n",
       "      <th></th>\n",
       "      <th>GRE Score</th>\n",
       "      <th>TOEFL Score</th>\n",
       "      <th>CGPA</th>\n",
       "      <th>Research</th>\n",
       "      <th>Chance of Admit</th>\n",
       "    </tr>\n",
       "    <tr>\n",
       "      <th>University Rating</th>\n",
       "      <th></th>\n",
       "      <th></th>\n",
       "      <th></th>\n",
       "      <th></th>\n",
       "      <th></th>\n",
       "    </tr>\n",
       "  </thead>\n",
       "  <tbody>\n",
       "    <tr>\n",
       "      <th>4.3</th>\n",
       "      <td>316.857143</td>\n",
       "      <td>105.857143</td>\n",
       "      <td>8.434286</td>\n",
       "      <td>0.714286</td>\n",
       "      <td>0.428571</td>\n",
       "    </tr>\n",
       "    <tr>\n",
       "      <th>15.0</th>\n",
       "      <td>317.000000</td>\n",
       "      <td>110.000000</td>\n",
       "      <td>8.880000</td>\n",
       "      <td>0.000000</td>\n",
       "      <td>0.000000</td>\n",
       "    </tr>\n",
       "    <tr>\n",
       "      <th>16.0</th>\n",
       "      <td>317.000000</td>\n",
       "      <td>110.000000</td>\n",
       "      <td>8.880000</td>\n",
       "      <td>0.000000</td>\n",
       "      <td>0.000000</td>\n",
       "    </tr>\n",
       "    <tr>\n",
       "      <th>17.5</th>\n",
       "      <td>317.833333</td>\n",
       "      <td>104.833333</td>\n",
       "      <td>8.973333</td>\n",
       "      <td>0.666667</td>\n",
       "      <td>0.500000</td>\n",
       "    </tr>\n",
       "    <tr>\n",
       "      <th>20.0</th>\n",
       "      <td>317.000000</td>\n",
       "      <td>110.000000</td>\n",
       "      <td>8.880000</td>\n",
       "      <td>0.000000</td>\n",
       "      <td>1.000000</td>\n",
       "    </tr>\n",
       "    <tr>\n",
       "      <th>29.9</th>\n",
       "      <td>314.692308</td>\n",
       "      <td>95.538462</td>\n",
       "      <td>8.346154</td>\n",
       "      <td>0.461538</td>\n",
       "      <td>0.461538</td>\n",
       "    </tr>\n",
       "    <tr>\n",
       "      <th>36.6</th>\n",
       "      <td>316.000000</td>\n",
       "      <td>107.833333</td>\n",
       "      <td>7.683333</td>\n",
       "      <td>0.333333</td>\n",
       "      <td>0.500000</td>\n",
       "    </tr>\n",
       "    <tr>\n",
       "      <th>38.4</th>\n",
       "      <td>306.285714</td>\n",
       "      <td>99.571429</td>\n",
       "      <td>6.808571</td>\n",
       "      <td>0.428571</td>\n",
       "      <td>0.285714</td>\n",
       "    </tr>\n",
       "    <tr>\n",
       "      <th>39.6</th>\n",
       "      <td>307.750000</td>\n",
       "      <td>103.750000</td>\n",
       "      <td>8.490000</td>\n",
       "      <td>0.500000</td>\n",
       "      <td>0.750000</td>\n",
       "    </tr>\n",
       "    <tr>\n",
       "      <th>42.0</th>\n",
       "      <td>302.750000</td>\n",
       "      <td>100.625000</td>\n",
       "      <td>8.218750</td>\n",
       "      <td>0.750000</td>\n",
       "      <td>0.500000</td>\n",
       "    </tr>\n",
       "    <tr>\n",
       "      <th>46.4</th>\n",
       "      <td>310.500000</td>\n",
       "      <td>105.666667</td>\n",
       "      <td>8.076667</td>\n",
       "      <td>0.500000</td>\n",
       "      <td>0.500000</td>\n",
       "    </tr>\n",
       "    <tr>\n",
       "      <th>47.0</th>\n",
       "      <td>317.000000</td>\n",
       "      <td>110.000000</td>\n",
       "      <td>8.880000</td>\n",
       "      <td>0.000000</td>\n",
       "      <td>1.000000</td>\n",
       "    </tr>\n",
       "    <tr>\n",
       "      <th>50.1</th>\n",
       "      <td>296.285714</td>\n",
       "      <td>97.428571</td>\n",
       "      <td>7.370000</td>\n",
       "      <td>0.571429</td>\n",
       "      <td>0.571429</td>\n",
       "    </tr>\n",
       "    <tr>\n",
       "      <th>55.9</th>\n",
       "      <td>296.000000</td>\n",
       "      <td>99.166667</td>\n",
       "      <td>7.318333</td>\n",
       "      <td>0.333333</td>\n",
       "      <td>0.500000</td>\n",
       "    </tr>\n",
       "    <tr>\n",
       "      <th>63.6</th>\n",
       "      <td>313.000000</td>\n",
       "      <td>104.000000</td>\n",
       "      <td>7.950000</td>\n",
       "      <td>0.500000</td>\n",
       "      <td>0.250000</td>\n",
       "    </tr>\n",
       "    <tr>\n",
       "      <th>65.8</th>\n",
       "      <td>288.666667</td>\n",
       "      <td>96.066667</td>\n",
       "      <td>7.646000</td>\n",
       "      <td>0.533333</td>\n",
       "      <td>0.466667</td>\n",
       "    </tr>\n",
       "    <tr>\n",
       "      <th>67.0</th>\n",
       "      <td>264.428571</td>\n",
       "      <td>104.000000</td>\n",
       "      <td>7.884286</td>\n",
       "      <td>0.571429</td>\n",
       "      <td>0.571429</td>\n",
       "    </tr>\n",
       "    <tr>\n",
       "      <th>68.5</th>\n",
       "      <td>300.666667</td>\n",
       "      <td>98.666667</td>\n",
       "      <td>8.040000</td>\n",
       "      <td>0.500000</td>\n",
       "      <td>0.500000</td>\n",
       "    </tr>\n",
       "    <tr>\n",
       "      <th>70.7</th>\n",
       "      <td>303.000000</td>\n",
       "      <td>100.833333</td>\n",
       "      <td>6.776667</td>\n",
       "      <td>0.500000</td>\n",
       "      <td>0.500000</td>\n",
       "    </tr>\n",
       "    <tr>\n",
       "      <th>71.0</th>\n",
       "      <td>301.285714</td>\n",
       "      <td>100.571429</td>\n",
       "      <td>7.160000</td>\n",
       "      <td>0.428571</td>\n",
       "      <td>0.571429</td>\n",
       "    </tr>\n",
       "    <tr>\n",
       "      <th>80.1</th>\n",
       "      <td>215.857143</td>\n",
       "      <td>90.428571</td>\n",
       "      <td>7.688571</td>\n",
       "      <td>0.571429</td>\n",
       "      <td>0.571429</td>\n",
       "    </tr>\n",
       "    <tr>\n",
       "      <th>82.3</th>\n",
       "      <td>292.000000</td>\n",
       "      <td>87.000000</td>\n",
       "      <td>7.900000</td>\n",
       "      <td>0.000000</td>\n",
       "      <td>0.333333</td>\n",
       "    </tr>\n",
       "    <tr>\n",
       "      <th>99.0</th>\n",
       "      <td>293.000000</td>\n",
       "      <td>92.000000</td>\n",
       "      <td>6.000000</td>\n",
       "      <td>0.000000</td>\n",
       "      <td>1.000000</td>\n",
       "    </tr>\n",
       "  </tbody>\n",
       "</table>\n",
       "</div>"
      ],
      "text/plain": [
       "                    GRE Score  TOEFL Score      CGPA  Research  \\\n",
       "University Rating                                                \n",
       "4.3                316.857143   105.857143  8.434286  0.714286   \n",
       "15.0               317.000000   110.000000  8.880000  0.000000   \n",
       "16.0               317.000000   110.000000  8.880000  0.000000   \n",
       "17.5               317.833333   104.833333  8.973333  0.666667   \n",
       "20.0               317.000000   110.000000  8.880000  0.000000   \n",
       "29.9               314.692308    95.538462  8.346154  0.461538   \n",
       "36.6               316.000000   107.833333  7.683333  0.333333   \n",
       "38.4               306.285714    99.571429  6.808571  0.428571   \n",
       "39.6               307.750000   103.750000  8.490000  0.500000   \n",
       "42.0               302.750000   100.625000  8.218750  0.750000   \n",
       "46.4               310.500000   105.666667  8.076667  0.500000   \n",
       "47.0               317.000000   110.000000  8.880000  0.000000   \n",
       "50.1               296.285714    97.428571  7.370000  0.571429   \n",
       "55.9               296.000000    99.166667  7.318333  0.333333   \n",
       "63.6               313.000000   104.000000  7.950000  0.500000   \n",
       "65.8               288.666667    96.066667  7.646000  0.533333   \n",
       "67.0               264.428571   104.000000  7.884286  0.571429   \n",
       "68.5               300.666667    98.666667  8.040000  0.500000   \n",
       "70.7               303.000000   100.833333  6.776667  0.500000   \n",
       "71.0               301.285714   100.571429  7.160000  0.428571   \n",
       "80.1               215.857143    90.428571  7.688571  0.571429   \n",
       "82.3               292.000000    87.000000  7.900000  0.000000   \n",
       "99.0               293.000000    92.000000  6.000000  0.000000   \n",
       "\n",
       "                   Chance of Admit  \n",
       "University Rating                   \n",
       "4.3                       0.428571  \n",
       "15.0                      0.000000  \n",
       "16.0                      0.000000  \n",
       "17.5                      0.500000  \n",
       "20.0                      1.000000  \n",
       "29.9                      0.461538  \n",
       "36.6                      0.500000  \n",
       "38.4                      0.285714  \n",
       "39.6                      0.750000  \n",
       "42.0                      0.500000  \n",
       "46.4                      0.500000  \n",
       "47.0                      1.000000  \n",
       "50.1                      0.571429  \n",
       "55.9                      0.500000  \n",
       "63.6                      0.250000  \n",
       "65.8                      0.466667  \n",
       "67.0                      0.571429  \n",
       "68.5                      0.500000  \n",
       "70.7                      0.500000  \n",
       "71.0                      0.571429  \n",
       "80.1                      0.571429  \n",
       "82.3                      0.333333  \n",
       "99.0                      1.000000  "
      ]
     },
     "execution_count": 87,
     "metadata": {},
     "output_type": "execute_result"
    }
   ],
   "source": [
    "df_university = df.groupby(by='University Rating').mean()\n",
    "df_university"
   ]
  },
  {
   "cell_type": "code",
   "execution_count": 88,
   "metadata": {},
   "outputs": [],
   "source": [
    "x=df.drop(['Chance of Admit'],axis=1)\n",
    "y=df['Chance of Admit']\n",
    "# here we are droping the Chance of Admit and serial no, as they are not going to be used for the features \n",
    "# Chance of Admit is the target column which shows the probalility of admission for a candidate."
   ]
  },
  {
   "cell_type": "code",
   "execution_count": 89,
   "metadata": {},
   "outputs": [
    {
     "data": {
      "text/html": [
       "<div>\n",
       "<style scoped>\n",
       "    .dataframe tbody tr th:only-of-type {\n",
       "        vertical-align: middle;\n",
       "    }\n",
       "\n",
       "    .dataframe tbody tr th {\n",
       "        vertical-align: top;\n",
       "    }\n",
       "\n",
       "    .dataframe thead th {\n",
       "        text-align: right;\n",
       "    }\n",
       "</style>\n",
       "<table border=\"1\" class=\"dataframe\">\n",
       "  <thead>\n",
       "    <tr style=\"text-align: right;\">\n",
       "      <th></th>\n",
       "      <th>GRE Score</th>\n",
       "      <th>TOEFL Score</th>\n",
       "      <th>University Rating</th>\n",
       "      <th>CGPA</th>\n",
       "      <th>Research</th>\n",
       "    </tr>\n",
       "  </thead>\n",
       "  <tbody>\n",
       "    <tr>\n",
       "      <th>0</th>\n",
       "      <td>317</td>\n",
       "      <td>110</td>\n",
       "      <td>47.0</td>\n",
       "      <td>8.88</td>\n",
       "      <td>0</td>\n",
       "    </tr>\n",
       "    <tr>\n",
       "      <th>1</th>\n",
       "      <td>317</td>\n",
       "      <td>110</td>\n",
       "      <td>16.0</td>\n",
       "      <td>8.88</td>\n",
       "      <td>0</td>\n",
       "    </tr>\n",
       "    <tr>\n",
       "      <th>2</th>\n",
       "      <td>317</td>\n",
       "      <td>110</td>\n",
       "      <td>4.3</td>\n",
       "      <td>8.88</td>\n",
       "      <td>0</td>\n",
       "    </tr>\n",
       "    <tr>\n",
       "      <th>3</th>\n",
       "      <td>317</td>\n",
       "      <td>110</td>\n",
       "      <td>20.0</td>\n",
       "      <td>8.88</td>\n",
       "      <td>0</td>\n",
       "    </tr>\n",
       "    <tr>\n",
       "      <th>4</th>\n",
       "      <td>317</td>\n",
       "      <td>110</td>\n",
       "      <td>15.0</td>\n",
       "      <td>8.88</td>\n",
       "      <td>0</td>\n",
       "    </tr>\n",
       "  </tbody>\n",
       "</table>\n",
       "</div>"
      ],
      "text/plain": [
       "   GRE Score  TOEFL Score  University Rating  CGPA  Research\n",
       "0        317          110               47.0  8.88         0\n",
       "1        317          110               16.0  8.88         0\n",
       "2        317          110                4.3  8.88         0\n",
       "3        317          110               20.0  8.88         0\n",
       "4        317          110               15.0  8.88         0"
      ]
     },
     "execution_count": 89,
     "metadata": {},
     "output_type": "execute_result"
    }
   ],
   "source": [
    "x.head() # checking the transformed feature column"
   ]
  },
  {
   "cell_type": "code",
   "execution_count": 90,
   "metadata": {},
   "outputs": [
    {
     "data": {
      "text/plain": [
       "(130, 1)"
      ]
     },
     "execution_count": 90,
     "metadata": {},
     "output_type": "execute_result"
    }
   ],
   "source": [
    "x = np.array(x)\n",
    "y = np.array(y)\n",
    "y = y.reshape(-1,1)\n",
    "y.shape"
   ]
  },
  {
   "cell_type": "code",
   "execution_count": 91,
   "metadata": {},
   "outputs": [
    {
     "data": {
      "text/plain": [
       "array([[ 3.50595114e-01,  6.56243559e-01, -1.47630258e-01,\n",
       "         1.09068288e+00, -9.84731928e-01],\n",
       "       [ 3.50595114e-01,  6.56243559e-01, -1.60476947e+00,\n",
       "         1.09068288e+00, -9.84731928e-01],\n",
       "       [ 3.50595114e-01,  6.56243559e-01, -2.15472202e+00,\n",
       "         1.09068288e+00, -9.84731928e-01],\n",
       "       [ 3.50595114e-01,  6.56243559e-01, -1.41675151e+00,\n",
       "         1.09068288e+00, -9.84731928e-01],\n",
       "       [ 3.50595114e-01,  6.56243559e-01, -1.65177396e+00,\n",
       "         1.09068288e+00, -9.84731928e-01],\n",
       "       [-9.11887131e-02, -5.24086900e-01,  2.29660326e+00,\n",
       "        -1.91521827e+00, -9.84731928e-01],\n",
       "       [-1.46411692e-01, -6.55234729e-01,  1.51162827e+00,\n",
       "        -3.49644752e-01, -9.84731928e-01],\n",
       "       [ 1.92572438e-02, -6.55234729e-01,  1.51162827e+00,\n",
       "         5.89699359e-01, -9.84731928e-01],\n",
       "       [-2.01634670e-01, -1.24539996e+00,  1.51162827e+00,\n",
       "        -3.65300488e-02, -9.84731928e-01],\n",
       "       [ 5.53079369e-01,  6.56243559e-01,  6.32644289e-01,\n",
       "        -7.82786759e-02, -9.84731928e-01],\n",
       "       [ 2.76964476e-01,  5.04414726e-04,  6.32644289e-01,\n",
       "        -3.65300488e-02,  1.01550480e+00],\n",
       "       [ 5.60725627e-02, -2.61791243e-01,  6.32644289e-01,\n",
       "         5.79262202e-01,  1.01550480e+00],\n",
       "       [ 2.21741498e-01,  6.56243559e-01,  6.32644289e-01,\n",
       "         1.56557352e-02, -9.84731928e-01],\n",
       "       [ 6.26710006e-01,  6.56243559e-01, -2.15472202e+00,\n",
       "         9.44562689e-01,  1.01550480e+00],\n",
       "       [ 6.45117666e-01,  8.52965302e-01, -2.15472202e+00,\n",
       "         1.68560082e+00,  1.01550480e+00],\n",
       "       [ 7.37155963e-01,  1.18083487e+00, -2.15472202e+00,\n",
       "         1.30986318e+00,  1.01550480e+00],\n",
       "       [ 3.76649032e-02, -6.55234729e-01, -2.15472202e+00,\n",
       "         3.80956223e-01,  1.01550480e+00],\n",
       "       [ 3.76649032e-02,  5.04414726e-04, -2.15472202e+00,\n",
       "        -5.16639261e-01,  1.01550480e+00],\n",
       "       [ 8.49584283e-04,  5.04414726e-04, -2.15472202e+00,\n",
       "        -5.16639261e-01, -9.84731928e-01],\n",
       "       [ 4.97856390e-01,  5.04414726e-04,  9.66376173e-01,\n",
       "         9.02814062e-01, -9.84731928e-01],\n",
       "       [ 5.60725627e-02,  5.04414726e-04,  9.66376173e-01,\n",
       "        -9.13251219e-01,  1.01550480e+00],\n",
       "       [-7.27810536e-02,  3.28373987e-01,  9.66376173e-01,\n",
       "        -5.27076418e-01,  1.01550480e+00],\n",
       "       [-5.43733941e-02, -3.27365157e-01,  9.66376173e-01,\n",
       "        -2.88587385e+00, -9.84731928e-01],\n",
       "       [ 3.76649032e-02,  6.56243559e-01,  9.66376173e-01,\n",
       "        -2.54144768e+00, -9.84731928e-01],\n",
       "       [ 9.28878817e-02, -3.27365157e-01,  9.66376173e-01,\n",
       "        -6.62759456e-01,  1.01550480e+00],\n",
       "       [ 6.81932985e-01,  9.84113131e-01, -1.53426274e+00,\n",
       "         2.07177562e+00,  1.01550480e+00],\n",
       "       [ 4.97856390e-01,  6.56243559e-01, -1.53426274e+00,\n",
       "         2.17614719e+00,  1.01550480e+00],\n",
       "       [ 5.34671709e-01,  5.25095730e-01, -1.53426274e+00,\n",
       "         1.63341504e+00,  1.01550480e+00],\n",
       "       [ 1.66518520e-01, -3.92939072e-01, -1.53426274e+00,\n",
       "        -5.58387888e-01,  1.01550480e+00],\n",
       "       [ 2.76964476e-01,  4.59521815e-01, -1.53426274e+00,\n",
       "         9.02814062e-01, -9.84731928e-01],\n",
       "       [ 3.76649032e-02, -3.27365157e-01, -1.53426274e+00,\n",
       "         9.02814062e-01, -9.84731928e-01],\n",
       "       [ 4.05818093e-01,  7.87391387e-01, -6.36476963e-01,\n",
       "        -1.40901617e-01,  1.01550480e+00],\n",
       "       [ 4.42633412e-01,  4.59521815e-01, -6.36476963e-01,\n",
       "        -4.54016320e-01,  1.01550480e+00],\n",
       "       [ 4.24225752e-01,  1.18083487e+00, -6.36476963e-01,\n",
       "         1.06980857e+00, -9.84731928e-01],\n",
       "       [ 2.95372136e-01,  7.87391387e-01, -6.36476963e-01,\n",
       "        -1.58122925e+00, -9.84731928e-01],\n",
       "       [ 2.40149157e-01,  4.59521815e-01, -6.36476963e-01,\n",
       "        -5.37513575e-01, -9.84731928e-01],\n",
       "       [ 1.84926179e-01, -5.89660815e-01, -6.36476963e-01,\n",
       "         6.94070926e-01, -9.84731928e-01],\n",
       "       [ 3.87410433e-01,  1.04968705e+00, -9.51407051e-01,\n",
       "         1.81084670e+00, -9.84731928e-01],\n",
       "       [ 3.87410433e-01,  1.24640879e+00, -9.51407051e-01,\n",
       "         1.12199435e+00,  1.01550480e+00],\n",
       "       [ 5.16264050e-01,  3.28373987e-01, -9.51407051e-01,\n",
       "         1.14286867e+00, -9.84731928e-01],\n",
       "       [ 1.29703201e-01, -9.83104301e-01, -9.51407051e-01,\n",
       "         7.98442494e-01, -9.84731928e-01],\n",
       "       [ 4.79448731e-01,  3.28373987e-01, -9.51407051e-01,\n",
       "        -4.54016320e-01, -9.84731928e-01],\n",
       "       [ 1.92572438e-02,  3.93947901e-01, -9.51407051e-01,\n",
       "        -2.87021812e-01,  1.01550480e+00],\n",
       "       [ 4.24225752e-01,  5.25095730e-01, -1.75832953e-01,\n",
       "         9.91529895e-02,  1.01550480e+00],\n",
       "       [ 3.69002774e-01,  6.56243559e-01, -1.75832953e-01,\n",
       "         4.33142007e-01, -9.84731928e-01],\n",
       "       [ 3.32187455e-01,  6.56243559e-01, -1.75832953e-01,\n",
       "         1.32030033e+00, -9.84731928e-01],\n",
       "       [ 2.21741498e-01,  1.31652244e-01, -1.75832953e-01,\n",
       "        -8.71502592e-01, -9.84731928e-01],\n",
       "       [ 3.76649032e-02,  3.28373987e-01, -1.75832953e-01,\n",
       "        -1.40901617e-01,  1.01550480e+00],\n",
       "       [ 8.49584283e-04, -6.50694997e-02, -1.75832953e-01,\n",
       "         6.73196613e-01,  1.01550480e+00],\n",
       "       [ 1.84926179e-01,  6.56243559e-01, -3.82652712e-01,\n",
       "         1.23680308e+00,  1.01550480e+00],\n",
       "       [-2.93672967e-01,  3.28373987e-01, -3.82652712e-01,\n",
       "        -3.80956223e-01,  1.01550480e+00],\n",
       "       [ 7.44802222e-02,  3.28373987e-01, -3.82652712e-01,\n",
       "         2.76584655e-01,  1.01550480e+00],\n",
       "       [ 2.95372136e-01,  7.21817473e-01, -3.82652712e-01,\n",
       "         9.02814062e-01,  1.01550480e+00],\n",
       "       [ 2.58556817e-01,  1.31652244e-01, -3.82652712e-01,\n",
       "         2.76584655e-01, -9.84731928e-01],\n",
       "       [ 2.21741498e-01, -3.27365157e-01, -3.82652712e-01,\n",
       "         2.76584655e-01,  1.01550480e+00],\n",
       "       [-3.59657347e-02, -1.17982604e+00, -3.82652712e-01,\n",
       "         9.02814062e-01, -9.84731928e-01],\n",
       "       [ 8.49584283e-04, -3.27365157e-01, -3.82652712e-01,\n",
       "        -2.87021812e-01,  1.01550480e+00],\n",
       "       [ 3.76649032e-02,  5.04414726e-04, -1.91633693e-03,\n",
       "        -7.77568181e-01,  1.01550480e+00],\n",
       "       [ 5.60725627e-02, -3.92939072e-01, -1.91633693e-03,\n",
       "        -3.65300488e-02, -9.84731928e-01],\n",
       "       [-1.83227010e-01,  5.04414726e-04, -1.91633693e-03,\n",
       "        -2.87021812e-01, -9.84731928e-01],\n",
       "       [-1.46411692e-01, -3.27365157e-01, -1.91633693e-03,\n",
       "        -1.08024573e+00,  1.01550480e+00],\n",
       "       [ 3.13779795e-01,  3.28373987e-01,  2.70709710e-01,\n",
       "         6.78415191e-02, -9.84731928e-01],\n",
       "       [-1.75580752e-02, -3.27365157e-01,  2.70709710e-01,\n",
       "        -3.49644752e-01,  1.01550480e+00],\n",
       "       [-1.09596373e-01,  5.04414726e-04,  2.70709710e-01,\n",
       "         2.76584655e-01,  1.01550480e+00],\n",
       "       [-1.64819351e-01,  5.04414726e-04,  2.70709710e-01,\n",
       "        -9.75874160e-01, -9.84731928e-01],\n",
       "       [ 8.49584283e-04, -3.27365157e-01,  2.70709710e-01,\n",
       "        -1.18461730e+00, -9.84731928e-01],\n",
       "       [-2.38449989e-01,  5.04414726e-04,  2.70709710e-01,\n",
       "        -1.06980857e+00, -9.84731928e-01],\n",
       "       [ 2.03333838e-01,  5.04414726e-04,  8.62966294e-01,\n",
       "         2.76584655e-01,  1.01550480e+00],\n",
       "       [ 1.66518520e-01, -1.30643414e-01,  8.62966294e-01,\n",
       "         7.98442494e-01, -9.84731928e-01],\n",
       "       [ 4.24225752e-01,  5.25095730e-01,  8.62966294e-01,\n",
       "         4.85327791e-01,  1.01550480e+00],\n",
       "       [-2.93672967e-01, -3.27365157e-01,  8.62966294e-01,\n",
       "        -8.71502592e-01,  1.01550480e+00],\n",
       "       [-5.43733941e-02, -3.27365157e-01,  8.62966294e-01,\n",
       "         4.33142007e-01, -9.84731928e-01],\n",
       "       [-1.46411692e-01, -2.61791243e-01,  8.62966294e-01,\n",
       "         1.61775930e-01, -9.84731928e-01],\n",
       "       [ 3.50595114e-01,  5.04414726e-04, -9.51407051e-01,\n",
       "         3.07896125e-01,  1.01550480e+00],\n",
       "       [ 4.24225752e-01,  5.04414726e-04, -9.51407051e-01,\n",
       "        -5.74043623e-02,  1.01550480e+00],\n",
       "       [ 3.87410433e-01,  4.59521815e-01, -9.51407051e-01,\n",
       "         6.10573672e-01, -9.84731928e-01],\n",
       "       [ 1.29703201e-01, -9.83104301e-01, -9.51407051e-01,\n",
       "         1.21592877e+00, -9.84731928e-01],\n",
       "       [ 2.21741498e-01,  5.25095730e-01, -9.51407051e-01,\n",
       "        -5.58387888e-01,  1.01550480e+00],\n",
       "       [ 3.13779795e-01, -6.55688702e+00, -9.51407051e-01,\n",
       "         1.52904347e+00, -9.84731928e-01],\n",
       "       [ 2.58556817e-01,  3.93947901e-01, -9.51407051e-01,\n",
       "        -2.45273185e-01,  1.01550480e+00],\n",
       "       [ 2.58556817e-01, -2.61791243e-01, -5.51868879e-01,\n",
       "        -1.09590146e-01, -9.84731928e-01],\n",
       "       [ 4.05818093e-01,  7.21817473e-01, -5.51868879e-01,\n",
       "        -1.08024573e+00,  1.01550480e+00],\n",
       "       [ 1.48110860e-01, -1.30643414e-01, -5.51868879e-01,\n",
       "         6.78415191e-02, -9.84731928e-01],\n",
       "       [-7.27810536e-02, -9.83104301e-01, -5.51868879e-01,\n",
       "        -1.39336043e+00,  1.01550480e+00],\n",
       "       [ 2.03333838e-01,  5.25095730e-01, -5.51868879e-01,\n",
       "        -1.57079210e+00,  1.01550480e+00],\n",
       "       [-7.27810536e-02, -6.50694997e-02, -5.51868879e-01,\n",
       "        -8.71502592e-01, -9.84731928e-01],\n",
       "       [ 2.03333838e-01,  5.04414726e-04, -5.51868879e-01,\n",
       "        -2.54144768e+00, -9.84731928e-01],\n",
       "       [-1.83227010e-01, -1.30643414e-01, -1.91633693e-03,\n",
       "        -2.87021812e-01, -9.84731928e-01],\n",
       "       [-1.75580752e-02, -1.30643414e-01, -1.91633693e-03,\n",
       "         1.40901617e-01,  1.01550480e+00],\n",
       "       [ 2.21741498e-01, -1.96217328e-01, -1.91633693e-03,\n",
       "        -1.06980857e+00,  1.01550480e+00],\n",
       "       [ 7.44802222e-02, -1.30643414e-01,  7.36054169e-01,\n",
       "         1.80040955e+00, -9.84731928e-01],\n",
       "       [ 2.58556817e-01,  3.28373987e-01,  7.36054169e-01,\n",
       "         1.72213087e-01, -9.84731928e-01],\n",
       "       [ 3.32187455e-01,  5.90669644e-01,  7.36054169e-01,\n",
       "        -4.74890634e-01, -9.84731928e-01],\n",
       "       [ 1.66518520e-01,  3.28373987e-01,  7.36054169e-01,\n",
       "         2.97458968e-01, -9.84731928e-01],\n",
       "       [ 2.21741498e-01,  1.31652244e-01,  7.36054169e-01,\n",
       "        -1.35161180e+00, -9.84731928e-01],\n",
       "       [ 1.48110860e-01,  7.87391387e-01,  7.36054169e-01,\n",
       "        -5.27076418e-01,  1.01550480e+00],\n",
       "       [ 8.49584283e-04,  3.28373987e-01,  7.36054169e-01,\n",
       "         1.72213087e-01,  1.01550480e+00],\n",
       "       [ 2.58556817e-01,  7.87391387e-01,  7.36054169e-01,\n",
       "        -1.46642053e+00,  1.01550480e+00],\n",
       "       [ 2.03333838e-01,  3.28373987e-01,  1.40821839e+00,\n",
       "        -3.49644752e-01,  1.01550480e+00],\n",
       "       [ 7.44802222e-02, -9.83104301e-01,  1.40821839e+00,\n",
       "         8.08879651e-01, -9.84731928e-01],\n",
       "       [ 8.49584283e-04, -7.86382558e-01,  1.40821839e+00,\n",
       "         9.86311317e-01,  1.01550480e+00],\n",
       "       [ 3.76649032e-02, -9.83104301e-01,  1.40821839e+00,\n",
       "        -2.60928920e-02,  1.01550480e+00],\n",
       "       [ 7.44802222e-02,  1.31652244e-01,  1.40821839e+00,\n",
       "        -2.20745866e+00, -9.84731928e-01],\n",
       "       [-5.48463294e+00, -1.96671302e+00,  1.40821839e+00,\n",
       "        -2.45273185e-01, -9.84731928e-01],\n",
       "       [-5.48463294e+00, -1.30643414e-01,  1.40821839e+00,\n",
       "        -3.65300488e-02,  1.01550480e+00],\n",
       "       [ 3.32187455e-01, -6.55688702e+00,  7.36054169e-01,\n",
       "         9.02814062e-01,  1.01550480e+00],\n",
       "       [ 2.21741498e-01,  6.56243559e-01,  7.36054169e-01,\n",
       "         9.02814062e-01,  1.01550480e+00],\n",
       "       [ 4.05818093e-01, -9.83104301e-01,  7.36054169e-01,\n",
       "        -2.45273185e-01,  1.01550480e+00],\n",
       "       [ 1.84926179e-01, -9.83104301e-01,  7.36054169e-01,\n",
       "        -4.54016320e-01, -9.84731928e-01],\n",
       "       [-5.48463294e+00,  3.28373987e-01,  7.36054169e-01,\n",
       "        -7.04508083e-01,  1.01550480e+00],\n",
       "       [ 9.28878817e-02,  2.62800072e-01,  7.36054169e-01,\n",
       "        -1.17418014e+00, -9.84731928e-01],\n",
       "       [ 2.21741498e-01,  2.62800072e-01,  7.36054169e-01,\n",
       "        -8.08879651e-01,  1.01550480e+00],\n",
       "       [ 2.21741498e-01,  3.28373987e-01,  9.80477521e-01,\n",
       "        -1.28898886e+00,  1.01550480e+00],\n",
       "       [ 1.92572438e-02,  7.21817473e-01,  9.80477521e-01,\n",
       "        -3.65300488e-02,  1.01550480e+00],\n",
       "       [ 4.42633412e-01, -5.24086900e-01,  9.80477521e-01,\n",
       "         6.62759456e-01, -9.84731928e-01],\n",
       "       [ 3.76649032e-02, -1.30643414e-01,  9.80477521e-01,\n",
       "        -6.41885143e-01, -9.84731928e-01],\n",
       "       [-1.64819351e-01, -1.30643414e-01,  9.80477521e-01,\n",
       "        -1.46642053e+00, -9.84731928e-01],\n",
       "       [-3.48895946e-01,  3.28373987e-01,  9.80477521e-01,\n",
       "        -8.61065435e-01,  1.01550480e+00],\n",
       "       [ 2.21741498e-01, -3.27365157e-01,  9.80477521e-01,\n",
       "        -1.29942602e+00, -9.84731928e-01],\n",
       "       [ 2.95372136e-01,  9.84113131e-01,  7.92459558e-01,\n",
       "         7.35819554e-01, -9.84731928e-01],\n",
       "       [ 2.21741498e-01, -6.50694997e-02,  7.92459558e-01,\n",
       "         1.51860631e+00,  1.01550480e+00],\n",
       "       [ 2.95372136e-01,  7.21817473e-01,  7.92459558e-01,\n",
       "         1.41423474e+00, -9.84731928e-01],\n",
       "       [ 9.28878817e-02, -7.20808644e-01,  7.92459558e-01,\n",
       "        -5.79262202e-01,  1.01550480e+00],\n",
       "       [ 1.48110860e-01,  3.28373987e-01,  7.92459558e-01,\n",
       "        -7.98442494e-01,  1.01550480e+00],\n",
       "       [-5.48463294e+00,  3.28373987e-01,  7.92459558e-01,\n",
       "        -1.56557352e-02,  1.01550480e+00],\n",
       "       [ 1.11295541e-01,  2.62800072e-01,  7.92459558e-01,\n",
       "        -1.91521827e+00, -9.84731928e-01],\n",
       "       [ 1.11295541e-01,  1.97226158e-01, -4.95463490e-01,\n",
       "         9.23688376e-01,  1.01550480e+00],\n",
       "       [ 4.05818093e-01,  1.18083487e+00, -4.95463490e-01,\n",
       "         1.29942602e+00, -9.84731928e-01],\n",
       "       [ 2.21741498e-01,  6.60783291e-02, -4.95463490e-01,\n",
       "         1.72213087e-01,  1.01550480e+00],\n",
       "       [-1.75580752e-02, -4.58512986e-01, -4.95463490e-01,\n",
       "         3.39207596e-01, -9.84731928e-01]])"
      ]
     },
     "execution_count": 91,
     "metadata": {},
     "output_type": "execute_result"
    }
   ],
   "source": [
    "# to be only used if you want to scale the data,standize the data,if the variation is huge in the dataset\n",
    "# when we have huge variation in the data set\n",
    "# i am not changing the data , i am changing the scale only like taking logs, sqrt--not changing the actual meaning of the data set\n",
    "# variance betweeen the dataset become very low\n",
    "# machine will understand in better way this data  as having low variance in the data set\n",
    "\n",
    "from sklearn.preprocessing import StandardScaler\n",
    "scaler_feature=StandardScaler()\n",
    "scaler_lablel=StandardScaler()\n",
    "scaled_data=scaler_feature.fit_transform(x)\n",
    "scaler_y = StandardScaler()\n",
    "y = scaler_y.fit_transform(y)\n",
    "scaled_data"
   ]
  },
  {
   "cell_type": "code",
   "execution_count": 92,
   "metadata": {},
   "outputs": [],
   "source": [
    "#splitting the data into training and testing sets\n",
    "from sklearn.model_selection import train_test_split\n",
    "train_x,test_x,train_y,test_y=train_test_split(x,y,test_size=0.33,random_state=100)\n",
    "# finding mi c1 , m2 c2,..... "
   ]
  },
  {
   "cell_type": "code",
   "execution_count": 93,
   "metadata": {},
   "outputs": [
    {
     "data": {
      "text/plain": [
       "LinearRegression()"
      ]
     },
     "execution_count": 93,
     "metadata": {},
     "output_type": "execute_result"
    }
   ],
   "source": [
    "# fitting the data to the linear regression model\n",
    "from sklearn import linear_model\n",
    "from sklearn.linear_model import LinearRegression\n",
    "from sklearn.metrics import mean_squared_error, accuracy_score\n",
    "reg=linear_model.LinearRegression()\n",
    "reg.fit(train_x,train_y)"
   ]
  },
  {
   "cell_type": "code",
   "execution_count": 94,
   "metadata": {},
   "outputs": [
    {
     "data": {
      "text/plain": [
       "-0.7868583905683451"
      ]
     },
     "execution_count": 94,
     "metadata": {},
     "output_type": "execute_result"
    }
   ],
   "source": [
    "# calc the accuracy of the model\n",
    "from sklearn.metrics import r2_score\n",
    "score=r2_score(reg.predict(test_x),test_y)\n",
    "score"
   ]
  },
  {
   "cell_type": "code",
   "execution_count": 95,
   "metadata": {},
   "outputs": [
    {
     "name": "stdout",
     "output_type": "stream",
     "text": [
      "                   coefficient\n",
      "GRE Score             0.004019\n",
      "TOEFL Score           0.016411\n",
      "University Rating     0.018374\n",
      "CGPA                  0.555673\n",
      "Research              0.501356\n",
      "Feature: 0, Score: 0.00402\n",
      "Feature: 1, Score: 0.01641\n",
      "Feature: 2, Score: 0.01837\n",
      "Feature: 3, Score: 0.55567\n",
      "Feature: 4, Score: 0.50136\n"
     ]
    },
    {
     "data": {
      "image/png": "[encoded data removed]",
      "text/plain": [
       "<Figure size 432x288 with 1 Axes>"
      ]
     },
     "metadata": {
      "needs_background": "light"
     },
     "output_type": "display_data"
    }
   ],
   "source": [
    "intercept = reg.intercept_\n",
    "dfx = df.drop('Chance of Admit' , axis=1)\n",
    "importance = reg.coef_[0]\n",
    "features = pd.DataFrame(importance, dfx.columns, columns=['coefficient'])\n",
    "print(features)\n",
    "for i,v in enumerate(importance):\n",
    "\tprint('Feature: %0d, Score: %.5f' % (i,v))\n",
    "# plot feature importance\n",
    "plt.bar([x for x in range(len(importance))], importance)\n",
    "plt.show()"
   ]
  },
  {
   "cell_type": "code",
   "execution_count": 96,
   "metadata": {},
   "outputs": [],
   "source": [
    "#splitting the data into training and testing sets\n",
    "from sklearn.model_selection import train_test_split\n",
    "train_x,test_x,train_y,test_y=train_test_split(x,y,test_size=0.20,random_state=100)\n",
    "# finding mi c1 , m2 c2,..... "
   ]
  },
  {
   "cell_type": "code",
   "execution_count": 97,
   "metadata": {},
   "outputs": [
    {
     "data": {
      "text/plain": [
       "LinearRegression()"
      ]
     },
     "execution_count": 97,
     "metadata": {},
     "output_type": "execute_result"
    }
   ],
   "source": [
    "# fitting the data to the linear regression model\n",
    "from sklearn import linear_model\n",
    "from sklearn.linear_model import LinearRegression\n",
    "reg=linear_model.LinearRegression()\n",
    "reg.fit(train_x,train_y)"
   ]
  },
  {
   "cell_type": "code",
   "execution_count": 98,
   "metadata": {},
   "outputs": [
    {
     "data": {
      "text/plain": [
       "-1.3061374667932135"
      ]
     },
     "execution_count": 98,
     "metadata": {},
     "output_type": "execute_result"
    }
   ],
   "source": [
    "# calc the accuracy of the model\n",
    "from sklearn.metrics import r2_score\n",
    "score=r2_score(reg.predict(test_x),test_y)\n",
    "score"
   ]
  },
  {
   "cell_type": "markdown",
   "metadata": {},
   "source": [
    "# ANN Model"
   ]
  },
  {
   "cell_type": "code",
   "execution_count": 99,
   "metadata": {},
   "outputs": [],
   "source": [
    "import tensorflow as tf\n",
    "from tensorflow import keras\n",
    "#tf.keras.layers.Dense\n",
    "from tensorflow.keras.layers import Dense, Activation, Dropout\n",
    "from tensorflow.keras.optimizers import Adam\n",
    "#opt = keras.optimizers.Adam(learning_rate=0.01)\n"
   ]
  },
  {
   "cell_type": "code",
   "execution_count": 100,
   "metadata": {},
   "outputs": [
    {
     "name": "stdout",
     "output_type": "stream",
     "text": [
      "Model: \"sequential_2\"\n",
      "_________________________________________________________________\n",
      " Layer (type)                Output Shape              Param #   \n",
      "=================================================================\n",
      " dense_10 (Dense)            (None, 50)                300       \n",
      "                                                                 \n",
      " activation_8 (Activation)   (None, 50)                0         \n",
      "                                                                 \n",
      " dense_11 (Dense)            (None, 150)               7650      \n",
      "                                                                 \n",
      " activation_9 (Activation)   (None, 150)               0         \n",
      "                                                                 \n",
      " dropout_4 (Dropout)         (None, 150)               0         \n",
      "                                                                 \n",
      " dense_12 (Dense)            (None, 150)               22650     \n",
      "                                                                 \n",
      " activation_10 (Activation)  (None, 150)               0         \n",
      "                                                                 \n",
      " dropout_5 (Dropout)         (None, 150)               0         \n",
      "                                                                 \n",
      " dense_13 (Dense)            (None, 50)                7550      \n",
      "                                                                 \n",
      " activation_11 (Activation)  (None, 50)                0         \n",
      "                                                                 \n",
      " dense_14 (Dense)            (None, 1)                 51        \n",
      "                                                                 \n",
      "=================================================================\n",
      "Total params: 38,201\n",
      "Trainable params: 38,201\n",
      "Non-trainable params: 0\n",
      "_________________________________________________________________\n"
     ]
    }
   ],
   "source": [
    "ANN_model = keras.Sequential()\n",
    "ANN_model.add(Dense(50, input_dim = 5))\n",
    "ANN_model.add(Activation('relu'))\n",
    "ANN_model.add(Dense(150))\n",
    "ANN_model.add(Activation('relu'))\n",
    "ANN_model.add(Dropout(0.5))\n",
    "ANN_model.add(Dense(150))\n",
    "ANN_model.add(Activation('relu'))\n",
    "ANN_model.add(Dropout(0.5))\n",
    "ANN_model.add(Dense(50))\n",
    "ANN_model.add(Activation('linear'))\n",
    "ANN_model.add(Dense(1))\n",
    "ANN_model.compile(loss = 'mean_squared_error', optimizer = 'adam')\n",
    "ANN_model.summary()"
   ]
  },
  {
   "cell_type": "code",
   "execution_count": 101,
   "metadata": {},
   "outputs": [],
   "source": [
    "ANN_model.compile(optimizer='adam', loss='mean_squared_error')"
   ]
  },
  {
   "cell_type": "code",
   "execution_count": 102,
   "metadata": {},
   "outputs": [
    {
     "name": "stdout",
     "output_type": "stream",
     "text": [
      "Epoch 1/100\n",
      "5/5 [==============================] - 0s 24ms/step - loss: 1750.2340 - val_loss: 5.8305\n",
      "Epoch 2/100\n",
      "5/5 [==============================] - 0s 6ms/step - loss: 1630.5289 - val_loss: 37.0596\n",
      "Epoch 3/100\n",
      "5/5 [==============================] - 0s 7ms/step - loss: 1169.6068 - val_loss: 16.0213\n",
      "Epoch 4/100\n",
      "5/5 [==============================] - 0s 6ms/step - loss: 513.9368 - val_loss: 15.5094\n",
      "Epoch 5/100\n",
      "5/5 [==============================] - 0s 6ms/step - loss: 366.6048 - val_loss: 5.1717\n",
      "Epoch 6/100\n",
      "5/5 [==============================] - 0s 6ms/step - loss: 270.6135 - val_loss: 3.9914\n",
      "Epoch 7/100\n",
      "5/5 [==============================] - 0s 6ms/step - loss: 220.4196 - val_loss: 2.7003\n",
      "Epoch 8/100\n",
      "5/5 [==============================] - 0s 6ms/step - loss: 196.9081 - val_loss: 2.8743\n",
      "Epoch 9/100\n",
      "5/5 [==============================] - 0s 6ms/step - loss: 181.0622 - val_loss: 2.7795\n",
      "Epoch 10/100\n",
      "5/5 [==============================] - 0s 6ms/step - loss: 109.4225 - val_loss: 1.6123\n",
      "Epoch 11/100\n",
      "5/5 [==============================] - 0s 6ms/step - loss: 140.3224 - val_loss: 1.7694\n",
      "Epoch 12/100\n",
      "5/5 [==============================] - 0s 6ms/step - loss: 101.7322 - val_loss: 1.4960\n",
      "Epoch 13/100\n",
      "5/5 [==============================] - 0s 6ms/step - loss: 73.4092 - val_loss: 1.1525\n",
      "Epoch 14/100\n",
      "5/5 [==============================] - 0s 6ms/step - loss: 80.4110 - val_loss: 1.3926\n",
      "Epoch 15/100\n",
      "5/5 [==============================] - 0s 6ms/step - loss: 55.1810 - val_loss: 1.9516\n",
      "Epoch 16/100\n",
      "5/5 [==============================] - 0s 6ms/step - loss: 56.9267 - val_loss: 2.3264\n",
      "Epoch 17/100\n",
      "5/5 [==============================] - 0s 6ms/step - loss: 71.6391 - val_loss: 1.7108\n",
      "Epoch 18/100\n",
      "5/5 [==============================] - 0s 6ms/step - loss: 44.8422 - val_loss: 1.6257\n",
      "Epoch 19/100\n",
      "5/5 [==============================] - 0s 6ms/step - loss: 42.8622 - val_loss: 1.4480\n",
      "Epoch 20/100\n",
      "5/5 [==============================] - 0s 6ms/step - loss: 40.0113 - val_loss: 1.5162\n",
      "Epoch 21/100\n",
      "5/5 [==============================] - 0s 6ms/step - loss: 32.4419 - val_loss: 2.0549\n",
      "Epoch 22/100\n",
      "5/5 [==============================] - 0s 6ms/step - loss: 31.0163 - val_loss: 1.5884\n",
      "Epoch 23/100\n",
      "5/5 [==============================] - 0s 6ms/step - loss: 24.9731 - val_loss: 1.4564\n",
      "Epoch 24/100\n",
      "5/5 [==============================] - 0s 6ms/step - loss: 31.5821 - val_loss: 1.9078\n",
      "Epoch 25/100\n",
      "5/5 [==============================] - 0s 6ms/step - loss: 38.8204 - val_loss: 1.5679\n",
      "Epoch 26/100\n",
      "5/5 [==============================] - 0s 6ms/step - loss: 21.0247 - val_loss: 1.4132\n",
      "Epoch 27/100\n",
      "5/5 [==============================] - 0s 6ms/step - loss: 31.5372 - val_loss: 1.4320\n",
      "Epoch 28/100\n",
      "5/5 [==============================] - 0s 6ms/step - loss: 22.5664 - val_loss: 1.3893\n",
      "Epoch 29/100\n",
      "5/5 [==============================] - 0s 6ms/step - loss: 17.6306 - val_loss: 1.3926\n",
      "Epoch 30/100\n",
      "5/5 [==============================] - 0s 6ms/step - loss: 16.0348 - val_loss: 1.3667\n",
      "Epoch 31/100\n",
      "5/5 [==============================] - 0s 6ms/step - loss: 13.7206 - val_loss: 1.3342\n",
      "Epoch 32/100\n",
      "5/5 [==============================] - 0s 6ms/step - loss: 11.6312 - val_loss: 1.3606\n",
      "Epoch 33/100\n",
      "5/5 [==============================] - 0s 6ms/step - loss: 13.5192 - val_loss: 1.3406\n",
      "Epoch 34/100\n",
      "5/5 [==============================] - 0s 6ms/step - loss: 15.7577 - val_loss: 1.3119\n",
      "Epoch 35/100\n",
      "5/5 [==============================] - 0s 6ms/step - loss: 15.6521 - val_loss: 1.2786\n",
      "Epoch 36/100\n",
      "5/5 [==============================] - 0s 6ms/step - loss: 14.5000 - val_loss: 1.2655\n",
      "Epoch 37/100\n",
      "5/5 [==============================] - 0s 7ms/step - loss: 15.8705 - val_loss: 1.3416\n",
      "Epoch 38/100\n",
      "5/5 [==============================] - 0s 6ms/step - loss: 12.7496 - val_loss: 1.4385\n",
      "Epoch 39/100\n",
      "5/5 [==============================] - 0s 6ms/step - loss: 10.2081 - val_loss: 1.2671\n",
      "Epoch 40/100\n",
      "5/5 [==============================] - 0s 6ms/step - loss: 13.0735 - val_loss: 1.1321\n",
      "Epoch 41/100\n",
      "5/5 [==============================] - 0s 6ms/step - loss: 10.0415 - val_loss: 1.1057\n",
      "Epoch 42/100\n",
      "5/5 [==============================] - 0s 6ms/step - loss: 7.8378 - val_loss: 1.0832\n",
      "Epoch 43/100\n",
      "5/5 [==============================] - 0s 6ms/step - loss: 11.1240 - val_loss: 1.0926\n",
      "Epoch 44/100\n",
      "5/5 [==============================] - 0s 6ms/step - loss: 9.1690 - val_loss: 1.1227\n",
      "Epoch 45/100\n",
      "5/5 [==============================] - 0s 6ms/step - loss: 7.6239 - val_loss: 1.1083\n",
      "Epoch 46/100\n",
      "5/5 [==============================] - 0s 6ms/step - loss: 8.4469 - val_loss: 1.1265\n",
      "Epoch 47/100\n",
      "5/5 [==============================] - 0s 7ms/step - loss: 11.6263 - val_loss: 1.1315\n",
      "Epoch 48/100\n",
      "5/5 [==============================] - 0s 6ms/step - loss: 5.7940 - val_loss: 1.1941\n",
      "Epoch 49/100\n",
      "5/5 [==============================] - 0s 6ms/step - loss: 8.9635 - val_loss: 1.0893\n",
      "Epoch 50/100\n",
      "5/5 [==============================] - 0s 6ms/step - loss: 6.8163 - val_loss: 1.0720\n",
      "Epoch 51/100\n",
      "5/5 [==============================] - 0s 6ms/step - loss: 5.6225 - val_loss: 1.0722\n",
      "Epoch 52/100\n",
      "5/5 [==============================] - 0s 6ms/step - loss: 6.2747 - val_loss: 1.0402\n",
      "Epoch 53/100\n",
      "5/5 [==============================] - 0s 6ms/step - loss: 6.6380 - val_loss: 1.0275\n",
      "Epoch 54/100\n",
      "5/5 [==============================] - 0s 6ms/step - loss: 6.4381 - val_loss: 1.0557\n",
      "Epoch 55/100\n",
      "5/5 [==============================] - 0s 6ms/step - loss: 5.9281 - val_loss: 1.0576\n",
      "Epoch 56/100\n",
      "5/5 [==============================] - 0s 6ms/step - loss: 4.1287 - val_loss: 1.0457\n",
      "Epoch 57/100\n",
      "5/5 [==============================] - 0s 6ms/step - loss: 4.1676 - val_loss: 0.9855\n",
      "Epoch 58/100\n",
      "5/5 [==============================] - 0s 6ms/step - loss: 4.7848 - val_loss: 1.0131\n",
      "Epoch 59/100\n",
      "5/5 [==============================] - 0s 6ms/step - loss: 5.3766 - val_loss: 1.1352\n",
      "Epoch 60/100\n",
      "5/5 [==============================] - 0s 6ms/step - loss: 5.5347 - val_loss: 0.9856\n",
      "Epoch 61/100\n",
      "5/5 [==============================] - 0s 6ms/step - loss: 5.3786 - val_loss: 0.9782\n",
      "Epoch 62/100\n",
      "5/5 [==============================] - 0s 6ms/step - loss: 4.1371 - val_loss: 1.0167\n",
      "Epoch 63/100\n",
      "5/5 [==============================] - 0s 7ms/step - loss: 4.0265 - val_loss: 0.9847\n",
      "Epoch 64/100\n",
      "5/5 [==============================] - 0s 6ms/step - loss: 4.5584 - val_loss: 0.9485\n",
      "Epoch 65/100\n",
      "5/5 [==============================] - 0s 6ms/step - loss: 4.3902 - val_loss: 0.9433\n",
      "Epoch 66/100\n",
      "5/5 [==============================] - 0s 6ms/step - loss: 3.0942 - val_loss: 0.9402\n",
      "Epoch 67/100\n",
      "5/5 [==============================] - 0s 6ms/step - loss: 5.1378 - val_loss: 0.9383\n",
      "Epoch 68/100\n",
      "5/5 [==============================] - 0s 6ms/step - loss: 4.5167 - val_loss: 0.9427\n",
      "Epoch 69/100\n",
      "5/5 [==============================] - 0s 6ms/step - loss: 2.9638 - val_loss: 0.9407\n",
      "Epoch 70/100\n",
      "5/5 [==============================] - 0s 6ms/step - loss: 3.0264 - val_loss: 0.9371\n",
      "Epoch 71/100\n",
      "5/5 [==============================] - 0s 6ms/step - loss: 3.5900 - val_loss: 0.9393\n",
      "Epoch 72/100\n",
      "5/5 [==============================] - 0s 6ms/step - loss: 4.3303 - val_loss: 0.9605\n",
      "Epoch 73/100\n",
      "5/5 [==============================] - 0s 6ms/step - loss: 3.6313 - val_loss: 0.9518\n",
      "Epoch 74/100\n",
      "5/5 [==============================] - 0s 6ms/step - loss: 2.6402 - val_loss: 0.9538\n",
      "Epoch 75/100\n",
      "5/5 [==============================] - 0s 8ms/step - loss: 2.9933 - val_loss: 0.9902\n",
      "Epoch 76/100\n",
      "5/5 [==============================] - 0s 6ms/step - loss: 2.6807 - val_loss: 0.9706\n",
      "Epoch 77/100\n",
      "5/5 [==============================] - 0s 6ms/step - loss: 2.5072 - val_loss: 0.9459\n",
      "Epoch 78/100\n",
      "5/5 [==============================] - 0s 6ms/step - loss: 2.7025 - val_loss: 0.9460\n",
      "Epoch 79/100\n",
      "5/5 [==============================] - 0s 6ms/step - loss: 2.9067 - val_loss: 0.9585\n",
      "Epoch 80/100\n",
      "5/5 [==============================] - 0s 6ms/step - loss: 2.2888 - val_loss: 0.9637\n",
      "Epoch 81/100\n",
      "5/5 [==============================] - 0s 8ms/step - loss: 3.1057 - val_loss: 0.9545\n",
      "Epoch 82/100\n",
      "5/5 [==============================] - 0s 6ms/step - loss: 3.1253 - val_loss: 0.9559\n",
      "Epoch 83/100\n",
      "5/5 [==============================] - 0s 7ms/step - loss: 3.2706 - val_loss: 0.9867\n",
      "Epoch 84/100\n",
      "5/5 [==============================] - 0s 6ms/step - loss: 2.5929 - val_loss: 0.9804\n",
      "Epoch 85/100\n",
      "5/5 [==============================] - 0s 6ms/step - loss: 2.5256 - val_loss: 0.9553\n",
      "Epoch 86/100\n",
      "5/5 [==============================] - 0s 6ms/step - loss: 2.0183 - val_loss: 0.9539\n",
      "Epoch 87/100\n",
      "5/5 [==============================] - 0s 6ms/step - loss: 2.4633 - val_loss: 0.9597\n",
      "Epoch 88/100\n",
      "5/5 [==============================] - 0s 7ms/step - loss: 2.5825 - val_loss: 0.9757\n",
      "Epoch 89/100\n",
      "5/5 [==============================] - 0s 6ms/step - loss: 2.1027 - val_loss: 0.9581\n",
      "Epoch 90/100\n",
      "5/5 [==============================] - 0s 6ms/step - loss: 3.3073 - val_loss: 0.9575\n",
      "Epoch 91/100\n",
      "5/5 [==============================] - 0s 6ms/step - loss: 2.4870 - val_loss: 0.9550\n",
      "Epoch 92/100\n",
      "5/5 [==============================] - 0s 6ms/step - loss: 2.1058 - val_loss: 0.9543\n",
      "Epoch 93/100\n",
      "5/5 [==============================] - 0s 6ms/step - loss: 3.3533 - val_loss: 0.9701\n",
      "Epoch 94/100\n",
      "5/5 [==============================] - 0s 6ms/step - loss: 1.9717 - val_loss: 0.9604\n",
      "Epoch 95/100\n",
      "5/5 [==============================] - 0s 5ms/step - loss: 2.2042 - val_loss: 0.9546\n",
      "Epoch 96/100\n",
      "5/5 [==============================] - 0s 6ms/step - loss: 1.8065 - val_loss: 0.9561\n",
      "Epoch 97/100\n",
      "5/5 [==============================] - 0s 6ms/step - loss: 2.2894 - val_loss: 0.9560\n",
      "Epoch 98/100\n",
      "5/5 [==============================] - 0s 6ms/step - loss: 2.7144 - val_loss: 0.9679\n",
      "Epoch 99/100\n",
      "5/5 [==============================] - 0s 6ms/step - loss: 2.7304 - val_loss: 0.9770\n",
      "Epoch 100/100\n",
      "5/5 [==============================] - 0s 6ms/step - loss: 1.8859 - val_loss: 0.9753\n"
     ]
    }
   ],
   "source": [
    "epochs_hist = ANN_model.fit(train_x, train_y, epochs = 100, batch_size = 20, validation_split = 0.2)"
   ]
  },
  {
   "cell_type": "code",
   "execution_count": 103,
   "metadata": {},
   "outputs": [
    {
     "name": "stdout",
     "output_type": "stream",
     "text": [
      "1/1 [==============================] - 0s 16ms/step - loss: 0.9522\n",
      "Accuracy : 0.04775357246398926\n"
     ]
    }
   ],
   "source": [
    "result = ANN_model.evaluate(test_x, test_y)\n",
    "accuracy_ANN = 1 - result\n",
    "print(\"Accuracy : {}\".format(accuracy_ANN))"
   ]
  },
  {
   "cell_type": "code",
   "execution_count": 104,
   "metadata": {},
   "outputs": [
    {
     "data": {
      "text/plain": [
       "dict_keys(['loss', 'val_loss'])"
      ]
     },
     "execution_count": 104,
     "metadata": {},
     "output_type": "execute_result"
    }
   ],
   "source": [
    "epochs_hist.history.keys()"
   ]
  },
  {
   "cell_type": "code",
   "execution_count": 105,
   "metadata": {},
   "outputs": [
    {
     "data": {
      "text/plain": [
       "<matplotlib.legend.Legend at 0x17f87182df0>"
      ]
     },
     "execution_count": 105,
     "metadata": {},
     "output_type": "execute_result"
    },
    {
     "data": {
      "image/png": "[encoded data removed]",
      "text/plain": [
       "<Figure size 432x288 with 1 Axes>"
      ]
     },
     "metadata": {
      "needs_background": "light"
     },
     "output_type": "display_data"
    }
   ],
   "source": [
    "plt.plot(epochs_hist.history['loss'])\n",
    "plt.title('Model Loss Progress During Training')\n",
    "plt.xlabel('Epoch')\n",
    "plt.ylabel('Training Loss')\n",
    "plt.legend(['Training Loss'])"
   ]
  },
  {
   "cell_type": "markdown",
   "metadata": {},
   "source": [
    "# Decesion Tree Model"
   ]
  },
  {
   "cell_type": "code",
   "execution_count": 106,
   "metadata": {},
   "outputs": [
    {
     "data": {
      "text/plain": [
       "DecisionTreeRegressor()"
      ]
     },
     "execution_count": 106,
     "metadata": {},
     "output_type": "execute_result"
    }
   ],
   "source": [
    "# Decision tree builds regression or classification models in the form of a tree structure. \n",
    "# Decision tree breaks down a dataset into smaller subsets while at the same time an associated decision tree is incrementally developed. \n",
    "# The final result is a tree with decision nodes and leaf nodes.\n",
    "\n",
    "\n",
    "from sklearn.tree import DecisionTreeRegressor\n",
    "decisionTree_model = DecisionTreeRegressor()\n",
    "decisionTree_model.fit(train_x, train_y)"
   ]
  },
  {
   "cell_type": "code",
   "execution_count": 107,
   "metadata": {},
   "outputs": [
    {
     "name": "stdout",
     "output_type": "stream",
     "text": [
      "                   coefficient\n",
      "GRE Score             0.332001\n",
      "TOEFL Score           0.037783\n",
      "University Rating     0.296915\n",
      "CGPA                  0.231926\n",
      "Research              0.101375\n",
      "Feature: 0, Score: 0.33200\n",
      "Feature: 1, Score: 0.03778\n",
      "Feature: 2, Score: 0.29691\n",
      "Feature: 3, Score: 0.23193\n",
      "Feature: 4, Score: 0.10138\n"
     ]
    },
    {
     "data": {
      "image/png": "[encoded data removed]",
      "text/plain": [
       "<Figure size 432x288 with 1 Axes>"
      ]
     },
     "metadata": {
      "needs_background": "light"
     },
     "output_type": "display_data"
    }
   ],
   "source": [
    "#feature Importancce testing\n",
    "dfx = df.drop('Chance of Admit' , axis=1)\n",
    "importance = decisionTree_model.feature_importances_\n",
    "features = pd.DataFrame(importance, dfx.columns, columns=['coefficient'])\n",
    "print(features)\n",
    "for i,v in enumerate(importance):\n",
    "\tprint('Feature: %0d, Score: %.5f' % (i,v))\n",
    "# plot feature importance\n",
    "plt.bar([x for x in range(len(importance))], importance)\n",
    "plt.show()"
   ]
  },
  {
   "cell_type": "code",
   "execution_count": 108,
   "metadata": {},
   "outputs": [
    {
     "data": {
      "text/plain": [
       "0.05454545454545445"
      ]
     },
     "execution_count": 108,
     "metadata": {},
     "output_type": "execute_result"
    }
   ],
   "source": [
    "accuracy_decisionTree = decisionTree_model.score(test_x, test_y)\n",
    "accuracy_decisionTree"
   ]
  },
  {
   "cell_type": "markdown",
   "metadata": {},
   "source": [
    "# Random Forrest Model"
   ]
  },
  {
   "cell_type": "markdown",
   "metadata": {},
   "source": []
  },
  {
   "cell_type": "code",
   "execution_count": 109,
   "metadata": {},
   "outputs": [
    {
     "name": "stderr",
     "output_type": "stream",
     "text": [
      "C:\\Users\\mrhus\\AppData\\Local\\Temp/ipykernel_16464/2085754441.py:3: DataConversionWarning: A column-vector y was passed when a 1d array was expected. Please change the shape of y to (n_samples,), for example using ravel().\n",
      "  randomForest_model.fit(train_x, train_y)\n"
     ]
    },
    {
     "data": {
      "text/plain": [
       "0.4085236363636361"
      ]
     },
     "execution_count": 109,
     "metadata": {},
     "output_type": "execute_result"
    }
   ],
   "source": [
    "from sklearn.ensemble import RandomForestRegressor\n",
    "randomForest_model = RandomForestRegressor(n_estimators=100, max_depth=10)\n",
    "randomForest_model.fit(train_x, train_y)\n",
    "accuracy_randomforest = randomForest_model.score(test_x, test_y)\n",
    "accuracy_randomforest"
   ]
  },
  {
   "cell_type": "code",
   "execution_count": 110,
   "metadata": {},
   "outputs": [
    {
     "name": "stdout",
     "output_type": "stream",
     "text": [
      "                   coefficient\n",
      "GRE Score             0.339245\n",
      "TOEFL Score           0.127996\n",
      "University Rating     0.223136\n",
      "CGPA                  0.256137\n",
      "Research              0.053487\n",
      "Feature: 0, Score: 0.33924\n",
      "Feature: 1, Score: 0.12800\n",
      "Feature: 2, Score: 0.22314\n",
      "Feature: 3, Score: 0.25614\n",
      "Feature: 4, Score: 0.05349\n"
     ]
    },
    {
     "data": {
      "image/png": "[encoded data removed]",
      "text/plain": [
       "<Figure size 432x288 with 1 Axes>"
      ]
     },
     "metadata": {
      "needs_background": "light"
     },
     "output_type": "display_data"
    }
   ],
   "source": [
    "#feature Importancce testing\n",
    "dfx = df.drop('Chance of Admit' , axis=1)\n",
    "importance = randomForest_model.feature_importances_\n",
    "features = pd.DataFrame(importance, dfx.columns, columns=['coefficient'])\n",
    "print(features)\n",
    "for i,v in enumerate(importance):\n",
    "\tprint('Feature: %0d, Score: %.5f' % (i,v))\n",
    "# plot feature importance\n",
    "plt.bar([x for x in range(len(importance))], importance)\n",
    "plt.show()"
   ]
  },
  {
   "cell_type": "markdown",
   "metadata": {},
   "source": [
    "# Saving the model to the local file system"
   ]
  },
  {
   "cell_type": "code",
   "execution_count": 111,
   "metadata": {},
   "outputs": [
    {
     "data": {
      "text/plain": [
       "['filename.joblib']"
      ]
     },
     "execution_count": 111,
     "metadata": {},
     "output_type": "execute_result"
    }
   ],
   "source": [
    "#filename='finalized_model.pickle'\n",
    "#pickle.dump(reg,open(filename,'wb'))\n",
    "dump(randomForest_model, 'filename.joblib')"
   ]
  }
 ],
 "metadata": {
  "kernelspec": {
   "display_name": "Python 3",
   "language": "python",
   "name": "python3"
  },
  "language_info": {
   "codemirror_mode": {
    "name": "ipython",
    "version": 3
   },
   "file_extension": ".py",
   "mimetype": "text/x-python",
   "name": "python",
   "nbconvert_exporter": "python",
   "pygments_lexer": "ipython3",
   "version": "3.9.7"
  }
 },
 "nbformat": 4,
 "nbformat_minor": 2
}
