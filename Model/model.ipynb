{
 "cells": [
  {
   "cell_type": "markdown",
   "metadata": {},
   "source": [
    "### Problem Statement\n",
    "- ### The goal here is to find the chance of admission of a candidate based on his/her GRE score, TOEFL score, rating of the university in which he/she is trying to get admission,strength of the SOP,Strength of the letter of the recommendation, CGPA and the research experience\n"
   ]
  },
  {
   "cell_type": "markdown",
   "metadata": {},
   "source": [
    "# Data Preprocessing "
   ]
  },
  {
   "cell_type": "markdown",
   "metadata": {},
   "source": []
  },
  {
   "cell_type": "code",
   "execution_count": 30,
   "metadata": {},
   "outputs": [],
   "source": [
    "#importing libraries\n",
    "import pandas as pd\n",
    "import numpy as np\n",
    "import matplotlib.pyplot as plt\n",
    "import seaborn as sns\n",
    "from joblib import dump\n",
    "%matplotlib inline"
   ]
  },
  {
   "cell_type": "code",
   "execution_count": 31,
   "metadata": {},
   "outputs": [],
   "source": [
    "df=pd.read_csv(\"Admission_Prediction.csv\")  # importing the data set"
   ]
  },
  {
   "cell_type": "code",
   "execution_count": 32,
   "metadata": {},
   "outputs": [],
   "source": [
    "df.drop('Serial No.', axis=1, inplace=True)\n",
    "df.drop('SOP', axis=1, inplace=True)\n",
    "df.drop('LOR', axis=1, inplace=True)\n"
   ]
  },
  {
   "cell_type": "code",
   "execution_count": 33,
   "metadata": {},
   "outputs": [],
   "source": [
    "df['GRE Score'].fillna(df['GRE Score'].mode()[0],inplace=True)\n",
    "df['TOEFL Score'].fillna(df['TOEFL Score'].mode()[0],inplace=True)\n",
    "df['University Rating'].fillna(df['University Rating'].mean(),inplace=True)"
   ]
  },
  {
   "cell_type": "code",
   "execution_count": 34,
   "metadata": {},
   "outputs": [
    {
     "data": {
      "text/html": [
       "<div>\n",
       "<style scoped>\n",
       "    .dataframe tbody tr th:only-of-type {\n",
       "        vertical-align: middle;\n",
       "    }\n",
       "\n",
       "    .dataframe tbody tr th {\n",
       "        vertical-align: top;\n",
       "    }\n",
       "\n",
       "    .dataframe thead th {\n",
       "        text-align: right;\n",
       "    }\n",
       "</style>\n",
       "<table border=\"1\" class=\"dataframe\">\n",
       "  <thead>\n",
       "    <tr style=\"text-align: right;\">\n",
       "      <th></th>\n",
       "      <th>GRE Score</th>\n",
       "      <th>TOEFL Score</th>\n",
       "      <th>CGPA</th>\n",
       "      <th>Research</th>\n",
       "      <th>Chance of Admit</th>\n",
       "    </tr>\n",
       "    <tr>\n",
       "      <th>University Rating</th>\n",
       "      <th></th>\n",
       "      <th></th>\n",
       "      <th></th>\n",
       "      <th></th>\n",
       "      <th></th>\n",
       "    </tr>\n",
       "  </thead>\n",
       "  <tbody>\n",
       "    <tr>\n",
       "      <th>4.3</th>\n",
       "      <td>319.076923</td>\n",
       "      <td>109.000000</td>\n",
       "      <td>8.537692</td>\n",
       "      <td>0.692308</td>\n",
       "      <td>0.230769</td>\n",
       "    </tr>\n",
       "    <tr>\n",
       "      <th>7.0</th>\n",
       "      <td>323.250000</td>\n",
       "      <td>114.000000</td>\n",
       "      <td>8.667500</td>\n",
       "      <td>0.750000</td>\n",
       "      <td>0.500000</td>\n",
       "    </tr>\n",
       "    <tr>\n",
       "      <th>13.0</th>\n",
       "      <td>330.000000</td>\n",
       "      <td>111.000000</td>\n",
       "      <td>9.000000</td>\n",
       "      <td>1.000000</td>\n",
       "      <td>1.000000</td>\n",
       "    </tr>\n",
       "    <tr>\n",
       "      <th>15.0</th>\n",
       "      <td>317.000000</td>\n",
       "      <td>110.000000</td>\n",
       "      <td>8.880000</td>\n",
       "      <td>0.000000</td>\n",
       "      <td>0.000000</td>\n",
       "    </tr>\n",
       "    <tr>\n",
       "      <th>16.0</th>\n",
       "      <td>317.000000</td>\n",
       "      <td>110.000000</td>\n",
       "      <td>8.880000</td>\n",
       "      <td>0.000000</td>\n",
       "      <td>0.000000</td>\n",
       "    </tr>\n",
       "    <tr>\n",
       "      <th>17.5</th>\n",
       "      <td>317.833333</td>\n",
       "      <td>104.833333</td>\n",
       "      <td>8.973333</td>\n",
       "      <td>0.666667</td>\n",
       "      <td>0.500000</td>\n",
       "    </tr>\n",
       "    <tr>\n",
       "      <th>20.0</th>\n",
       "      <td>323.500000</td>\n",
       "      <td>110.500000</td>\n",
       "      <td>8.940000</td>\n",
       "      <td>0.000000</td>\n",
       "      <td>1.000000</td>\n",
       "    </tr>\n",
       "    <tr>\n",
       "      <th>29.9</th>\n",
       "      <td>314.692308</td>\n",
       "      <td>95.538462</td>\n",
       "      <td>8.346154</td>\n",
       "      <td>0.461538</td>\n",
       "      <td>0.461538</td>\n",
       "    </tr>\n",
       "    <tr>\n",
       "      <th>36.6</th>\n",
       "      <td>316.000000</td>\n",
       "      <td>107.833333</td>\n",
       "      <td>7.683333</td>\n",
       "      <td>0.333333</td>\n",
       "      <td>0.500000</td>\n",
       "    </tr>\n",
       "    <tr>\n",
       "      <th>38.4</th>\n",
       "      <td>306.285714</td>\n",
       "      <td>99.571429</td>\n",
       "      <td>6.808571</td>\n",
       "      <td>0.428571</td>\n",
       "      <td>0.285714</td>\n",
       "    </tr>\n",
       "    <tr>\n",
       "      <th>39.6</th>\n",
       "      <td>307.750000</td>\n",
       "      <td>103.750000</td>\n",
       "      <td>8.490000</td>\n",
       "      <td>0.500000</td>\n",
       "      <td>0.750000</td>\n",
       "    </tr>\n",
       "    <tr>\n",
       "      <th>42.0</th>\n",
       "      <td>302.750000</td>\n",
       "      <td>100.625000</td>\n",
       "      <td>8.218750</td>\n",
       "      <td>0.750000</td>\n",
       "      <td>0.500000</td>\n",
       "    </tr>\n",
       "    <tr>\n",
       "      <th>46.4</th>\n",
       "      <td>310.500000</td>\n",
       "      <td>105.666667</td>\n",
       "      <td>8.076667</td>\n",
       "      <td>0.500000</td>\n",
       "      <td>0.500000</td>\n",
       "    </tr>\n",
       "    <tr>\n",
       "      <th>47.0</th>\n",
       "      <td>317.000000</td>\n",
       "      <td>110.000000</td>\n",
       "      <td>8.880000</td>\n",
       "      <td>0.000000</td>\n",
       "      <td>1.000000</td>\n",
       "    </tr>\n",
       "    <tr>\n",
       "      <th>50.1</th>\n",
       "      <td>296.285714</td>\n",
       "      <td>97.428571</td>\n",
       "      <td>7.370000</td>\n",
       "      <td>0.571429</td>\n",
       "      <td>0.571429</td>\n",
       "    </tr>\n",
       "    <tr>\n",
       "      <th>55.9</th>\n",
       "      <td>296.000000</td>\n",
       "      <td>99.166667</td>\n",
       "      <td>7.318333</td>\n",
       "      <td>0.333333</td>\n",
       "      <td>0.500000</td>\n",
       "    </tr>\n",
       "    <tr>\n",
       "      <th>63.6</th>\n",
       "      <td>313.000000</td>\n",
       "      <td>104.000000</td>\n",
       "      <td>7.950000</td>\n",
       "      <td>0.500000</td>\n",
       "      <td>0.250000</td>\n",
       "    </tr>\n",
       "    <tr>\n",
       "      <th>65.8</th>\n",
       "      <td>288.666667</td>\n",
       "      <td>96.066667</td>\n",
       "      <td>7.646000</td>\n",
       "      <td>0.533333</td>\n",
       "      <td>0.466667</td>\n",
       "    </tr>\n",
       "    <tr>\n",
       "      <th>67.0</th>\n",
       "      <td>264.428571</td>\n",
       "      <td>104.000000</td>\n",
       "      <td>7.884286</td>\n",
       "      <td>0.571429</td>\n",
       "      <td>0.571429</td>\n",
       "    </tr>\n",
       "    <tr>\n",
       "      <th>68.5</th>\n",
       "      <td>300.666667</td>\n",
       "      <td>98.666667</td>\n",
       "      <td>8.040000</td>\n",
       "      <td>0.500000</td>\n",
       "      <td>0.500000</td>\n",
       "    </tr>\n",
       "    <tr>\n",
       "      <th>70.7</th>\n",
       "      <td>303.000000</td>\n",
       "      <td>100.833333</td>\n",
       "      <td>6.776667</td>\n",
       "      <td>0.500000</td>\n",
       "      <td>0.500000</td>\n",
       "    </tr>\n",
       "    <tr>\n",
       "      <th>71.0</th>\n",
       "      <td>301.285714</td>\n",
       "      <td>100.571429</td>\n",
       "      <td>7.160000</td>\n",
       "      <td>0.428571</td>\n",
       "      <td>0.571429</td>\n",
       "    </tr>\n",
       "    <tr>\n",
       "      <th>80.1</th>\n",
       "      <td>215.857143</td>\n",
       "      <td>90.428571</td>\n",
       "      <td>7.688571</td>\n",
       "      <td>0.571429</td>\n",
       "      <td>0.571429</td>\n",
       "    </tr>\n",
       "    <tr>\n",
       "      <th>82.3</th>\n",
       "      <td>292.000000</td>\n",
       "      <td>87.000000</td>\n",
       "      <td>7.900000</td>\n",
       "      <td>0.000000</td>\n",
       "      <td>0.333333</td>\n",
       "    </tr>\n",
       "    <tr>\n",
       "      <th>99.0</th>\n",
       "      <td>293.000000</td>\n",
       "      <td>92.000000</td>\n",
       "      <td>6.000000</td>\n",
       "      <td>0.000000</td>\n",
       "      <td>1.000000</td>\n",
       "    </tr>\n",
       "  </tbody>\n",
       "</table>\n",
       "</div>"
      ],
      "text/plain": [
       "                    GRE Score  TOEFL Score      CGPA  Research  \\\n",
       "University Rating                                                \n",
       "4.3                319.076923   109.000000  8.537692  0.692308   \n",
       "7.0                323.250000   114.000000  8.667500  0.750000   \n",
       "13.0               330.000000   111.000000  9.000000  1.000000   \n",
       "15.0               317.000000   110.000000  8.880000  0.000000   \n",
       "16.0               317.000000   110.000000  8.880000  0.000000   \n",
       "17.5               317.833333   104.833333  8.973333  0.666667   \n",
       "20.0               323.500000   110.500000  8.940000  0.000000   \n",
       "29.9               314.692308    95.538462  8.346154  0.461538   \n",
       "36.6               316.000000   107.833333  7.683333  0.333333   \n",
       "38.4               306.285714    99.571429  6.808571  0.428571   \n",
       "39.6               307.750000   103.750000  8.490000  0.500000   \n",
       "42.0               302.750000   100.625000  8.218750  0.750000   \n",
       "46.4               310.500000   105.666667  8.076667  0.500000   \n",
       "47.0               317.000000   110.000000  8.880000  0.000000   \n",
       "50.1               296.285714    97.428571  7.370000  0.571429   \n",
       "55.9               296.000000    99.166667  7.318333  0.333333   \n",
       "63.6               313.000000   104.000000  7.950000  0.500000   \n",
       "65.8               288.666667    96.066667  7.646000  0.533333   \n",
       "67.0               264.428571   104.000000  7.884286  0.571429   \n",
       "68.5               300.666667    98.666667  8.040000  0.500000   \n",
       "70.7               303.000000   100.833333  6.776667  0.500000   \n",
       "71.0               301.285714   100.571429  7.160000  0.428571   \n",
       "80.1               215.857143    90.428571  7.688571  0.571429   \n",
       "82.3               292.000000    87.000000  7.900000  0.000000   \n",
       "99.0               293.000000    92.000000  6.000000  0.000000   \n",
       "\n",
       "                   Chance of Admit  \n",
       "University Rating                   \n",
       "4.3                       0.230769  \n",
       "7.0                       0.500000  \n",
       "13.0                      1.000000  \n",
       "15.0                      0.000000  \n",
       "16.0                      0.000000  \n",
       "17.5                      0.500000  \n",
       "20.0                      1.000000  \n",
       "29.9                      0.461538  \n",
       "36.6                      0.500000  \n",
       "38.4                      0.285714  \n",
       "39.6                      0.750000  \n",
       "42.0                      0.500000  \n",
       "46.4                      0.500000  \n",
       "47.0                      1.000000  \n",
       "50.1                      0.571429  \n",
       "55.9                      0.500000  \n",
       "63.6                      0.250000  \n",
       "65.8                      0.466667  \n",
       "67.0                      0.571429  \n",
       "68.5                      0.500000  \n",
       "70.7                      0.500000  \n",
       "71.0                      0.571429  \n",
       "80.1                      0.571429  \n",
       "82.3                      0.333333  \n",
       "99.0                      1.000000  "
      ]
     },
     "execution_count": 34,
     "metadata": {},
     "output_type": "execute_result"
    }
   ],
   "source": [
    "df_university = df.groupby(by='University Rating').mean()\n",
    "df_university"
   ]
  },
  {
   "cell_type": "code",
   "execution_count": 35,
   "metadata": {},
   "outputs": [],
   "source": [
    "x=df.drop(['Chance of Admit'],axis=1)\n",
    "y=df['Chance of Admit']\n",
    "# here we are droping the Chance of Admit and serial no, as they are not going to be used for the features \n",
    "# Chance of Admit is the target column which shows the probalility of admission for a candidate."
   ]
  },
  {
   "cell_type": "code",
   "execution_count": 36,
   "metadata": {},
   "outputs": [
    {
     "data": {
      "text/html": [
       "<div>\n",
       "<style scoped>\n",
       "    .dataframe tbody tr th:only-of-type {\n",
       "        vertical-align: middle;\n",
       "    }\n",
       "\n",
       "    .dataframe tbody tr th {\n",
       "        vertical-align: top;\n",
       "    }\n",
       "\n",
       "    .dataframe thead th {\n",
       "        text-align: right;\n",
       "    }\n",
       "</style>\n",
       "<table border=\"1\" class=\"dataframe\">\n",
       "  <thead>\n",
       "    <tr style=\"text-align: right;\">\n",
       "      <th></th>\n",
       "      <th>GRE Score</th>\n",
       "      <th>TOEFL Score</th>\n",
       "      <th>University Rating</th>\n",
       "      <th>CGPA</th>\n",
       "      <th>Research</th>\n",
       "    </tr>\n",
       "  </thead>\n",
       "  <tbody>\n",
       "    <tr>\n",
       "      <th>0</th>\n",
       "      <td>317</td>\n",
       "      <td>110</td>\n",
       "      <td>4.3</td>\n",
       "      <td>8.88</td>\n",
       "      <td>0</td>\n",
       "    </tr>\n",
       "    <tr>\n",
       "      <th>1</th>\n",
       "      <td>332</td>\n",
       "      <td>110</td>\n",
       "      <td>4.3</td>\n",
       "      <td>8.74</td>\n",
       "      <td>1</td>\n",
       "    </tr>\n",
       "    <tr>\n",
       "      <th>2</th>\n",
       "      <td>333</td>\n",
       "      <td>113</td>\n",
       "      <td>4.3</td>\n",
       "      <td>9.45</td>\n",
       "      <td>1</td>\n",
       "    </tr>\n",
       "    <tr>\n",
       "      <th>3</th>\n",
       "      <td>338</td>\n",
       "      <td>118</td>\n",
       "      <td>4.3</td>\n",
       "      <td>9.09</td>\n",
       "      <td>1</td>\n",
       "    </tr>\n",
       "    <tr>\n",
       "      <th>4</th>\n",
       "      <td>300</td>\n",
       "      <td>90</td>\n",
       "      <td>4.3</td>\n",
       "      <td>8.20</td>\n",
       "      <td>1</td>\n",
       "    </tr>\n",
       "  </tbody>\n",
       "</table>\n",
       "</div>"
      ],
      "text/plain": [
       "   GRE Score  TOEFL Score  University Rating  CGPA  Research\n",
       "0        317          110                4.3  8.88         0\n",
       "1        332          110                4.3  8.74         1\n",
       "2        333          113                4.3  9.45         1\n",
       "3        338          118                4.3  9.09         1\n",
       "4        300           90                4.3  8.20         1"
      ]
     },
     "execution_count": 36,
     "metadata": {},
     "output_type": "execute_result"
    }
   ],
   "source": [
    "x.head() # checking the transformed feature column"
   ]
  },
  {
   "cell_type": "code",
   "execution_count": 37,
   "metadata": {},
   "outputs": [
    {
     "data": {
      "text/plain": [
       "(142, 1)"
      ]
     },
     "execution_count": 37,
     "metadata": {},
     "output_type": "execute_result"
    }
   ],
   "source": [
    "x = np.array(x)\n",
    "y = np.array(y)\n",
    "y = y.reshape(-1,1)\n",
    "y.shape"
   ]
  },
  {
   "cell_type": "code",
   "execution_count": 38,
   "metadata": {},
   "outputs": [
    {
     "data": {
      "text/plain": [
       "array([[ 3.21499003e-01,  5.92944357e-01, -1.78623133e+00,\n",
       "         1.01620604e+00, -1.01418511e+00],\n",
       "       [ 6.07186478e-01,  5.92944357e-01, -1.78623133e+00,\n",
       "         8.69590348e-01,  9.86013297e-01],\n",
       "       [ 6.26232310e-01,  7.92308442e-01, -1.78623133e+00,\n",
       "         1.61314135e+00,  9.86013297e-01],\n",
       "       [ 7.21461468e-01,  1.12458192e+00, -1.78623133e+00,\n",
       "         1.23612958e+00,  9.86013297e-01],\n",
       "       [-2.28013477e-03, -7.36149545e-01, -1.78623133e+00,\n",
       "         3.04072683e-01,  9.86013297e-01],\n",
       "       [-2.28013477e-03, -7.16025940e-02, -1.78623133e+00,\n",
       "        -5.96566562e-01,  9.86013297e-01],\n",
       "       [-4.03717981e-02, -7.16025940e-02, -1.78623133e+00,\n",
       "        -5.96566562e-01, -1.01418511e+00],\n",
       "       [ 3.78636498e-01,  5.92944357e-01, -1.78623133e+00,\n",
       "         6.18249164e-01,  9.86013297e-01],\n",
       "       [ 3.97682330e-01,  9.91672528e-01, -1.78623133e+00,\n",
       "         7.96282503e-01, -1.01418511e+00],\n",
       "       [ 2.26269845e-01,  1.12458192e+00, -1.78623133e+00,\n",
       "         9.46216960e-02,  9.86013297e-01],\n",
       "       [ 5.69094815e-01,  6.59399052e-01, -1.78623133e+00,\n",
       "         1.14187663e+00, -1.01418511e+00],\n",
       "       [ 3.21499003e-01,  5.92944357e-01, -1.78623133e+00,\n",
       "         9.11480546e-01,  9.86013297e-01],\n",
       "       [ 5.69094815e-01,  6.59399052e-01, -1.78623133e+00,\n",
       "         1.14187663e+00,  9.86013297e-01],\n",
       "       [ 5.69094815e-01,  6.59399052e-01, -1.67198642e+00,\n",
       "         1.14187663e+00,  9.86013297e-01],\n",
       "       [ 5.69094815e-01,  6.59399052e-01, -1.67198642e+00,\n",
       "         1.14187663e+00,  9.86013297e-01],\n",
       "       [ 3.97682330e-01,  9.91672528e-01, -1.67198642e+00,\n",
       "         7.96282503e-01, -1.01418511e+00],\n",
       "       [ 2.26269845e-01,  1.12458192e+00, -1.67198642e+00,\n",
       "         9.46216960e-02,  9.86013297e-01],\n",
       "       [ 5.69094815e-01,  6.59399052e-01, -1.41810885e+00,\n",
       "         1.14187663e+00,  9.86013297e-01],\n",
       "       [ 3.21499003e-01,  5.92944357e-01, -1.33348299e+00,\n",
       "         1.01620604e+00, -1.01418511e+00],\n",
       "       [ 3.21499003e-01,  5.92944357e-01, -1.29117007e+00,\n",
       "         1.01620604e+00, -1.01418511e+00],\n",
       "       [ 6.64323973e-01,  9.25217832e-01, -1.22770067e+00,\n",
       "         2.00062568e+00,  9.86013297e-01],\n",
       "       [ 4.73865656e-01,  5.92944357e-01, -1.22770067e+00,\n",
       "         2.10535117e+00,  9.86013297e-01],\n",
       "       [ 5.11957320e-01,  4.60034967e-01, -1.22770067e+00,\n",
       "         1.56077861e+00,  9.86013297e-01],\n",
       "       [ 1.31040687e-01, -4.70330765e-01, -1.22770067e+00,\n",
       "        -6.38456759e-01,  9.86013297e-01],\n",
       "       [ 2.45315677e-01,  3.93580272e-01, -1.22770067e+00,\n",
       "         8.27700151e-01, -1.01418511e+00],\n",
       "       [-2.28013477e-03, -4.03876069e-01, -1.22770067e+00,\n",
       "         8.27700151e-01, -1.01418511e+00],\n",
       "       [ 5.69094815e-01,  6.59399052e-01, -1.12191835e+00,\n",
       "         1.14187663e+00, -1.01418511e+00],\n",
       "       [ 3.21499003e-01,  5.92944357e-01, -1.12191835e+00,\n",
       "         1.01620604e+00, -1.01418511e+00],\n",
       "       [ 3.59590667e-01,  9.91672528e-01, -7.03020364e-01,\n",
       "         1.73881195e+00, -1.01418511e+00],\n",
       "       [ 3.59590667e-01,  1.19103661e+00, -7.03020364e-01,\n",
       "         1.04762369e+00,  9.86013297e-01],\n",
       "       [ 4.92911488e-01,  2.60670881e-01, -7.03020364e-01,\n",
       "         1.06856879e+00, -1.01418511e+00],\n",
       "       [ 9.29490235e-02, -1.06842302e+00, -7.03020364e-01,\n",
       "         7.22974657e-01, -1.01418511e+00],\n",
       "       [ 4.54819825e-01,  2.60670881e-01, -7.03020364e-01,\n",
       "        -5.33731265e-01, -1.01418511e+00],\n",
       "       [-2.13259664e-02,  3.27125577e-01, -7.03020364e-01,\n",
       "        -3.66170476e-01,  9.86013297e-01],\n",
       "       [ 3.21499003e-01, -7.16025940e-02, -7.03020364e-01,\n",
       "         2.30764838e-01,  9.86013297e-01],\n",
       "       [ 3.97682330e-01, -7.16025940e-02, -7.03020364e-01,\n",
       "        -1.35774390e-01,  9.86013297e-01],\n",
       "       [ 3.59590667e-01,  3.93580272e-01, -7.03020364e-01,\n",
       "         5.34468769e-01, -1.01418511e+00],\n",
       "       [ 9.29490235e-02, -1.06842302e+00, -7.03020364e-01,\n",
       "         1.14187663e+00, -1.01418511e+00],\n",
       "       [ 1.88178182e-01,  4.60034967e-01, -7.03020364e-01,\n",
       "        -6.38456759e-01,  9.86013297e-01],\n",
       "       [ 2.83407340e-01, -6.71707210e+00, -7.03020364e-01,\n",
       "         1.45605311e+00, -1.01418511e+00],\n",
       "       [ 2.26269845e-01,  3.27125577e-01, -7.03020364e-01,\n",
       "        -3.24280278e-01,  9.86013297e-01],\n",
       "       [ 3.78636498e-01,  7.25853747e-01, -4.19523744e-01,\n",
       "        -2.19554785e-01,  9.86013297e-01],\n",
       "       [ 4.16728161e-01,  3.93580272e-01, -4.19523744e-01,\n",
       "        -5.33731265e-01,  9.86013297e-01],\n",
       "       [ 3.97682330e-01,  1.12458192e+00, -4.19523744e-01,\n",
       "         9.95260941e-01, -1.01418511e+00],\n",
       "       [ 2.64361508e-01,  7.25853747e-01, -4.19523744e-01,\n",
       "        -1.66476660e+00, -1.01418511e+00],\n",
       "       [ 2.07224013e-01,  3.93580272e-01, -4.19523744e-01,\n",
       "        -6.17511660e-01, -1.01418511e+00],\n",
       "       [ 1.50086518e-01, -6.69694850e-01, -4.19523744e-01,\n",
       "         6.18249164e-01, -1.01418511e+00],\n",
       "       [ 2.26269845e-01, -3.37421374e-01, -3.43360473e-01,\n",
       "        -1.88137137e-01, -1.01418511e+00],\n",
       "       [ 3.78636498e-01,  6.59399052e-01, -3.43360473e-01,\n",
       "        -1.16208423e+00,  9.86013297e-01],\n",
       "       [ 1.11994855e-01, -2.04511984e-01, -3.43360473e-01,\n",
       "        -1.01037976e-02, -1.01418511e+00],\n",
       "       [-1.16555125e-01, -1.06842302e+00, -3.43360473e-01,\n",
       "        -1.47626071e+00,  9.86013297e-01],\n",
       "       [ 1.69132350e-01,  4.60034967e-01, -3.43360473e-01,\n",
       "        -1.65429405e+00,  9.86013297e-01],\n",
       "       [-1.16555125e-01, -1.38057289e-01, -3.43360473e-01,\n",
       "        -9.52633240e-01, -1.01418511e+00],\n",
       "       [ 1.69132350e-01, -7.16025940e-02, -3.43360473e-01,\n",
       "        -2.62824114e+00, -1.01418511e+00],\n",
       "       [ 7.39031918e-02,  1.27761491e-01, -2.92584960e-01,\n",
       "         8.48645250e-01,  9.86013297e-01],\n",
       "       [ 3.78636498e-01,  1.12458192e+00, -2.92584960e-01,\n",
       "         1.22565703e+00, -1.01418511e+00],\n",
       "       [ 1.88178182e-01, -5.14789892e-03, -2.92584960e-01,\n",
       "         9.46216960e-02,  9.86013297e-01],\n",
       "       [-5.94176297e-02, -5.36785460e-01, -2.92584960e-01,\n",
       "         2.62182486e-01, -1.01418511e+00],\n",
       "       [ 1.50086518e-01,  5.92944357e-01, -1.91033932e-01,\n",
       "         1.16282173e+00,  9.86013297e-01],\n",
       "       [-3.45105104e-01,  2.60670881e-01, -1.91033932e-01,\n",
       "        -4.60423420e-01,  9.86013297e-01],\n",
       "       [ 3.58115285e-02,  2.60670881e-01, -1.91033932e-01,\n",
       "         1.99347190e-01,  9.86013297e-01],\n",
       "       [ 2.64361508e-01,  6.59399052e-01, -1.91033932e-01,\n",
       "         8.27700151e-01,  9.86013297e-01],\n",
       "       [ 2.26269845e-01,  6.13067962e-02, -1.91033932e-01,\n",
       "         1.99347190e-01, -1.01418511e+00],\n",
       "       [ 1.88178182e-01, -4.03876069e-01, -1.91033932e-01,\n",
       "         1.99347190e-01,  9.86013297e-01],\n",
       "       [-7.84634614e-02, -1.26778711e+00, -1.91033932e-01,\n",
       "         8.27700151e-01, -1.01418511e+00],\n",
       "       [-4.03717981e-02, -4.03876069e-01, -1.91033932e-01,\n",
       "        -3.66170476e-01,  9.86013297e-01],\n",
       "       [ 3.97682330e-01,  4.60034967e-01, -4.85704740e-03,\n",
       "         2.13138505e-02,  9.86013297e-01],\n",
       "       [ 3.40544835e-01,  5.92944357e-01, -4.85704740e-03,\n",
       "         3.56435430e-01, -1.01418511e+00],\n",
       "       [ 3.02453172e-01,  5.92944357e-01, -4.85704740e-03,\n",
       "         1.24660213e+00, -1.01418511e+00],\n",
       "       [ 1.88178182e-01,  6.13067962e-02, -4.85704740e-03,\n",
       "        -9.52633240e-01, -1.01418511e+00],\n",
       "       [-2.28013477e-03,  2.60670881e-01, -4.85704740e-03,\n",
       "        -2.19554785e-01,  9.86013297e-01],\n",
       "       [-4.03717981e-02, -1.38057289e-01, -4.85704740e-03,\n",
       "         5.97304065e-01,  9.86013297e-01],\n",
       "       [ 3.21499003e-01,  5.92944357e-01,  2.05307096e-02,\n",
       "         1.01620604e+00, -1.01418511e+00],\n",
       "       [-2.28013477e-03, -7.16025940e-02,  1.51700787e-01,\n",
       "        -8.58380296e-01,  9.86013297e-01],\n",
       "       [ 1.67656969e-02, -4.70330765e-01,  1.51700787e-01,\n",
       "        -1.14829291e-01, -1.01418511e+00],\n",
       "       [-2.30830115e-01, -7.16025940e-02,  1.51700787e-01,\n",
       "        -3.66170476e-01, -1.01418511e+00],\n",
       "       [-1.92738451e-01, -4.03876069e-01,  1.51700787e-01,\n",
       "        -1.16208423e+00,  9.86013297e-01],\n",
       "       [-2.30830115e-01, -2.04511984e-01,  1.51700787e-01,\n",
       "        -3.66170476e-01, -1.01418511e+00],\n",
       "       [-5.94176297e-02, -2.04511984e-01,  1.51700787e-01,\n",
       "         6.32040479e-02,  9.86013297e-01],\n",
       "       [ 1.88178182e-01, -2.70966679e-01,  1.51700787e-01,\n",
       "        -1.15161168e+00,  9.86013297e-01],\n",
       "       [ 2.83407340e-01,  2.60670881e-01,  3.97115771e-01,\n",
       "        -1.01037976e-02, -1.01418511e+00],\n",
       "       [-5.94176297e-02, -4.03876069e-01,  3.97115771e-01,\n",
       "        -4.29005772e-01,  9.86013297e-01],\n",
       "       [-1.54646788e-01, -7.16025940e-02,  3.97115771e-01,\n",
       "         1.99347190e-01,  9.86013297e-01],\n",
       "       [-2.11784283e-01, -7.16025940e-02,  3.97115771e-01,\n",
       "        -1.05735873e+00, -1.01418511e+00],\n",
       "       [-4.03717981e-02, -4.03876069e-01,  3.97115771e-01,\n",
       "        -1.26680972e+00, -1.01418511e+00],\n",
       "       [-2.87967609e-01, -7.16025940e-02,  3.97115771e-01,\n",
       "        -1.15161168e+00, -1.01418511e+00],\n",
       "       [ 5.31003151e-01,  5.92944357e-01,  7.22925319e-01,\n",
       "        -1.56719489e-01, -1.01418511e+00],\n",
       "       [ 2.45315677e-01, -7.16025940e-02,  7.22925319e-01,\n",
       "        -1.14829291e-01,  9.86013297e-01],\n",
       "       [ 1.67656969e-02, -3.37421374e-01,  7.22925319e-01,\n",
       "         5.03051121e-01,  9.86013297e-01],\n",
       "       [ 1.88178182e-01,  5.92944357e-01,  7.22925319e-01,\n",
       "        -6.24665444e-02, -1.01418511e+00],\n",
       "       [ 3.58115285e-02, -2.04511984e-01,  8.16013761e-01,\n",
       "         1.72833940e+00, -1.01418511e+00],\n",
       "       [ 2.26269845e-01,  2.60670881e-01,  8.16013761e-01,\n",
       "         9.46216960e-02, -1.01418511e+00],\n",
       "       [ 3.02453172e-01,  5.26489662e-01,  8.16013761e-01,\n",
       "        -5.54676364e-01, -1.01418511e+00],\n",
       "       [ 1.31040687e-01,  2.60670881e-01,  8.16013761e-01,\n",
       "         2.20292288e-01, -1.01418511e+00],\n",
       "       [ 1.88178182e-01,  6.13067962e-02,  8.16013761e-01,\n",
       "        -1.43437051e+00, -1.01418511e+00],\n",
       "       [ 1.11994855e-01,  7.25853747e-01,  8.16013761e-01,\n",
       "        -6.07039111e-01,  9.86013297e-01],\n",
       "       [-4.03717981e-02,  2.60670881e-01,  8.16013761e-01,\n",
       "         9.46216960e-02,  9.86013297e-01],\n",
       "       [ 2.26269845e-01,  7.25853747e-01,  8.16013761e-01,\n",
       "        -1.54956855e+00,  9.86013297e-01],\n",
       "       [ 3.02453172e-01, -6.71707210e+00,  8.16013761e-01,\n",
       "         8.27700151e-01,  9.86013297e-01],\n",
       "       [ 1.88178182e-01,  5.92944357e-01,  8.16013761e-01,\n",
       "         8.27700151e-01,  9.86013297e-01],\n",
       "       [ 3.78636498e-01, -1.06842302e+00,  8.16013761e-01,\n",
       "        -3.24280278e-01,  9.86013297e-01],\n",
       "       [ 1.50086518e-01, -1.06842302e+00,  8.16013761e-01,\n",
       "        -5.33731265e-01, -1.01418511e+00],\n",
       "       [-5.71602963e+00,  2.60670881e-01,  8.16013761e-01,\n",
       "        -7.85072450e-01,  9.86013297e-01],\n",
       "       [ 5.48573602e-02,  1.94216186e-01,  8.16013761e-01,\n",
       "        -1.25633717e+00, -1.01418511e+00],\n",
       "       [ 1.88178182e-01,  1.94216186e-01,  8.16013761e-01,\n",
       "        -8.89797944e-01,  9.86013297e-01],\n",
       "       [ 2.64361508e-01,  9.25217832e-01,  8.66789275e-01,\n",
       "         6.60139361e-01, -1.01418511e+00],\n",
       "       [ 1.88178182e-01, -1.38057289e-01,  8.66789275e-01,\n",
       "         1.44558056e+00,  9.86013297e-01],\n",
       "       [ 2.64361508e-01,  6.59399052e-01,  8.66789275e-01,\n",
       "         1.34085507e+00, -1.01418511e+00],\n",
       "       [ 5.48573602e-02, -8.02604240e-01,  8.66789275e-01,\n",
       "        -6.59401858e-01,  9.86013297e-01],\n",
       "       [ 1.11994855e-01,  2.60670881e-01,  8.66789275e-01,\n",
       "        -8.79325394e-01,  9.86013297e-01],\n",
       "       [-5.71602963e+00,  2.60670881e-01,  8.66789275e-01,\n",
       "        -9.38841925e-02,  9.86013297e-01],\n",
       "       [ 7.39031918e-02,  1.94216186e-01,  8.66789275e-01,\n",
       "        -1.99988818e+00, -1.01418511e+00],\n",
       "       [ 1.69132350e-01, -7.16025940e-02,  9.30258667e-01,\n",
       "         1.99347190e-01,  9.86013297e-01],\n",
       "       [ 1.31040687e-01, -2.04511984e-01,  9.30258667e-01,\n",
       "         7.22974657e-01, -1.01418511e+00],\n",
       "       [ 3.97682330e-01,  4.60034967e-01,  9.30258667e-01,\n",
       "         4.08798177e-01,  9.86013297e-01],\n",
       "       [-3.45105104e-01, -4.03876069e-01,  9.30258667e-01,\n",
       "        -9.52633240e-01,  9.86013297e-01],\n",
       "       [-9.75092930e-02, -4.03876069e-01,  9.30258667e-01,\n",
       "         3.56435430e-01, -1.01418511e+00],\n",
       "       [-1.92738451e-01, -3.37421374e-01,  9.30258667e-01,\n",
       "         8.41491466e-02, -1.01418511e+00],\n",
       "       [ 4.73865656e-01, -7.16025940e-02,  1.02334711e+00,\n",
       "         8.27700151e-01, -1.01418511e+00],\n",
       "       [ 1.67656969e-02, -7.16025940e-02,  1.02334711e+00,\n",
       "        -9.94523437e-01,  9.86013297e-01],\n",
       "       [-1.16555125e-01,  2.60670881e-01,  1.02334711e+00,\n",
       "        -6.07039111e-01,  9.86013297e-01],\n",
       "       [-9.75092930e-02, -4.03876069e-01,  1.02334711e+00,\n",
       "        -2.97383527e+00, -1.01418511e+00],\n",
       "       [-2.28013477e-03,  5.92944357e-01,  1.02334711e+00,\n",
       "        -2.62824114e+00, -1.01418511e+00],\n",
       "       [ 5.48573602e-02, -4.03876069e-01,  1.02334711e+00,\n",
       "        -7.43182253e-01,  9.86013297e-01],\n",
       "       [ 1.88178182e-01,  2.60670881e-01,  1.03604099e+00,\n",
       "        -1.37153521e+00,  9.86013297e-01],\n",
       "       [-2.13259664e-02,  6.59399052e-01,  1.03604099e+00,\n",
       "        -1.14829291e-01,  9.86013297e-01],\n",
       "       [ 4.16728161e-01, -6.03240155e-01,  1.03604099e+00,\n",
       "         5.86831516e-01, -1.01418511e+00],\n",
       "       [-2.28013477e-03, -2.04511984e-01,  1.03604099e+00,\n",
       "        -7.22237154e-01, -1.01418511e+00],\n",
       "       [-2.11784283e-01, -2.04511984e-01,  1.03604099e+00,\n",
       "        -1.54956855e+00, -1.01418511e+00],\n",
       "       [-4.02242599e-01,  2.60670881e-01,  1.03604099e+00,\n",
       "        -9.42160690e-01,  9.86013297e-01],\n",
       "       [ 1.88178182e-01, -4.03876069e-01,  1.03604099e+00,\n",
       "        -1.38200776e+00, -1.01418511e+00],\n",
       "       [ 1.69132350e-01,  2.60670881e-01,  1.42108863e+00,\n",
       "        -4.29005772e-01,  9.86013297e-01],\n",
       "       [ 3.58115285e-02, -1.06842302e+00,  1.42108863e+00,\n",
       "         7.33447207e-01, -1.01418511e+00],\n",
       "       [-4.03717981e-02, -8.69058935e-01,  1.42108863e+00,\n",
       "         9.11480546e-01,  9.86013297e-01],\n",
       "       [-2.28013477e-03, -1.06842302e+00,  1.42108863e+00,\n",
       "        -1.04356742e-01,  9.86013297e-01],\n",
       "       [ 3.58115285e-02,  6.13067962e-02,  1.42108863e+00,\n",
       "        -2.29311956e+00, -1.01418511e+00],\n",
       "       [-5.71602963e+00, -2.06524345e+00,  1.42108863e+00,\n",
       "        -3.24280278e-01, -1.01418511e+00],\n",
       "       [-5.71602963e+00, -2.04511984e-01,  1.42108863e+00,\n",
       "        -1.14829291e-01,  9.86013297e-01],\n",
       "       [-1.92738451e-01, -7.36149545e-01,  1.51417708e+00,\n",
       "        -4.29005772e-01, -1.01418511e+00],\n",
       "       [-2.13259664e-02, -7.36149545e-01,  1.51417708e+00,\n",
       "         5.13523670e-01, -1.01418511e+00],\n",
       "       [-2.49875946e-01, -1.33424180e+00,  1.51417708e+00,\n",
       "        -1.14829291e-01, -1.01418511e+00],\n",
       "       [-1.35600956e-01, -6.03240155e-01,  2.22080298e+00,\n",
       "        -1.99988818e+00, -1.01418511e+00]])"
      ]
     },
     "execution_count": 38,
     "metadata": {},
     "output_type": "execute_result"
    }
   ],
   "source": [
    "# to be only used if you want to scale the data,standize the data,if the variation is huge in the dataset\n",
    "# when we have huge variation in the data set\n",
    "# i am not changing the data , i am changing the scale only like taking logs, sqrt--not changing the actual meaning of the data set\n",
    "# variance betweeen the dataset become very low\n",
    "# machine will understand in better way this data  as having low variance in the data set\n",
    "\n",
    "from sklearn.preprocessing import StandardScaler\n",
    "scaler_feature=StandardScaler()\n",
    "scaler_lablel=StandardScaler()\n",
    "scaled_data=scaler_feature.fit_transform(x)\n",
    "scaler_y = StandardScaler()\n",
    "y = scaler_y.fit_transform(y)\n",
    "scaled_data"
   ]
  },
  {
   "cell_type": "code",
   "execution_count": 39,
   "metadata": {},
   "outputs": [],
   "source": [
    "#splitting the data into training and testing sets\n",
    "from sklearn.model_selection import train_test_split\n",
    "train_x,test_x,train_y,test_y=train_test_split(x,y,test_size=0.33,random_state=100)\n",
    "# finding mi c1 , m2 c2,..... "
   ]
  },
  {
   "cell_type": "code",
   "execution_count": 40,
   "metadata": {},
   "outputs": [
    {
     "data": {
      "text/plain": [
       "LinearRegression()"
      ]
     },
     "execution_count": 40,
     "metadata": {},
     "output_type": "execute_result"
    }
   ],
   "source": [
    "# fitting the data to the linear regression model\n",
    "from sklearn import linear_model\n",
    "from sklearn.linear_model import LinearRegression\n",
    "from sklearn.metrics import mean_squared_error, accuracy_score\n",
    "reg=linear_model.LinearRegression()\n",
    "reg.fit(train_x,train_y)"
   ]
  },
  {
   "cell_type": "code",
   "execution_count": 41,
   "metadata": {},
   "outputs": [
    {
     "data": {
      "text/plain": [
       "-0.5721252162349213"
      ]
     },
     "execution_count": 41,
     "metadata": {},
     "output_type": "execute_result"
    }
   ],
   "source": [
    "# calc the accuracy of the model\n",
    "from sklearn.metrics import r2_score\n",
    "score=r2_score(reg.predict(test_x),test_y)\n",
    "score"
   ]
  },
  {
   "cell_type": "code",
   "execution_count": 42,
   "metadata": {},
   "outputs": [
    {
     "name": "stdout",
     "output_type": "stream",
     "text": [
      "                   coefficient\n",
      "GRE Score             0.005972\n",
      "TOEFL Score           0.010743\n",
      "University Rating     0.020667\n",
      "CGPA                  0.521159\n",
      "Research              0.711443\n",
      "Feature: 0, Score: 0.00597\n",
      "Feature: 1, Score: 0.01074\n",
      "Feature: 2, Score: 0.02067\n",
      "Feature: 3, Score: 0.52116\n",
      "Feature: 4, Score: 0.71144\n"
     ]
    },
    {
     "data": {
      "image/png": "[encoded data removed]",
      "text/plain": [
       "<Figure size 432x288 with 1 Axes>"
      ]
     },
     "metadata": {
      "needs_background": "light"
     },
     "output_type": "display_data"
    }
   ],
   "source": [
    "intercept = reg.intercept_\n",
    "dfx = df.drop('Chance of Admit' , axis=1)\n",
    "importance = reg.coef_[0]\n",
    "features = pd.DataFrame(importance, dfx.columns, columns=['coefficient'])\n",
    "print(features)\n",
    "for i,v in enumerate(importance):\n",
    "\tprint('Feature: %0d, Score: %.5f' % (i,v))\n",
    "# plot feature importance\n",
    "plt.bar([x for x in range(len(importance))], importance)\n",
    "plt.show()"
   ]
  },
  {
   "cell_type": "code",
   "execution_count": 43,
   "metadata": {},
   "outputs": [],
   "source": [
    "#splitting the data into training and testing sets\n",
    "from sklearn.model_selection import train_test_split\n",
    "train_x,test_x,train_y,test_y=train_test_split(x,y,test_size=0.01,random_state=100)\n",
    "# finding mi c1 , m2 c2,..... "
   ]
  },
  {
   "cell_type": "code",
   "execution_count": 44,
   "metadata": {},
   "outputs": [
    {
     "data": {
      "text/plain": [
       "LinearRegression()"
      ]
     },
     "execution_count": 44,
     "metadata": {},
     "output_type": "execute_result"
    }
   ],
   "source": [
    "# fitting the data to the linear regression model\n",
    "from sklearn import linear_model\n",
    "from sklearn.linear_model import LinearRegression\n",
    "reg=linear_model.LinearRegression()\n",
    "reg.fit(train_x,train_y)"
   ]
  },
  {
   "cell_type": "code",
   "execution_count": 45,
   "metadata": {},
   "outputs": [
    {
     "data": {
      "text/plain": [
       "-0.7888646858055886"
      ]
     },
     "execution_count": 45,
     "metadata": {},
     "output_type": "execute_result"
    }
   ],
   "source": [
    "# calc the accuracy of the model\n",
    "from sklearn.metrics import r2_score\n",
    "score=r2_score(reg.predict(test_x),test_y)\n",
    "score"
   ]
  },
  {
   "cell_type": "markdown",
   "metadata": {},
   "source": [
    "# ANN Model"
   ]
  },
  {
   "cell_type": "code",
   "execution_count": 46,
   "metadata": {},
   "outputs": [],
   "source": [
    "import tensorflow as tf\n",
    "from tensorflow import keras\n",
    "#tf.keras.layers.Dense\n",
    "from tensorflow.keras.layers import Dense, Activation, Dropout\n",
    "from tensorflow.keras.optimizers import Adam\n",
    "#opt = keras.optimizers.Adam(learning_rate=0.01)\n"
   ]
  },
  {
   "cell_type": "code",
   "execution_count": 47,
   "metadata": {},
   "outputs": [
    {
     "name": "stdout",
     "output_type": "stream",
     "text": [
      "Model: \"sequential_1\"\n",
      "_________________________________________________________________\n",
      " Layer (type)                Output Shape              Param #   \n",
      "=================================================================\n",
      " dense_5 (Dense)             (None, 50)                300       \n",
      "                                                                 \n",
      " activation_4 (Activation)   (None, 50)                0         \n",
      "                                                                 \n",
      " dense_6 (Dense)             (None, 150)               7650      \n",
      "                                                                 \n",
      " activation_5 (Activation)   (None, 150)               0         \n",
      "                                                                 \n",
      " dropout_2 (Dropout)         (None, 150)               0         \n",
      "                                                                 \n",
      " dense_7 (Dense)             (None, 150)               22650     \n",
      "                                                                 \n",
      " activation_6 (Activation)   (None, 150)               0         \n",
      "                                                                 \n",
      " dropout_3 (Dropout)         (None, 150)               0         \n",
      "                                                                 \n",
      " dense_8 (Dense)             (None, 50)                7550      \n",
      "                                                                 \n",
      " activation_7 (Activation)   (None, 50)                0         \n",
      "                                                                 \n",
      " dense_9 (Dense)             (None, 1)                 51        \n",
      "                                                                 \n",
      "=================================================================\n",
      "Total params: 38,201\n",
      "Trainable params: 38,201\n",
      "Non-trainable params: 0\n",
      "_________________________________________________________________\n"
     ]
    }
   ],
   "source": [
    "ANN_model = keras.Sequential()\n",
    "ANN_model.add(Dense(50, input_dim = 5))\n",
    "ANN_model.add(Activation('relu'))\n",
    "ANN_model.add(Dense(150))\n",
    "ANN_model.add(Activation('relu'))\n",
    "ANN_model.add(Dropout(0.5))\n",
    "ANN_model.add(Dense(150))\n",
    "ANN_model.add(Activation('relu'))\n",
    "ANN_model.add(Dropout(0.5))\n",
    "ANN_model.add(Dense(50))\n",
    "ANN_model.add(Activation('linear'))\n",
    "ANN_model.add(Dense(1))\n",
    "ANN_model.compile(loss = 'mean_squared_error', optimizer = 'adam')\n",
    "ANN_model.summary()"
   ]
  },
  {
   "cell_type": "code",
   "execution_count": 48,
   "metadata": {},
   "outputs": [],
   "source": [
    "ANN_model.compile(optimizer='adam', loss='mean_squared_error')"
   ]
  },
  {
   "cell_type": "code",
   "execution_count": 49,
   "metadata": {},
   "outputs": [
    {
     "name": "stdout",
     "output_type": "stream",
     "text": [
      "Epoch 1/100\n",
      "6/6 [==============================] - 1s 28ms/step - loss: 1355.8209 - val_loss: 6.1519\n",
      "Epoch 2/100\n",
      "6/6 [==============================] - 0s 6ms/step - loss: 922.3366 - val_loss: 16.6332\n",
      "Epoch 3/100\n",
      "6/6 [==============================] - 0s 6ms/step - loss: 575.3069 - val_loss: 11.7152\n",
      "Epoch 4/100\n",
      "6/6 [==============================] - 0s 6ms/step - loss: 298.9996 - val_loss: 1.6015\n",
      "Epoch 5/100\n",
      "6/6 [==============================] - 0s 9ms/step - loss: 174.2974 - val_loss: 1.6504\n",
      "Epoch 6/100\n",
      "6/6 [==============================] - 0s 7ms/step - loss: 107.6642 - val_loss: 1.5138\n",
      "Epoch 7/100\n",
      "6/6 [==============================] - 0s 8ms/step - loss: 88.4880 - val_loss: 2.7899\n",
      "Epoch 8/100\n",
      "6/6 [==============================] - 0s 7ms/step - loss: 45.9630 - val_loss: 6.3357\n",
      "Epoch 9/100\n",
      "6/6 [==============================] - 0s 6ms/step - loss: 38.3168 - val_loss: 1.6999\n",
      "Epoch 10/100\n",
      "6/6 [==============================] - 0s 7ms/step - loss: 23.6462 - val_loss: 1.2973\n",
      "Epoch 11/100\n",
      "6/6 [==============================] - 0s 7ms/step - loss: 38.1789 - val_loss: 1.0436\n",
      "Epoch 12/100\n",
      "6/6 [==============================] - 0s 8ms/step - loss: 33.0279 - val_loss: 1.9978\n",
      "Epoch 13/100\n",
      "6/6 [==============================] - 0s 7ms/step - loss: 22.6284 - val_loss: 1.2856\n",
      "Epoch 14/100\n",
      "6/6 [==============================] - 0s 6ms/step - loss: 16.0825 - val_loss: 1.1711\n",
      "Epoch 15/100\n",
      "6/6 [==============================] - 0s 6ms/step - loss: 12.7598 - val_loss: 1.1636\n",
      "Epoch 16/100\n",
      "6/6 [==============================] - 0s 7ms/step - loss: 14.7802 - val_loss: 1.0767\n",
      "Epoch 17/100\n",
      "6/6 [==============================] - 0s 8ms/step - loss: 14.9881 - val_loss: 1.2244\n",
      "Epoch 18/100\n",
      "6/6 [==============================] - 0s 7ms/step - loss: 11.8150 - val_loss: 1.3092\n",
      "Epoch 19/100\n",
      "6/6 [==============================] - 0s 9ms/step - loss: 7.9961 - val_loss: 1.3911\n",
      "Epoch 20/100\n",
      "6/6 [==============================] - 0s 6ms/step - loss: 9.5450 - val_loss: 1.3155\n",
      "Epoch 21/100\n",
      "6/6 [==============================] - 0s 7ms/step - loss: 6.0929 - val_loss: 1.4115\n",
      "Epoch 22/100\n",
      "6/6 [==============================] - 0s 7ms/step - loss: 6.5059 - val_loss: 1.1429\n",
      "Epoch 23/100\n",
      "6/6 [==============================] - 0s 8ms/step - loss: 7.4930 - val_loss: 1.0889\n",
      "Epoch 24/100\n",
      "6/6 [==============================] - 0s 7ms/step - loss: 6.1757 - val_loss: 2.1073\n",
      "Epoch 25/100\n",
      "6/6 [==============================] - 0s 8ms/step - loss: 6.4551 - val_loss: 1.4614\n",
      "Epoch 26/100\n",
      "6/6 [==============================] - 0s 6ms/step - loss: 4.7045 - val_loss: 1.1876\n",
      "Epoch 27/100\n",
      "6/6 [==============================] - 0s 10ms/step - loss: 4.7285 - val_loss: 1.0555\n",
      "Epoch 28/100\n",
      "6/6 [==============================] - 0s 9ms/step - loss: 6.6477 - val_loss: 1.2417\n",
      "Epoch 29/100\n",
      "6/6 [==============================] - 0s 8ms/step - loss: 5.4981 - val_loss: 1.2405\n",
      "Epoch 30/100\n",
      "6/6 [==============================] - 0s 8ms/step - loss: 5.2096 - val_loss: 1.0077\n",
      "Epoch 31/100\n",
      "6/6 [==============================] - 0s 6ms/step - loss: 4.5000 - val_loss: 1.0594\n",
      "Epoch 32/100\n",
      "6/6 [==============================] - 0s 6ms/step - loss: 4.6956 - val_loss: 1.0586\n",
      "Epoch 33/100\n",
      "6/6 [==============================] - 0s 7ms/step - loss: 3.6812 - val_loss: 1.0382\n",
      "Epoch 34/100\n",
      "6/6 [==============================] - 0s 9ms/step - loss: 4.7780 - val_loss: 1.0559\n",
      "Epoch 35/100\n",
      "6/6 [==============================] - 0s 8ms/step - loss: 3.7875 - val_loss: 0.9948\n",
      "Epoch 36/100\n",
      "6/6 [==============================] - 0s 10ms/step - loss: 3.1224 - val_loss: 1.0183\n",
      "Epoch 37/100\n",
      "6/6 [==============================] - 0s 7ms/step - loss: 3.3710 - val_loss: 1.0049\n",
      "Epoch 38/100\n",
      "6/6 [==============================] - 0s 6ms/step - loss: 2.8330 - val_loss: 1.0082\n",
      "Epoch 39/100\n",
      "6/6 [==============================] - 0s 7ms/step - loss: 2.9899 - val_loss: 0.9957\n",
      "Epoch 40/100\n",
      "6/6 [==============================] - 0s 9ms/step - loss: 3.1628 - val_loss: 0.9936\n",
      "Epoch 41/100\n",
      "6/6 [==============================] - 0s 7ms/step - loss: 2.9400 - val_loss: 0.9944\n",
      "Epoch 42/100\n",
      "6/6 [==============================] - 0s 6ms/step - loss: 3.0680 - val_loss: 1.0526\n",
      "Epoch 43/100\n",
      "6/6 [==============================] - 0s 7ms/step - loss: 3.5780 - val_loss: 1.0016\n",
      "Epoch 44/100\n",
      "6/6 [==============================] - 0s 7ms/step - loss: 3.1649 - val_loss: 1.0030\n",
      "Epoch 45/100\n",
      "6/6 [==============================] - 0s 9ms/step - loss: 2.8458 - val_loss: 1.0286\n",
      "Epoch 46/100\n",
      "6/6 [==============================] - 0s 9ms/step - loss: 2.4870 - val_loss: 1.0179\n",
      "Epoch 47/100\n",
      "6/6 [==============================] - 0s 14ms/step - loss: 2.5766 - val_loss: 1.0175\n",
      "Epoch 48/100\n",
      "6/6 [==============================] - 0s 9ms/step - loss: 2.8286 - val_loss: 1.0154\n",
      "Epoch 49/100\n",
      "6/6 [==============================] - 0s 8ms/step - loss: 1.8317 - val_loss: 1.0609\n",
      "Epoch 50/100\n",
      "6/6 [==============================] - 0s 7ms/step - loss: 2.3982 - val_loss: 1.0011\n",
      "Epoch 51/100\n",
      "6/6 [==============================] - 0s 10ms/step - loss: 1.9436 - val_loss: 1.0030\n",
      "Epoch 52/100\n",
      "6/6 [==============================] - 0s 9ms/step - loss: 2.3010 - val_loss: 1.0183\n",
      "Epoch 53/100\n",
      "6/6 [==============================] - 0s 11ms/step - loss: 1.9757 - val_loss: 1.0102\n",
      "Epoch 54/100\n",
      "6/6 [==============================] - 0s 7ms/step - loss: 1.9344 - val_loss: 0.9998\n",
      "Epoch 55/100\n",
      "6/6 [==============================] - 0s 8ms/step - loss: 1.9907 - val_loss: 1.0103\n",
      "Epoch 56/100\n",
      "6/6 [==============================] - 0s 8ms/step - loss: 1.6964 - val_loss: 0.9990\n",
      "Epoch 57/100\n",
      "6/6 [==============================] - 0s 9ms/step - loss: 1.7275 - val_loss: 0.9986\n",
      "Epoch 58/100\n",
      "6/6 [==============================] - 0s 13ms/step - loss: 1.8350 - val_loss: 1.0087\n",
      "Epoch 59/100\n",
      "6/6 [==============================] - 0s 9ms/step - loss: 1.8122 - val_loss: 1.0274\n",
      "Epoch 60/100\n",
      "6/6 [==============================] - 0s 11ms/step - loss: 1.7270 - val_loss: 1.0517\n",
      "Epoch 61/100\n",
      "6/6 [==============================] - 0s 9ms/step - loss: 1.6766 - val_loss: 1.0049\n",
      "Epoch 62/100\n",
      "6/6 [==============================] - 0s 10ms/step - loss: 1.8025 - val_loss: 1.0257\n",
      "Epoch 63/100\n",
      "6/6 [==============================] - 0s 9ms/step - loss: 1.8289 - val_loss: 1.0640\n",
      "Epoch 64/100\n",
      "6/6 [==============================] - 0s 8ms/step - loss: 2.0963 - val_loss: 1.0143\n",
      "Epoch 65/100\n",
      "6/6 [==============================] - 0s 7ms/step - loss: 1.8759 - val_loss: 1.0394\n",
      "Epoch 66/100\n",
      "6/6 [==============================] - 0s 10ms/step - loss: 1.8444 - val_loss: 1.0620\n",
      "Epoch 67/100\n",
      "6/6 [==============================] - 0s 23ms/step - loss: 1.9445 - val_loss: 1.0170\n",
      "Epoch 68/100\n",
      "6/6 [==============================] - 0s 20ms/step - loss: 1.4265 - val_loss: 1.0033\n",
      "Epoch 69/100\n",
      "6/6 [==============================] - 0s 11ms/step - loss: 1.5516 - val_loss: 0.9995\n",
      "Epoch 70/100\n",
      "6/6 [==============================] - 0s 7ms/step - loss: 1.2598 - val_loss: 1.0003\n",
      "Epoch 71/100\n",
      "6/6 [==============================] - 0s 8ms/step - loss: 1.5034 - val_loss: 1.0260\n",
      "Epoch 72/100\n",
      "6/6 [==============================] - 0s 11ms/step - loss: 1.1887 - val_loss: 1.0073\n",
      "Epoch 73/100\n",
      "6/6 [==============================] - 0s 13ms/step - loss: 1.5435 - val_loss: 1.0044\n",
      "Epoch 74/100\n",
      "6/6 [==============================] - 0s 10ms/step - loss: 1.4045 - val_loss: 1.0340\n",
      "Epoch 75/100\n",
      "6/6 [==============================] - 0s 7ms/step - loss: 1.2926 - val_loss: 0.9994\n",
      "Epoch 76/100\n",
      "6/6 [==============================] - 0s 7ms/step - loss: 1.7093 - val_loss: 1.0348\n",
      "Epoch 77/100\n",
      "6/6 [==============================] - 0s 6ms/step - loss: 1.3565 - val_loss: 1.0518\n",
      "Epoch 78/100\n",
      "6/6 [==============================] - 0s 6ms/step - loss: 1.3825 - val_loss: 1.0679\n",
      "Epoch 79/100\n",
      "6/6 [==============================] - 0s 10ms/step - loss: 1.5630 - val_loss: 1.0510\n",
      "Epoch 80/100\n",
      "6/6 [==============================] - 0s 10ms/step - loss: 1.6693 - val_loss: 1.0070\n",
      "Epoch 81/100\n",
      "6/6 [==============================] - 0s 7ms/step - loss: 1.6014 - val_loss: 1.0029\n",
      "Epoch 82/100\n",
      "6/6 [==============================] - 0s 6ms/step - loss: 1.0903 - val_loss: 1.0423\n",
      "Epoch 83/100\n",
      "6/6 [==============================] - 0s 7ms/step - loss: 1.5288 - val_loss: 1.0600\n",
      "Epoch 84/100\n",
      "6/6 [==============================] - 0s 8ms/step - loss: 1.2390 - val_loss: 1.0081\n",
      "Epoch 85/100\n",
      "6/6 [==============================] - 0s 9ms/step - loss: 1.3237 - val_loss: 1.0297\n",
      "Epoch 86/100\n",
      "6/6 [==============================] - 0s 7ms/step - loss: 1.2874 - val_loss: 1.0070\n",
      "Epoch 87/100\n",
      "6/6 [==============================] - 0s 6ms/step - loss: 1.2756 - val_loss: 1.0086\n",
      "Epoch 88/100\n",
      "6/6 [==============================] - 0s 6ms/step - loss: 1.6923 - val_loss: 1.0191\n",
      "Epoch 89/100\n",
      "6/6 [==============================] - 0s 7ms/step - loss: 1.5429 - val_loss: 1.0089\n",
      "Epoch 90/100\n",
      "6/6 [==============================] - 0s 10ms/step - loss: 1.3560 - val_loss: 1.0038\n",
      "Epoch 91/100\n",
      "6/6 [==============================] - 0s 8ms/step - loss: 1.3925 - val_loss: 1.0016\n",
      "Epoch 92/100\n",
      "6/6 [==============================] - 0s 9ms/step - loss: 1.1905 - val_loss: 1.0055\n",
      "Epoch 93/100\n",
      "6/6 [==============================] - 0s 14ms/step - loss: 1.4483 - val_loss: 1.0084\n",
      "Epoch 94/100\n",
      "6/6 [==============================] - 0s 9ms/step - loss: 1.1880 - val_loss: 1.0074\n",
      "Epoch 95/100\n",
      "6/6 [==============================] - 0s 8ms/step - loss: 1.3005 - val_loss: 1.0084\n",
      "Epoch 96/100\n",
      "6/6 [==============================] - 0s 9ms/step - loss: 1.2427 - val_loss: 1.0793\n",
      "Epoch 97/100\n",
      "6/6 [==============================] - 0s 6ms/step - loss: 1.4649 - val_loss: 1.0016\n",
      "Epoch 98/100\n",
      "6/6 [==============================] - 0s 7ms/step - loss: 1.2789 - val_loss: 1.0106\n",
      "Epoch 99/100\n",
      "6/6 [==============================] - 0s 8ms/step - loss: 1.3754 - val_loss: 1.0204\n",
      "Epoch 100/100\n",
      "6/6 [==============================] - 0s 11ms/step - loss: 1.3550 - val_loss: 1.0125\n"
     ]
    }
   ],
   "source": [
    "epochs_hist = ANN_model.fit(train_x, train_y, epochs = 100, batch_size = 20, validation_split = 0.2)"
   ]
  },
  {
   "cell_type": "code",
   "execution_count": 50,
   "metadata": {},
   "outputs": [
    {
     "name": "stdout",
     "output_type": "stream",
     "text": [
      "1/1 [==============================] - 0s 34ms/step - loss: 1.0452\n",
      "Accuracy : -0.045213937759399414\n"
     ]
    }
   ],
   "source": [
    "result = ANN_model.evaluate(test_x, test_y)\n",
    "accuracy_ANN = 1 - result\n",
    "print(\"Accuracy : {}\".format(accuracy_ANN))"
   ]
  },
  {
   "cell_type": "code",
   "execution_count": 51,
   "metadata": {},
   "outputs": [
    {
     "data": {
      "text/plain": [
       "dict_keys(['loss', 'val_loss'])"
      ]
     },
     "execution_count": 51,
     "metadata": {},
     "output_type": "execute_result"
    }
   ],
   "source": [
    "epochs_hist.history.keys()"
   ]
  },
  {
   "cell_type": "code",
   "execution_count": 52,
   "metadata": {},
   "outputs": [
    {
     "data": {
      "text/plain": [
       "<matplotlib.legend.Legend at 0x200b3519e20>"
      ]
     },
     "execution_count": 52,
     "metadata": {},
     "output_type": "execute_result"
    },
    {
     "data": {
      "image/png": "[encoded data removed]",
      "text/plain": [
       "<Figure size 432x288 with 1 Axes>"
      ]
     },
     "metadata": {
      "needs_background": "light"
     },
     "output_type": "display_data"
    }
   ],
   "source": [
    "plt.plot(epochs_hist.history['loss'])\n",
    "plt.title('Model Loss Progress During Training')\n",
    "plt.xlabel('Epoch')\n",
    "plt.ylabel('Training Loss')\n",
    "plt.legend(['Training Loss'])"
   ]
  },
  {
   "cell_type": "markdown",
   "metadata": {},
   "source": [
    "# Decesion Tree Model"
   ]
  },
  {
   "cell_type": "code",
   "execution_count": 53,
   "metadata": {},
   "outputs": [
    {
     "data": {
      "text/plain": [
       "DecisionTreeRegressor()"
      ]
     },
     "execution_count": 53,
     "metadata": {},
     "output_type": "execute_result"
    }
   ],
   "source": [
    "# Decision tree builds regression or classification models in the form of a tree structure. \n",
    "# Decision tree breaks down a dataset into smaller subsets while at the same time an associated decision tree is incrementally developed. \n",
    "# The final result is a tree with decision nodes and leaf nodes.\n",
    "\n",
    "\n",
    "from sklearn.tree import DecisionTreeRegressor\n",
    "decisionTree_model = DecisionTreeRegressor()\n",
    "decisionTree_model.fit(train_x, train_y)"
   ]
  },
  {
   "cell_type": "code",
   "execution_count": 54,
   "metadata": {},
   "outputs": [
    {
     "name": "stdout",
     "output_type": "stream",
     "text": [
      "                   coefficient\n",
      "GRE Score             0.351924\n",
      "TOEFL Score           0.092115\n",
      "University Rating     0.269976\n",
      "CGPA                  0.246157\n",
      "Research              0.039828\n",
      "Feature: 0, Score: 0.35192\n",
      "Feature: 1, Score: 0.09211\n",
      "Feature: 2, Score: 0.26998\n",
      "Feature: 3, Score: 0.24616\n",
      "Feature: 4, Score: 0.03983\n"
     ]
    },
    {
     "data": {
      "image/png": "[encoded data removed]",
      "text/plain": [
       "<Figure size 432x288 with 1 Axes>"
      ]
     },
     "metadata": {
      "needs_background": "light"
     },
     "output_type": "display_data"
    }
   ],
   "source": [
    "#feature Importancce testing\n",
    "dfx = df.drop('Chance of Admit' , axis=1)\n",
    "importance = decisionTree_model.feature_importances_\n",
    "features = pd.DataFrame(importance, dfx.columns, columns=['coefficient'])\n",
    "print(features)\n",
    "for i,v in enumerate(importance):\n",
    "\tprint('Feature: %0d, Score: %.5f' % (i,v))\n",
    "# plot feature importance\n",
    "plt.bar([x for x in range(len(importance))], importance)\n",
    "plt.show()"
   ]
  },
  {
   "cell_type": "code",
   "execution_count": 55,
   "metadata": {},
   "outputs": [
    {
     "data": {
      "text/plain": [
       "0.0"
      ]
     },
     "execution_count": 55,
     "metadata": {},
     "output_type": "execute_result"
    }
   ],
   "source": [
    "accuracy_decisionTree = decisionTree_model.score(test_x, test_y)\n",
    "accuracy_decisionTree"
   ]
  },
  {
   "cell_type": "markdown",
   "metadata": {},
   "source": [
    "# Random Forrest Model"
   ]
  },
  {
   "cell_type": "markdown",
   "metadata": {},
   "source": []
  },
  {
   "cell_type": "code",
   "execution_count": 56,
   "metadata": {},
   "outputs": [
    {
     "name": "stderr",
     "output_type": "stream",
     "text": [
      "C:\\Users\\mrhus\\AppData\\Local\\Temp/ipykernel_1384/2085754441.py:3: DataConversionWarning: A column-vector y was passed when a 1d array was expected. Please change the shape of y to (n_samples,), for example using ravel().\n",
      "  randomForest_model.fit(train_x, train_y)\n"
     ]
    },
    {
     "data": {
      "text/plain": [
       "0.0"
      ]
     },
     "execution_count": 56,
     "metadata": {},
     "output_type": "execute_result"
    }
   ],
   "source": [
    "from sklearn.ensemble import RandomForestRegressor\n",
    "randomForest_model = RandomForestRegressor(n_estimators=100, max_depth=10)\n",
    "randomForest_model.fit(train_x, train_y)\n",
    "accuracy_randomforest = randomForest_model.score(test_x, test_y)\n",
    "accuracy_randomforest"
   ]
  },
  {
   "cell_type": "code",
   "execution_count": 57,
   "metadata": {},
   "outputs": [
    {
     "name": "stdout",
     "output_type": "stream",
     "text": [
      "                   coefficient\n",
      "GRE Score             0.335993\n",
      "TOEFL Score           0.106569\n",
      "University Rating     0.255471\n",
      "CGPA                  0.253954\n",
      "Research              0.048013\n",
      "Feature: 0, Score: 0.33599\n",
      "Feature: 1, Score: 0.10657\n",
      "Feature: 2, Score: 0.25547\n",
      "Feature: 3, Score: 0.25395\n",
      "Feature: 4, Score: 0.04801\n"
     ]
    },
    {
     "data": {
      "image/png": "[encoded data removed]",
      "text/plain": [
       "<Figure size 432x288 with 1 Axes>"
      ]
     },
     "metadata": {
      "needs_background": "light"
     },
     "output_type": "display_data"
    }
   ],
   "source": [
    "#feature Importancce testing\n",
    "dfx = df.drop('Chance of Admit' , axis=1)\n",
    "importance = randomForest_model.feature_importances_\n",
    "features = pd.DataFrame(importance, dfx.columns, columns=['coefficient'])\n",
    "print(features)\n",
    "for i,v in enumerate(importance):\n",
    "\tprint('Feature: %0d, Score: %.5f' % (i,v))\n",
    "# plot feature importance\n",
    "plt.bar([x for x in range(len(importance))], importance)\n",
    "plt.show()"
   ]
  },
  {
   "cell_type": "markdown",
   "metadata": {},
   "source": [
    "# Saving the model to the local file system"
   ]
  },
  {
   "cell_type": "code",
   "execution_count": 58,
   "metadata": {},
   "outputs": [
    {
     "data": {
      "text/plain": [
       "['filename.joblib']"
      ]
     },
     "execution_count": 58,
     "metadata": {},
     "output_type": "execute_result"
    }
   ],
   "source": [
    "#filename='finalized_model.pickle'\n",
    "#pickle.dump(reg,open(filename,'wb'))\n",
    "dump(randomForest_model, 'filename.joblib')"
   ]
  }
 ],
 "metadata": {
  "kernelspec": {
   "display_name": "Python 3",
   "language": "python",
   "name": "python3"
  },
  "language_info": {
   "codemirror_mode": {
    "name": "ipython",
    "version": 3
   },
   "file_extension": ".py",
   "mimetype": "text/x-python",
   "name": "python",
   "nbconvert_exporter": "python",
   "pygments_lexer": "ipython3",
   "version": "3.9.7"
  }
 },
 "nbformat": 4,
 "nbformat_minor": 2
}
