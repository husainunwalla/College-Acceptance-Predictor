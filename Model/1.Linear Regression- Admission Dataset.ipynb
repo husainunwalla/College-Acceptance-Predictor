{
 "cells": [
  {
   "cell_type": "code",
   "execution_count": 167,
   "metadata": {},
   "outputs": [],
   "source": [
    "# admission data set \n",
    "# supervised learning - have both x and y value"
   ]
  },
  {
   "cell_type": "markdown",
   "metadata": {},
   "source": [
    "### Problem Statement\n",
    "- ### The goal here is to find the chance of admission of a candidate based on his/her GRE score, TOEFL score, rating of the university in which he/she is trying to get admission,strength of the SOP,Strength of the letter of the recommendation, CGPA and the research experience"
   ]
  },
  {
   "cell_type": "code",
   "execution_count": 168,
   "metadata": {},
   "outputs": [],
   "source": [
    "#importing libraries\n",
    "import pandas as pd\n",
    "import numpy as np\n",
    "import matplotlib.pyplot as plt\n",
    "import pickle\n",
    "import seaborn as sns\n",
    "from joblib import dump\n",
    "%matplotlib inline"
   ]
  },
  {
   "cell_type": "code",
   "execution_count": 169,
   "metadata": {},
   "outputs": [],
   "source": [
    "df=pd.read_csv(\"Admission_Prediction.csv\")  # importing the data set"
   ]
  },
  {
   "cell_type": "code",
   "execution_count": 170,
   "metadata": {},
   "outputs": [],
   "source": [
    "df.drop('Serial No.', axis=1, inplace=True)\n"
   ]
  },
  {
   "cell_type": "code",
   "execution_count": 171,
   "metadata": {},
   "outputs": [],
   "source": [
    "df['GRE Score'].fillna(df['GRE Score'].mode()[0],inplace=True)\n",
    "df['TOEFL Score'].fillna(df['TOEFL Score'].mode()[0],inplace=True)\n",
    "df['University Rating'].fillna(df['University Rating'].mean(),inplace=True)"
   ]
  },
  {
   "cell_type": "code",
   "execution_count": 172,
   "metadata": {},
   "outputs": [
    {
     "data": {
      "text/html": [
       "<div>\n",
       "<style scoped>\n",
       "    .dataframe tbody tr th:only-of-type {\n",
       "        vertical-align: middle;\n",
       "    }\n",
       "\n",
       "    .dataframe tbody tr th {\n",
       "        vertical-align: top;\n",
       "    }\n",
       "\n",
       "    .dataframe thead th {\n",
       "        text-align: right;\n",
       "    }\n",
       "</style>\n",
       "<table border=\"1\" class=\"dataframe\">\n",
       "  <thead>\n",
       "    <tr style=\"text-align: right;\">\n",
       "      <th></th>\n",
       "      <th>GRE Score</th>\n",
       "      <th>TOEFL Score</th>\n",
       "      <th>SOP</th>\n",
       "      <th>LOR</th>\n",
       "      <th>CGPA</th>\n",
       "      <th>Research</th>\n",
       "      <th>Chance of Admit</th>\n",
       "    </tr>\n",
       "    <tr>\n",
       "      <th>University Rating</th>\n",
       "      <th></th>\n",
       "      <th></th>\n",
       "      <th></th>\n",
       "      <th></th>\n",
       "      <th></th>\n",
       "      <th></th>\n",
       "      <th></th>\n",
       "    </tr>\n",
       "  </thead>\n",
       "  <tbody>\n",
       "    <tr>\n",
       "      <th>4.3</th>\n",
       "      <td>317.0</td>\n",
       "      <td>110.0</td>\n",
       "      <td>3.000000</td>\n",
       "      <td>3.000000</td>\n",
       "      <td>8.88</td>\n",
       "      <td>0.0</td>\n",
       "      <td>0.000000</td>\n",
       "    </tr>\n",
       "    <tr>\n",
       "      <th>15.0</th>\n",
       "      <td>317.0</td>\n",
       "      <td>110.0</td>\n",
       "      <td>3.000000</td>\n",
       "      <td>3.000000</td>\n",
       "      <td>8.88</td>\n",
       "      <td>0.0</td>\n",
       "      <td>0.000000</td>\n",
       "    </tr>\n",
       "    <tr>\n",
       "      <th>16.0</th>\n",
       "      <td>317.0</td>\n",
       "      <td>110.0</td>\n",
       "      <td>3.000000</td>\n",
       "      <td>3.000000</td>\n",
       "      <td>8.88</td>\n",
       "      <td>0.0</td>\n",
       "      <td>0.000000</td>\n",
       "    </tr>\n",
       "    <tr>\n",
       "      <th>20.0</th>\n",
       "      <td>317.0</td>\n",
       "      <td>110.0</td>\n",
       "      <td>3.000000</td>\n",
       "      <td>3.000000</td>\n",
       "      <td>8.88</td>\n",
       "      <td>0.0</td>\n",
       "      <td>1.000000</td>\n",
       "    </tr>\n",
       "    <tr>\n",
       "      <th>47.0</th>\n",
       "      <td>317.0</td>\n",
       "      <td>110.0</td>\n",
       "      <td>3.000000</td>\n",
       "      <td>3.000000</td>\n",
       "      <td>8.88</td>\n",
       "      <td>0.0</td>\n",
       "      <td>1.000000</td>\n",
       "    </tr>\n",
       "    <tr>\n",
       "      <th>63.6</th>\n",
       "      <td>313.0</td>\n",
       "      <td>104.0</td>\n",
       "      <td>3.000000</td>\n",
       "      <td>3.000000</td>\n",
       "      <td>7.95</td>\n",
       "      <td>0.5</td>\n",
       "      <td>0.500000</td>\n",
       "    </tr>\n",
       "    <tr>\n",
       "      <th>82.3</th>\n",
       "      <td>292.0</td>\n",
       "      <td>87.0</td>\n",
       "      <td>1.333333</td>\n",
       "      <td>1.333333</td>\n",
       "      <td>7.90</td>\n",
       "      <td>0.0</td>\n",
       "      <td>0.333333</td>\n",
       "    </tr>\n",
       "    <tr>\n",
       "      <th>99.0</th>\n",
       "      <td>293.0</td>\n",
       "      <td>92.0</td>\n",
       "      <td>1.000000</td>\n",
       "      <td>1.000000</td>\n",
       "      <td>6.00</td>\n",
       "      <td>0.0</td>\n",
       "      <td>1.000000</td>\n",
       "    </tr>\n",
       "  </tbody>\n",
       "</table>\n",
       "</div>"
      ],
      "text/plain": [
       "                   GRE Score  TOEFL Score       SOP       LOR  CGPA  Research  \\\n",
       "University Rating                                                               \n",
       "4.3                    317.0        110.0  3.000000  3.000000  8.88       0.0   \n",
       "15.0                   317.0        110.0  3.000000  3.000000  8.88       0.0   \n",
       "16.0                   317.0        110.0  3.000000  3.000000  8.88       0.0   \n",
       "20.0                   317.0        110.0  3.000000  3.000000  8.88       0.0   \n",
       "47.0                   317.0        110.0  3.000000  3.000000  8.88       0.0   \n",
       "63.6                   313.0        104.0  3.000000  3.000000  7.95       0.5   \n",
       "82.3                   292.0         87.0  1.333333  1.333333  7.90       0.0   \n",
       "99.0                   293.0         92.0  1.000000  1.000000  6.00       0.0   \n",
       "\n",
       "                   Chance of Admit  \n",
       "University Rating                   \n",
       "4.3                       0.000000  \n",
       "15.0                      0.000000  \n",
       "16.0                      0.000000  \n",
       "20.0                      1.000000  \n",
       "47.0                      1.000000  \n",
       "63.6                      0.500000  \n",
       "82.3                      0.333333  \n",
       "99.0                      1.000000  "
      ]
     },
     "execution_count": 172,
     "metadata": {},
     "output_type": "execute_result"
    }
   ],
   "source": [
    "df_university = df.groupby(by='University Rating').mean()\n",
    "df_university"
   ]
  },
  {
   "cell_type": "code",
   "execution_count": 173,
   "metadata": {},
   "outputs": [],
   "source": [
    "x=df.drop(['Chance of Admit'],axis=1)\n",
    "y=df['Chance of Admit']\n",
    "# here we are droping the Chance of Admit and serial no, as they are not going to be used for the features \n",
    "# Chance of Admit is the target column which shows the probalility of admission for a candidate."
   ]
  },
  {
   "cell_type": "code",
   "execution_count": 174,
   "metadata": {},
   "outputs": [
    {
     "data": {
      "text/html": [
       "<div>\n",
       "<style scoped>\n",
       "    .dataframe tbody tr th:only-of-type {\n",
       "        vertical-align: middle;\n",
       "    }\n",
       "\n",
       "    .dataframe tbody tr th {\n",
       "        vertical-align: top;\n",
       "    }\n",
       "\n",
       "    .dataframe thead th {\n",
       "        text-align: right;\n",
       "    }\n",
       "</style>\n",
       "<table border=\"1\" class=\"dataframe\">\n",
       "  <thead>\n",
       "    <tr style=\"text-align: right;\">\n",
       "      <th></th>\n",
       "      <th>GRE Score</th>\n",
       "      <th>TOEFL Score</th>\n",
       "      <th>University Rating</th>\n",
       "      <th>SOP</th>\n",
       "      <th>LOR</th>\n",
       "      <th>CGPA</th>\n",
       "      <th>Research</th>\n",
       "    </tr>\n",
       "  </thead>\n",
       "  <tbody>\n",
       "    <tr>\n",
       "      <th>0</th>\n",
       "      <td>317</td>\n",
       "      <td>110</td>\n",
       "      <td>47.0</td>\n",
       "      <td>3</td>\n",
       "      <td>3</td>\n",
       "      <td>8.88</td>\n",
       "      <td>0</td>\n",
       "    </tr>\n",
       "    <tr>\n",
       "      <th>1</th>\n",
       "      <td>317</td>\n",
       "      <td>110</td>\n",
       "      <td>16.0</td>\n",
       "      <td>3</td>\n",
       "      <td>3</td>\n",
       "      <td>8.88</td>\n",
       "      <td>0</td>\n",
       "    </tr>\n",
       "    <tr>\n",
       "      <th>2</th>\n",
       "      <td>317</td>\n",
       "      <td>110</td>\n",
       "      <td>4.3</td>\n",
       "      <td>3</td>\n",
       "      <td>3</td>\n",
       "      <td>8.88</td>\n",
       "      <td>0</td>\n",
       "    </tr>\n",
       "    <tr>\n",
       "      <th>3</th>\n",
       "      <td>317</td>\n",
       "      <td>110</td>\n",
       "      <td>20.0</td>\n",
       "      <td>3</td>\n",
       "      <td>3</td>\n",
       "      <td>8.88</td>\n",
       "      <td>0</td>\n",
       "    </tr>\n",
       "    <tr>\n",
       "      <th>4</th>\n",
       "      <td>317</td>\n",
       "      <td>110</td>\n",
       "      <td>15.0</td>\n",
       "      <td>3</td>\n",
       "      <td>3</td>\n",
       "      <td>8.88</td>\n",
       "      <td>0</td>\n",
       "    </tr>\n",
       "  </tbody>\n",
       "</table>\n",
       "</div>"
      ],
      "text/plain": [
       "   GRE Score  TOEFL Score  University Rating  SOP  LOR  CGPA  Research\n",
       "0        317          110               47.0    3    3  8.88         0\n",
       "1        317          110               16.0    3    3  8.88         0\n",
       "2        317          110                4.3    3    3  8.88         0\n",
       "3        317          110               20.0    3    3  8.88         0\n",
       "4        317          110               15.0    3    3  8.88         0"
      ]
     },
     "execution_count": 174,
     "metadata": {},
     "output_type": "execute_result"
    }
   ],
   "source": [
    "x.head() # checking the transformed feature column"
   ]
  },
  {
   "cell_type": "code",
   "execution_count": 175,
   "metadata": {},
   "outputs": [
    {
     "data": {
      "text/plain": [
       "(13, 1)"
      ]
     },
     "execution_count": 175,
     "metadata": {},
     "output_type": "execute_result"
    }
   ],
   "source": [
    "x = np.array(x)\n",
    "y = np.array(y)\n",
    "y = y.reshape(-1,1)\n",
    "y.shape"
   ]
  },
  {
   "cell_type": "code",
   "execution_count": 176,
   "metadata": {},
   "outputs": [
    {
     "data": {
      "text/plain": [
       "array([[ 0.72160259,  0.84953403, -0.23756347,  0.63900965,  0.57932412,\n",
       "         0.91750027, -0.42640143],\n",
       "       [ 0.72160259,  0.84953403, -1.28273898,  0.63900965,  0.57932412,\n",
       "         0.91750027, -0.42640143],\n",
       "       [ 0.72160259,  0.84953403, -1.67720845,  0.63900965,  0.57932412,\n",
       "         0.91750027, -0.42640143],\n",
       "       [ 0.72160259,  0.84953403, -1.14787763,  0.63900965,  0.57932412,\n",
       "         0.91750027, -0.42640143],\n",
       "       [ 0.72160259,  0.84953403, -1.31645432,  0.63900965,  0.57932412,\n",
       "         0.91750027, -0.42640143],\n",
       "       [-1.2361366 , -0.94137554,  1.51563417, -1.73445477, -1.57245119,\n",
       "        -2.68325551, -0.42640143],\n",
       "       [-1.480854  , -1.14036549,  0.95258801, -0.54772256, -0.49656353,\n",
       "        -0.80786187, -0.42640143],\n",
       "       [-0.74670181, -1.14036549,  0.95258801, -1.73445477, -1.57245119,\n",
       "         0.31737431, -0.42640143],\n",
       "       [-1.7255714 , -2.03582028,  0.95258801, -1.73445477, -1.57245119,\n",
       "        -0.43278315, -0.42640143],\n",
       "       [ 1.61889971,  0.84953403,  0.32211116,  0.63900965,  0.57932412,\n",
       "        -0.48279364, -0.42640143],\n",
       "       [ 0.39531272, -0.14541573,  0.32211116,  0.63900965,  0.57932412,\n",
       "        -0.43278315,  2.34520788],\n",
       "       [-0.58355687, -0.54339564,  0.32211116,  0.63900965,  1.65521178,\n",
       "         0.30487168,  2.34520788],\n",
       "       [ 0.15059532,  0.84953403,  0.32211116,  0.63900965, -0.49656353,\n",
       "        -0.37027003, -0.42640143]])"
      ]
     },
     "execution_count": 176,
     "metadata": {},
     "output_type": "execute_result"
    }
   ],
   "source": [
    "# to be only used if you want to scale the data,standize the data,if the variation is huge in the dataset\n",
    "# when we have huge variation in the data set\n",
    "# i am not changing the data , i am changing the scale only like taking logs, sqrt--not changing the actual meaning of the data set\n",
    "# variance betweeen the dataset become very low\n",
    "# machine will understand in better way this data  as having low variance in the data set\n",
    "\n",
    "from sklearn.preprocessing import StandardScaler\n",
    "scaler_feature=StandardScaler()\n",
    "scaler_lablel=StandardScaler()\n",
    "scaled_data=scaler_feature.fit_transform(x)\n",
    "scaler_y = StandardScaler()\n",
    "y = scaler_y.fit_transform(y)\n",
    "scaled_data"
   ]
  },
  {
   "cell_type": "code",
   "execution_count": 177,
   "metadata": {},
   "outputs": [],
   "source": [
    "#splitting the data into training and testing sets\n",
    "from sklearn.model_selection import train_test_split\n",
    "train_x,test_x,train_y,test_y=train_test_split(x,y,test_size=0.33,random_state=100)\n",
    "# finding mi c1 , m2 c2,..... "
   ]
  },
  {
   "cell_type": "code",
   "execution_count": 178,
   "metadata": {},
   "outputs": [
    {
     "data": {
      "text/plain": [
       "LinearRegression()"
      ]
     },
     "execution_count": 178,
     "metadata": {},
     "output_type": "execute_result"
    }
   ],
   "source": [
    "# fitting the data to the linear regression model\n",
    "from sklearn import linear_model\n",
    "from sklearn.linear_model import LinearRegression\n",
    "from sklearn.metrics import mean_squared_error, accuracy_score\n",
    "reg=linear_model.LinearRegression()\n",
    "reg.fit(train_x,train_y)"
   ]
  },
  {
   "cell_type": "code",
   "execution_count": 179,
   "metadata": {},
   "outputs": [
    {
     "data": {
      "text/plain": [
       "-1.73297733146206"
      ]
     },
     "execution_count": 179,
     "metadata": {},
     "output_type": "execute_result"
    }
   ],
   "source": [
    "# calc the accuracy of the model\n",
    "from sklearn.metrics import r2_score\n",
    "score=r2_score(reg.predict(test_x),test_y)\n",
    "score"
   ]
  },
  {
   "cell_type": "code",
   "execution_count": 180,
   "metadata": {},
   "outputs": [
    {
     "name": "stdout",
     "output_type": "stream",
     "text": [
      "                   coefficient\n",
      "GRE Score             0.067087\n",
      "TOEFL Score          -0.192818\n",
      "University Rating     0.041856\n",
      "SOP                   1.907994\n",
      "LOR                   0.937924\n",
      "CGPA                  1.550530\n",
      "Research             -4.808803\n",
      "Feature: 0, Score: 0.06709\n",
      "Feature: 1, Score: -0.19282\n",
      "Feature: 2, Score: 0.04186\n",
      "Feature: 3, Score: 1.90799\n",
      "Feature: 4, Score: 0.93792\n",
      "Feature: 5, Score: 1.55053\n",
      "Feature: 6, Score: -4.80880\n"
     ]
    },
    {
     "data": {
      "image/png": "[encoded data removed]",
      "text/plain": [
       "<Figure size 432x288 with 1 Axes>"
      ]
     },
     "metadata": {
      "needs_background": "light"
     },
     "output_type": "display_data"
    }
   ],
   "source": [
    "intercept = reg.intercept_\n",
    "dfx = df.drop('Chance of Admit' , axis=1)\n",
    "importance = reg.coef_[0]\n",
    "features = pd.DataFrame(importance, dfx.columns, columns=['coefficient'])\n",
    "print(features)\n",
    "for i,v in enumerate(importance):\n",
    "\tprint('Feature: %0d, Score: %.5f' % (i,v))\n",
    "# plot feature importance\n",
    "plt.bar([x for x in range(len(importance))], importance)\n",
    "plt.show()"
   ]
  },
  {
   "cell_type": "markdown",
   "metadata": {},
   "source": [
    "# changing the hyper parameters"
   ]
  },
  {
   "cell_type": "code",
   "execution_count": 181,
   "metadata": {},
   "outputs": [],
   "source": [
    "#splitting the data into training and testing sets\n",
    "from sklearn.model_selection import train_test_split\n",
    "train_x,test_x,train_y,test_y=train_test_split(x,y,test_size=0.20,random_state=100)\n",
    "# finding mi c1 , m2 c2,..... "
   ]
  },
  {
   "cell_type": "code",
   "execution_count": 182,
   "metadata": {},
   "outputs": [
    {
     "data": {
      "text/plain": [
       "LinearRegression()"
      ]
     },
     "execution_count": 182,
     "metadata": {},
     "output_type": "execute_result"
    }
   ],
   "source": [
    "# fitting the data to the linear regression model\n",
    "from sklearn import linear_model\n",
    "from sklearn.linear_model import LinearRegression\n",
    "reg=linear_model.LinearRegression()\n",
    "reg.fit(train_x,train_y)"
   ]
  },
  {
   "cell_type": "code",
   "execution_count": 183,
   "metadata": {},
   "outputs": [
    {
     "data": {
      "text/plain": [
       "-0.6228417372192021"
      ]
     },
     "execution_count": 183,
     "metadata": {},
     "output_type": "execute_result"
    }
   ],
   "source": [
    "# calc the accuracy of the model\n",
    "from sklearn.metrics import r2_score\n",
    "score=r2_score(reg.predict(test_x),test_y)\n",
    "score"
   ]
  },
  {
   "cell_type": "code",
   "execution_count": 184,
   "metadata": {},
   "outputs": [],
   "source": [
    "import tensorflow as tf\n",
    "from tensorflow import keras\n",
    "#tf.keras.layers.Dense\n",
    "from tensorflow.keras.layers import Dense, Activation, Dropout\n",
    "from tensorflow.keras.optimizers import Adam\n",
    "#opt = keras.optimizers.Adam(learning_rate=0.01)\n"
   ]
  },
  {
   "cell_type": "code",
   "execution_count": 185,
   "metadata": {},
   "outputs": [
    {
     "name": "stdout",
     "output_type": "stream",
     "text": [
      "Model: \"sequential_2\"\n",
      "_________________________________________________________________\n",
      " Layer (type)                Output Shape              Param #   \n",
      "=================================================================\n",
      " dense_10 (Dense)            (None, 50)                400       \n",
      "                                                                 \n",
      " activation_8 (Activation)   (None, 50)                0         \n",
      "                                                                 \n",
      " dense_11 (Dense)            (None, 150)               7650      \n",
      "                                                                 \n",
      " activation_9 (Activation)   (None, 150)               0         \n",
      "                                                                 \n",
      " dropout_4 (Dropout)         (None, 150)               0         \n",
      "                                                                 \n",
      " dense_12 (Dense)            (None, 150)               22650     \n",
      "                                                                 \n",
      " activation_10 (Activation)  (None, 150)               0         \n",
      "                                                                 \n",
      " dropout_5 (Dropout)         (None, 150)               0         \n",
      "                                                                 \n",
      " dense_13 (Dense)            (None, 50)                7550      \n",
      "                                                                 \n",
      " activation_11 (Activation)  (None, 50)                0         \n",
      "                                                                 \n",
      " dense_14 (Dense)            (None, 1)                 51        \n",
      "                                                                 \n",
      "=================================================================\n",
      "Total params: 38,301\n",
      "Trainable params: 38,301\n",
      "Non-trainable params: 0\n",
      "_________________________________________________________________\n"
     ]
    }
   ],
   "source": [
    "ANN_model = keras.Sequential()\n",
    "ANN_model.add(Dense(50, input_dim = 7))\n",
    "ANN_model.add(Activation('relu'))\n",
    "ANN_model.add(Dense(150))\n",
    "ANN_model.add(Activation('relu'))\n",
    "ANN_model.add(Dropout(0.5))\n",
    "ANN_model.add(Dense(150))\n",
    "ANN_model.add(Activation('relu'))\n",
    "ANN_model.add(Dropout(0.5))\n",
    "ANN_model.add(Dense(50))\n",
    "ANN_model.add(Activation('linear'))\n",
    "ANN_model.add(Dense(1))\n",
    "ANN_model.compile(loss = 'mean_squared_error', optimizer = 'adam')\n",
    "ANN_model.summary()"
   ]
  },
  {
   "cell_type": "code",
   "execution_count": 186,
   "metadata": {},
   "outputs": [],
   "source": [
    "ANN_model.compile(optimizer='adam', loss='mean_squared_error')"
   ]
  },
  {
   "cell_type": "code",
   "execution_count": 187,
   "metadata": {},
   "outputs": [
    {
     "name": "stdout",
     "output_type": "stream",
     "text": [
      "Epoch 1/100\n",
      "1/1 [==============================] - 0s 439ms/step - loss: 20566.1758 - val_loss: 3276.7261\n",
      "Epoch 2/100\n",
      "1/1 [==============================] - 0s 22ms/step - loss: 4361.5605 - val_loss: 298.1827\n",
      "Epoch 3/100\n",
      "1/1 [==============================] - 0s 21ms/step - loss: 6347.8945 - val_loss: 129.6994\n",
      "Epoch 4/100\n",
      "1/1 [==============================] - 0s 23ms/step - loss: 2421.6108 - val_loss: 775.7292\n",
      "Epoch 5/100\n",
      "1/1 [==============================] - 0s 21ms/step - loss: 1841.1088 - val_loss: 1293.1521\n",
      "Epoch 6/100\n",
      "1/1 [==============================] - 0s 20ms/step - loss: 4689.5596 - val_loss: 1249.2373\n",
      "Epoch 7/100\n",
      "1/1 [==============================] - 0s 21ms/step - loss: 4482.5757 - val_loss: 837.3429\n",
      "Epoch 8/100\n",
      "1/1 [==============================] - 0s 20ms/step - loss: 2066.7158 - val_loss: 435.4745\n",
      "Epoch 9/100\n",
      "1/1 [==============================] - 0s 21ms/step - loss: 3272.9849 - val_loss: 166.2167\n",
      "Epoch 10/100\n",
      "1/1 [==============================] - 0s 21ms/step - loss: 730.5519 - val_loss: 28.6959\n",
      "Epoch 11/100\n",
      "1/1 [==============================] - 0s 21ms/step - loss: 861.8066 - val_loss: 1.1388\n",
      "Epoch 12/100\n",
      "1/1 [==============================] - 0s 21ms/step - loss: 1101.1492 - val_loss: 51.8122\n",
      "Epoch 13/100\n",
      "1/1 [==============================] - 0s 20ms/step - loss: 1800.7220 - val_loss: 145.9992\n",
      "Epoch 14/100\n",
      "1/1 [==============================] - 0s 20ms/step - loss: 1313.5339 - val_loss: 225.7834\n",
      "Epoch 15/100\n",
      "1/1 [==============================] - 0s 21ms/step - loss: 1611.3118 - val_loss: 286.1928\n",
      "Epoch 16/100\n",
      "1/1 [==============================] - 0s 20ms/step - loss: 2101.1802 - val_loss: 289.2062\n",
      "Epoch 17/100\n",
      "1/1 [==============================] - 0s 20ms/step - loss: 1396.4470 - val_loss: 280.4771\n",
      "Epoch 18/100\n",
      "1/1 [==============================] - 0s 21ms/step - loss: 1165.5251 - val_loss: 233.6866\n",
      "Epoch 19/100\n",
      "1/1 [==============================] - 0s 21ms/step - loss: 1400.0381 - val_loss: 174.1707\n",
      "Epoch 20/100\n",
      "1/1 [==============================] - 0s 21ms/step - loss: 1193.9934 - val_loss: 118.9633\n",
      "Epoch 21/100\n",
      "1/1 [==============================] - 0s 21ms/step - loss: 1801.3596 - val_loss: 57.7430\n",
      "Epoch 22/100\n",
      "1/1 [==============================] - 0s 20ms/step - loss: 1501.2811 - val_loss: 14.7160\n",
      "Epoch 23/100\n",
      "1/1 [==============================] - 0s 20ms/step - loss: 547.8690 - val_loss: 0.0246\n",
      "Epoch 24/100\n",
      "1/1 [==============================] - 0s 21ms/step - loss: 715.5497 - val_loss: 9.1447\n",
      "Epoch 25/100\n",
      "1/1 [==============================] - 0s 20ms/step - loss: 820.4926 - val_loss: 33.1582\n",
      "Epoch 26/100\n",
      "1/1 [==============================] - 0s 21ms/step - loss: 656.7341 - val_loss: 62.8354\n",
      "Epoch 27/100\n",
      "1/1 [==============================] - 0s 22ms/step - loss: 775.7550 - val_loss: 74.9459\n",
      "Epoch 28/100\n",
      "1/1 [==============================] - 0s 22ms/step - loss: 599.7764 - val_loss: 87.9311\n",
      "Epoch 29/100\n",
      "1/1 [==============================] - 0s 21ms/step - loss: 995.0183 - val_loss: 83.1966\n",
      "Epoch 30/100\n",
      "1/1 [==============================] - 0s 21ms/step - loss: 640.0076 - val_loss: 67.0321\n",
      "Epoch 31/100\n",
      "1/1 [==============================] - 0s 21ms/step - loss: 1253.2560 - val_loss: 49.8983\n",
      "Epoch 32/100\n",
      "1/1 [==============================] - 0s 22ms/step - loss: 827.0933 - val_loss: 29.3992\n",
      "Epoch 33/100\n",
      "1/1 [==============================] - 0s 20ms/step - loss: 372.8016 - val_loss: 13.9653\n",
      "Epoch 34/100\n",
      "1/1 [==============================] - 0s 21ms/step - loss: 395.6077 - val_loss: 3.3972\n",
      "Epoch 35/100\n",
      "1/1 [==============================] - 0s 24ms/step - loss: 414.7583 - val_loss: 0.4899\n",
      "Epoch 36/100\n",
      "1/1 [==============================] - 0s 21ms/step - loss: 539.4827 - val_loss: 3.1420\n",
      "Epoch 37/100\n",
      "1/1 [==============================] - 0s 24ms/step - loss: 509.9551 - val_loss: 11.9640\n",
      "Epoch 38/100\n",
      "1/1 [==============================] - 0s 21ms/step - loss: 638.2383 - val_loss: 25.6915\n",
      "Epoch 39/100\n",
      "1/1 [==============================] - 0s 20ms/step - loss: 700.7074 - val_loss: 41.0577\n",
      "Epoch 40/100\n",
      "1/1 [==============================] - 0s 22ms/step - loss: 223.7261 - val_loss: 52.6248\n",
      "Epoch 41/100\n",
      "1/1 [==============================] - 0s 21ms/step - loss: 118.1332 - val_loss: 62.0857\n",
      "Epoch 42/100\n",
      "1/1 [==============================] - 0s 22ms/step - loss: 208.3651 - val_loss: 74.1518\n",
      "Epoch 43/100\n",
      "1/1 [==============================] - 0s 21ms/step - loss: 877.4373 - val_loss: 79.8242\n",
      "Epoch 44/100\n",
      "1/1 [==============================] - 0s 20ms/step - loss: 304.4938 - val_loss: 80.8505\n",
      "Epoch 45/100\n",
      "1/1 [==============================] - 0s 22ms/step - loss: 399.8787 - val_loss: 78.4365\n",
      "Epoch 46/100\n",
      "1/1 [==============================] - 0s 22ms/step - loss: 396.1427 - val_loss: 75.6565\n",
      "Epoch 47/100\n",
      "1/1 [==============================] - 0s 20ms/step - loss: 699.0853 - val_loss: 66.3775\n",
      "Epoch 48/100\n",
      "1/1 [==============================] - 0s 21ms/step - loss: 448.1389 - val_loss: 54.7248\n",
      "Epoch 49/100\n",
      "1/1 [==============================] - 0s 22ms/step - loss: 412.9834 - val_loss: 43.4664\n",
      "Epoch 50/100\n",
      "1/1 [==============================] - 0s 20ms/step - loss: 351.6115 - val_loss: 34.2892\n",
      "Epoch 51/100\n",
      "1/1 [==============================] - 0s 20ms/step - loss: 358.1089 - val_loss: 23.7420\n",
      "Epoch 52/100\n",
      "1/1 [==============================] - 0s 21ms/step - loss: 149.4505 - val_loss: 15.3302\n",
      "Epoch 53/100\n",
      "1/1 [==============================] - 0s 20ms/step - loss: 233.0337 - val_loss: 10.1153\n",
      "Epoch 54/100\n",
      "1/1 [==============================] - 0s 21ms/step - loss: 292.2963 - val_loss: 5.7696\n",
      "Epoch 55/100\n",
      "1/1 [==============================] - 0s 21ms/step - loss: 101.1853 - val_loss: 3.0415\n",
      "Epoch 56/100\n",
      "1/1 [==============================] - 0s 21ms/step - loss: 335.6421 - val_loss: 0.9928\n",
      "Epoch 57/100\n",
      "1/1 [==============================] - 0s 21ms/step - loss: 206.9983 - val_loss: 0.1922\n",
      "Epoch 58/100\n",
      "1/1 [==============================] - 0s 21ms/step - loss: 276.3248 - val_loss: 0.0685\n",
      "Epoch 59/100\n",
      "1/1 [==============================] - 0s 21ms/step - loss: 182.0031 - val_loss: 0.0765\n",
      "Epoch 60/100\n",
      "1/1 [==============================] - 0s 21ms/step - loss: 285.6312 - val_loss: 0.1825\n",
      "Epoch 61/100\n",
      "1/1 [==============================] - 0s 20ms/step - loss: 120.3388 - val_loss: 0.3258\n",
      "Epoch 62/100\n",
      "1/1 [==============================] - 0s 22ms/step - loss: 150.4590 - val_loss: 0.5035\n",
      "Epoch 63/100\n",
      "1/1 [==============================] - 0s 21ms/step - loss: 157.2267 - val_loss: 0.5263\n",
      "Epoch 64/100\n",
      "1/1 [==============================] - 0s 21ms/step - loss: 128.2153 - val_loss: 0.5178\n",
      "Epoch 65/100\n",
      "1/1 [==============================] - 0s 22ms/step - loss: 206.4026 - val_loss: 0.3248\n",
      "Epoch 66/100\n",
      "1/1 [==============================] - 0s 21ms/step - loss: 95.0390 - val_loss: 0.1726\n",
      "Epoch 67/100\n",
      "1/1 [==============================] - 0s 21ms/step - loss: 203.1915 - val_loss: 0.0685\n",
      "Epoch 68/100\n",
      "1/1 [==============================] - 0s 22ms/step - loss: 157.4415 - val_loss: 0.0222\n",
      "Epoch 69/100\n",
      "1/1 [==============================] - 0s 21ms/step - loss: 145.5516 - val_loss: 0.0296\n",
      "Epoch 70/100\n",
      "1/1 [==============================] - 0s 20ms/step - loss: 301.8701 - val_loss: 0.1028\n",
      "Epoch 71/100\n",
      "1/1 [==============================] - 0s 21ms/step - loss: 154.0169 - val_loss: 0.2421\n",
      "Epoch 72/100\n",
      "1/1 [==============================] - 0s 21ms/step - loss: 136.6373 - val_loss: 0.4459\n",
      "Epoch 73/100\n",
      "1/1 [==============================] - 0s 21ms/step - loss: 128.8338 - val_loss: 0.7383\n",
      "Epoch 74/100\n",
      "1/1 [==============================] - 0s 21ms/step - loss: 39.7284 - val_loss: 1.0808\n",
      "Epoch 75/100\n",
      "1/1 [==============================] - 0s 20ms/step - loss: 105.6453 - val_loss: 1.5716\n",
      "Epoch 76/100\n",
      "1/1 [==============================] - 0s 21ms/step - loss: 240.1590 - val_loss: 2.2470\n",
      "Epoch 77/100\n",
      "1/1 [==============================] - 0s 22ms/step - loss: 248.4482 - val_loss: 2.8724\n",
      "Epoch 78/100\n",
      "1/1 [==============================] - 0s 21ms/step - loss: 57.5655 - val_loss: 3.4071\n",
      "Epoch 79/100\n",
      "1/1 [==============================] - 0s 21ms/step - loss: 64.8201 - val_loss: 4.0441\n",
      "Epoch 80/100\n",
      "1/1 [==============================] - 0s 22ms/step - loss: 136.3697 - val_loss: 4.8758\n",
      "Epoch 81/100\n",
      "1/1 [==============================] - 0s 22ms/step - loss: 111.1498 - val_loss: 5.9489\n",
      "Epoch 82/100\n",
      "1/1 [==============================] - 0s 21ms/step - loss: 42.0459 - val_loss: 6.9744\n",
      "Epoch 83/100\n",
      "1/1 [==============================] - 0s 32ms/step - loss: 169.1382 - val_loss: 8.2642\n",
      "Epoch 84/100\n",
      "1/1 [==============================] - 0s 21ms/step - loss: 73.4938 - val_loss: 9.3984\n",
      "Epoch 85/100\n",
      "1/1 [==============================] - 0s 21ms/step - loss: 88.9107 - val_loss: 10.3833\n",
      "Epoch 86/100\n",
      "1/1 [==============================] - 0s 21ms/step - loss: 67.4744 - val_loss: 11.4640\n",
      "Epoch 87/100\n",
      "1/1 [==============================] - 0s 23ms/step - loss: 78.6147 - val_loss: 12.6600\n",
      "Epoch 88/100\n",
      "1/1 [==============================] - 0s 22ms/step - loss: 86.0248 - val_loss: 13.4499\n",
      "Epoch 89/100\n",
      "1/1 [==============================] - 0s 21ms/step - loss: 49.3581 - val_loss: 14.1510\n",
      "Epoch 90/100\n",
      "1/1 [==============================] - 0s 21ms/step - loss: 193.6811 - val_loss: 13.9646\n",
      "Epoch 91/100\n",
      "1/1 [==============================] - 0s 22ms/step - loss: 94.2173 - val_loss: 13.5011\n",
      "Epoch 92/100\n",
      "1/1 [==============================] - 0s 21ms/step - loss: 46.1092 - val_loss: 13.3399\n",
      "Epoch 93/100\n",
      "1/1 [==============================] - 0s 22ms/step - loss: 16.9800 - val_loss: 12.9899\n",
      "Epoch 94/100\n",
      "1/1 [==============================] - 0s 22ms/step - loss: 65.0663 - val_loss: 12.3440\n",
      "Epoch 95/100\n",
      "1/1 [==============================] - 0s 21ms/step - loss: 99.2446 - val_loss: 11.6848\n",
      "Epoch 96/100\n",
      "1/1 [==============================] - 0s 23ms/step - loss: 103.8350 - val_loss: 10.7804\n",
      "Epoch 97/100\n",
      "1/1 [==============================] - 0s 20ms/step - loss: 168.7644 - val_loss: 9.5936\n",
      "Epoch 98/100\n",
      "1/1 [==============================] - 0s 21ms/step - loss: 141.4710 - val_loss: 8.3799\n",
      "Epoch 99/100\n",
      "1/1 [==============================] - 0s 21ms/step - loss: 87.5475 - val_loss: 7.1945\n",
      "Epoch 100/100\n",
      "1/1 [==============================] - 0s 20ms/step - loss: 49.5163 - val_loss: 6.1790\n"
     ]
    }
   ],
   "source": [
    "epochs_hist = ANN_model.fit(train_x, train_y, epochs = 100, batch_size = 20, validation_split = 0.2)"
   ]
  },
  {
   "cell_type": "code",
   "execution_count": 188,
   "metadata": {},
   "outputs": [
    {
     "name": "stdout",
     "output_type": "stream",
     "text": [
      "1/1 [==============================] - 0s 19ms/step - loss: 3.0037\n",
      "Accuracy : -2.0037124156951904\n"
     ]
    }
   ],
   "source": [
    "result = ANN_model.evaluate(test_x, test_y)\n",
    "accuracy_ANN = 1 - result\n",
    "print(\"Accuracy : {}\".format(accuracy_ANN))"
   ]
  },
  {
   "cell_type": "code",
   "execution_count": 189,
   "metadata": {},
   "outputs": [
    {
     "data": {
      "text/plain": [
       "dict_keys(['loss', 'val_loss'])"
      ]
     },
     "execution_count": 189,
     "metadata": {},
     "output_type": "execute_result"
    }
   ],
   "source": [
    "epochs_hist.history.keys()"
   ]
  },
  {
   "cell_type": "code",
   "execution_count": 190,
   "metadata": {},
   "outputs": [
    {
     "data": {
      "text/plain": [
       "<matplotlib.legend.Legend at 0x2427fe393d0>"
      ]
     },
     "execution_count": 190,
     "metadata": {},
     "output_type": "execute_result"
    },
    {
     "data": {
      "image/png": "[encoded data removed]",
      "text/plain": [
       "<Figure size 432x288 with 1 Axes>"
      ]
     },
     "metadata": {
      "needs_background": "light"
     },
     "output_type": "display_data"
    }
   ],
   "source": [
    "plt.plot(epochs_hist.history['loss'])\n",
    "plt.title('Model Loss Progress During Training')\n",
    "plt.xlabel('Epoch')\n",
    "plt.ylabel('Training Loss')\n",
    "plt.legend(['Training Loss'])"
   ]
  },
  {
   "cell_type": "markdown",
   "metadata": {},
   "source": [
    "TRAIN AND EVALUATE A DECISION TREE AND RANDOM FOREST MODELS"
   ]
  },
  {
   "cell_type": "code",
   "execution_count": 191,
   "metadata": {},
   "outputs": [
    {
     "data": {
      "text/plain": [
       "DecisionTreeRegressor()"
      ]
     },
     "execution_count": 191,
     "metadata": {},
     "output_type": "execute_result"
    }
   ],
   "source": [
    "# Decision tree builds regression or classification models in the form of a tree structure. \n",
    "# Decision tree breaks down a dataset into smaller subsets while at the same time an associated decision tree is incrementally developed. \n",
    "# The final result is a tree with decision nodes and leaf nodes.\n",
    "\n",
    "\n",
    "from sklearn.tree import DecisionTreeRegressor\n",
    "decisionTree_model = DecisionTreeRegressor()\n",
    "decisionTree_model.fit(train_x, train_y)"
   ]
  },
  {
   "cell_type": "code",
   "execution_count": 192,
   "metadata": {},
   "outputs": [
    {
     "name": "stdout",
     "output_type": "stream",
     "text": [
      "                   coefficient\n",
      "GRE Score             0.208333\n",
      "TOEFL Score           0.000000\n",
      "University Rating     0.416667\n",
      "SOP                   0.000000\n",
      "LOR                   0.000000\n",
      "CGPA                  0.375000\n",
      "Research              0.000000\n",
      "Feature: 0, Score: 0.20833\n",
      "Feature: 1, Score: 0.00000\n",
      "Feature: 2, Score: 0.41667\n",
      "Feature: 3, Score: 0.00000\n",
      "Feature: 4, Score: 0.00000\n",
      "Feature: 5, Score: 0.37500\n",
      "Feature: 6, Score: 0.00000\n"
     ]
    },
    {
     "data": {
      "image/png": "[encoded data removed]",
      "text/plain": [
       "<Figure size 432x288 with 1 Axes>"
      ]
     },
     "metadata": {
      "needs_background": "light"
     },
     "output_type": "display_data"
    }
   ],
   "source": [
    "#feature Importancce testing\n",
    "dfx = df.drop('Chance of Admit' , axis=1)\n",
    "importance = decisionTree_model.feature_importances_\n",
    "features = pd.DataFrame(importance, dfx.columns, columns=['coefficient'])\n",
    "print(features)\n",
    "for i,v in enumerate(importance):\n",
    "\tprint('Feature: %0d, Score: %.5f' % (i,v))\n",
    "# plot feature importance\n",
    "plt.bar([x for x in range(len(importance))], importance)\n",
    "plt.show()"
   ]
  },
  {
   "cell_type": "code",
   "execution_count": 193,
   "metadata": {},
   "outputs": [
    {
     "data": {
      "text/plain": [
       "-0.4999999999999998"
      ]
     },
     "execution_count": 193,
     "metadata": {},
     "output_type": "execute_result"
    }
   ],
   "source": [
    "accuracy_decisionTree = decisionTree_model.score(test_x, test_y)\n",
    "accuracy_decisionTree"
   ]
  },
  {
   "cell_type": "code",
   "execution_count": 194,
   "metadata": {},
   "outputs": [],
   "source": [
    "# Many decision Trees make up a random forest model which is an ensemble model. \n",
    "# Predictions made by each decision tree are averaged to get the prediction of random forest model.\n",
    "# A random forest regressor fits a number of classifying decision trees on various sub-samples of the dataset and uses averaging to improve the predictive accuracy and control over-fitting. \n"
   ]
  },
  {
   "cell_type": "code",
   "execution_count": 195,
   "metadata": {},
   "outputs": [
    {
     "name": "stderr",
     "output_type": "stream",
     "text": [
      "C:\\Users\\mrhus\\AppData\\Local\\Temp/ipykernel_5988/2085754441.py:3: DataConversionWarning: A column-vector y was passed when a 1d array was expected. Please change the shape of y to (n_samples,), for example using ravel().\n",
      "  randomForest_model.fit(train_x, train_y)\n"
     ]
    },
    {
     "data": {
      "text/plain": [
       "-0.08059999999999978"
      ]
     },
     "execution_count": 195,
     "metadata": {},
     "output_type": "execute_result"
    }
   ],
   "source": [
    "from sklearn.ensemble import RandomForestRegressor\n",
    "randomForest_model = RandomForestRegressor(n_estimators=100, max_depth=10)\n",
    "randomForest_model.fit(train_x, train_y)\n",
    "accuracy_randomforest = randomForest_model.score(test_x, test_y)\n",
    "accuracy_randomforest"
   ]
  },
  {
   "cell_type": "code",
   "execution_count": 196,
   "metadata": {},
   "outputs": [
    {
     "name": "stdout",
     "output_type": "stream",
     "text": [
      "                   coefficient\n",
      "GRE Score             0.134825\n",
      "TOEFL Score           0.064829\n",
      "University Rating     0.390154\n",
      "SOP                   0.002857\n",
      "LOR                   0.047491\n",
      "CGPA                  0.350955\n",
      "Research              0.008889\n",
      "Feature: 0, Score: 0.13482\n",
      "Feature: 1, Score: 0.06483\n",
      "Feature: 2, Score: 0.39015\n",
      "Feature: 3, Score: 0.00286\n",
      "Feature: 4, Score: 0.04749\n",
      "Feature: 5, Score: 0.35096\n",
      "Feature: 6, Score: 0.00889\n"
     ]
    },
    {
     "data": {
      "image/png": "[encoded data removed]",
      "text/plain": [
       "<Figure size 432x288 with 1 Axes>"
      ]
     },
     "metadata": {
      "needs_background": "light"
     },
     "output_type": "display_data"
    }
   ],
   "source": [
    "#feature Importancce testing\n",
    "dfx = df.drop('Chance of Admit' , axis=1)\n",
    "importance = randomForest_model.feature_importances_\n",
    "features = pd.DataFrame(importance, dfx.columns, columns=['coefficient'])\n",
    "print(features)\n",
    "for i,v in enumerate(importance):\n",
    "\tprint('Feature: %0d, Score: %.5f' % (i,v))\n",
    "# plot feature importance\n",
    "plt.bar([x for x in range(len(importance))], importance)\n",
    "plt.show()"
   ]
  },
  {
   "cell_type": "markdown",
   "metadata": {},
   "source": [
    "UNDERSTAND VARIOUS REGRESSION KPIs"
   ]
  },
  {
   "cell_type": "code",
   "execution_count": 197,
   "metadata": {},
   "outputs": [
    {
     "data": {
      "text/plain": [
       "[<matplotlib.lines.Line2D at 0x2427ff798b0>]"
      ]
     },
     "execution_count": 197,
     "metadata": {},
     "output_type": "execute_result"
    },
    {
     "data": {
      "image/png": "[encoded data removed]",
      "text/plain": [
       "<Figure size 432x288 with 1 Axes>"
      ]
     },
     "metadata": {
      "needs_background": "light"
     },
     "output_type": "display_data"
    }
   ],
   "source": [
    "y_pred = reg.predict(test_x)\n",
    "plt.plot(test_y, y_pred, '^', color='r')"
   ]
  },
  {
   "cell_type": "code",
   "execution_count": 198,
   "metadata": {},
   "outputs": [],
   "source": [
    "y_predict_orig = scaler_y.inverse_transform(y_pred)\n",
    "y_test_orig = scaler_y.inverse_transform(test_y)"
   ]
  },
  {
   "cell_type": "code",
   "execution_count": 199,
   "metadata": {},
   "outputs": [
    {
     "data": {
      "text/plain": [
       "3"
      ]
     },
     "execution_count": 199,
     "metadata": {},
     "output_type": "execute_result"
    }
   ],
   "source": [
    "k = test_x.shape[1]\n",
    "n = len(test_x)\n",
    "n"
   ]
  },
  {
   "cell_type": "code",
   "execution_count": 200,
   "metadata": {},
   "outputs": [
    {
     "name": "stdout",
     "output_type": "stream",
     "text": [
      "RMSE = 1.886 \n",
      "MSE = 3.5583859841003487 \n",
      "MAE = 1.2849797734220514 \n",
      "R2 = -15.012736928451567 \n",
      "Adjusted R2 = 7.405094771380627\n"
     ]
    }
   ],
   "source": [
    "from sklearn.metrics import r2_score, mean_squared_error, mean_absolute_error\n",
    "from math import sqrt\n",
    "\n",
    "RMSE = float(format(np.sqrt(mean_squared_error(y_test_orig, y_predict_orig)),'.3f'))\n",
    "MSE = mean_squared_error(y_test_orig, y_predict_orig)\n",
    "MAE = mean_absolute_error(y_test_orig, y_predict_orig)\n",
    "r2 = r2_score(y_test_orig, y_predict_orig)\n",
    "adj_r2 = 1-(1-r2)*(n-1)/(n-k-1)\n",
    "\n",
    "print('RMSE =',RMSE, '\\nMSE =',MSE, '\\nMAE =',MAE, '\\nR2 =', r2, '\\nAdjusted R2 =', adj_r2) \n"
   ]
  },
  {
   "cell_type": "markdown",
   "metadata": {},
   "source": [
    "# saving the model to the local file system"
   ]
  },
  {
   "cell_type": "markdown",
   "metadata": {},
   "source": [
    "- pickle library- used to convert object into bytecode - called serialization\n",
    "- deserialization- converting bytecode to object"
   ]
  },
  {
   "cell_type": "code",
   "execution_count": 201,
   "metadata": {},
   "outputs": [
    {
     "data": {
      "text/plain": [
       "['filename.joblib']"
      ]
     },
     "execution_count": 201,
     "metadata": {},
     "output_type": "execute_result"
    }
   ],
   "source": [
    "#filename='finalized_model.pickle'\n",
    "#pickle.dump(reg,open(filename,'wb'))\n",
    "dump(randomForest_model, 'filename.joblib')"
   ]
  },
  {
   "cell_type": "code",
   "execution_count": 202,
   "metadata": {},
   "outputs": [
    {
     "name": "stdout",
     "output_type": "stream",
     "text": [
      "(7,)\n",
      "(1, 7)\n"
     ]
    }
   ],
   "source": [
    "s = np.array([340, 120, 5, 5, 5, 9.6, 1])\n",
    "print(s.shape)\n",
    "s = s.reshape(1,-1)\n",
    "print(s.shape)"
   ]
  }
 ],
 "metadata": {
  "kernelspec": {
   "display_name": "Python 3",
   "language": "python",
   "name": "python3"
  },
  "language_info": {
   "codemirror_mode": {
    "name": "ipython",
    "version": 3
   },
   "file_extension": ".py",
   "mimetype": "text/x-python",
   "name": "python",
   "nbconvert_exporter": "python",
   "pygments_lexer": "ipython3",
   "version": "3.9.7"
  }
 },
 "nbformat": 4,
 "nbformat_minor": 2
}
