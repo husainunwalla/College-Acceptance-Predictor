{
 "cells": [
  {
   "cell_type": "markdown",
   "metadata": {},
   "source": [
    "### Problem Statement\n",
    "- ### The goal here is to find the chance of admission of a candidate based on his/her GRE score, TOEFL score, rating of the university in which he/she is trying to get admission,strength of the SOP,Strength of the letter of the recommendation, CGPA and the research experience\n"
   ]
  },
  {
   "cell_type": "markdown",
   "metadata": {},
   "source": [
    "# Data Preprocessing "
   ]
  },
  {
   "cell_type": "markdown",
   "metadata": {},
   "source": []
  },
  {
   "cell_type": "code",
   "execution_count": 50,
   "metadata": {},
   "outputs": [],
   "source": [
    "#importing libraries\n",
    "import pandas as pd\n",
    "import numpy as np\n",
    "import matplotlib.pyplot as plt\n",
    "import pickle\n",
    "import seaborn as sns\n",
    "from joblib import dump\n",
    "%matplotlib inline"
   ]
  },
  {
   "cell_type": "code",
   "execution_count": 51,
   "metadata": {},
   "outputs": [],
   "source": [
    "df=pd.read_csv(\"Admission_Prediction.csv\")  # importing the data set"
   ]
  },
  {
   "cell_type": "code",
   "execution_count": 52,
   "metadata": {},
   "outputs": [],
   "source": [
    "df.drop('Serial No.', axis=1, inplace=True)\n",
    "df.drop('SOP', axis=1, inplace=True)\n",
    "df.drop('LOR', axis=1, inplace=True)\n"
   ]
  },
  {
   "cell_type": "code",
   "execution_count": 53,
   "metadata": {},
   "outputs": [],
   "source": [
    "df['GRE Score'].fillna(df['GRE Score'].mode()[0],inplace=True)\n",
    "df['TOEFL Score'].fillna(df['TOEFL Score'].mode()[0],inplace=True)\n",
    "df['University Rating'].fillna(df['University Rating'].mean(),inplace=True)"
   ]
  },
  {
   "cell_type": "code",
   "execution_count": 54,
   "metadata": {},
   "outputs": [
    {
     "data": {
      "text/html": [
       "<div>\n",
       "<style scoped>\n",
       "    .dataframe tbody tr th:only-of-type {\n",
       "        vertical-align: middle;\n",
       "    }\n",
       "\n",
       "    .dataframe tbody tr th {\n",
       "        vertical-align: top;\n",
       "    }\n",
       "\n",
       "    .dataframe thead th {\n",
       "        text-align: right;\n",
       "    }\n",
       "</style>\n",
       "<table border=\"1\" class=\"dataframe\">\n",
       "  <thead>\n",
       "    <tr style=\"text-align: right;\">\n",
       "      <th></th>\n",
       "      <th>GRE Score</th>\n",
       "      <th>TOEFL Score</th>\n",
       "      <th>CGPA</th>\n",
       "      <th>Research</th>\n",
       "      <th>Chance of Admit</th>\n",
       "    </tr>\n",
       "    <tr>\n",
       "      <th>University Rating</th>\n",
       "      <th></th>\n",
       "      <th></th>\n",
       "      <th></th>\n",
       "      <th></th>\n",
       "      <th></th>\n",
       "    </tr>\n",
       "  </thead>\n",
       "  <tbody>\n",
       "    <tr>\n",
       "      <th>4.3</th>\n",
       "      <td>316.857143</td>\n",
       "      <td>105.857143</td>\n",
       "      <td>8.434286</td>\n",
       "      <td>0.571429</td>\n",
       "      <td>0.428571</td>\n",
       "    </tr>\n",
       "    <tr>\n",
       "      <th>15.0</th>\n",
       "      <td>317.000000</td>\n",
       "      <td>110.000000</td>\n",
       "      <td>8.880000</td>\n",
       "      <td>0.000000</td>\n",
       "      <td>0.000000</td>\n",
       "    </tr>\n",
       "    <tr>\n",
       "      <th>16.0</th>\n",
       "      <td>317.000000</td>\n",
       "      <td>110.000000</td>\n",
       "      <td>8.880000</td>\n",
       "      <td>0.000000</td>\n",
       "      <td>0.000000</td>\n",
       "    </tr>\n",
       "    <tr>\n",
       "      <th>17.5</th>\n",
       "      <td>317.833333</td>\n",
       "      <td>104.833333</td>\n",
       "      <td>8.973333</td>\n",
       "      <td>0.666667</td>\n",
       "      <td>0.500000</td>\n",
       "    </tr>\n",
       "    <tr>\n",
       "      <th>20.0</th>\n",
       "      <td>317.000000</td>\n",
       "      <td>110.000000</td>\n",
       "      <td>8.880000</td>\n",
       "      <td>0.000000</td>\n",
       "      <td>1.000000</td>\n",
       "    </tr>\n",
       "    <tr>\n",
       "      <th>29.9</th>\n",
       "      <td>315.333333</td>\n",
       "      <td>106.000000</td>\n",
       "      <td>8.495000</td>\n",
       "      <td>0.333333</td>\n",
       "      <td>0.500000</td>\n",
       "    </tr>\n",
       "    <tr>\n",
       "      <th>36.6</th>\n",
       "      <td>316.000000</td>\n",
       "      <td>107.833333</td>\n",
       "      <td>7.683333</td>\n",
       "      <td>0.333333</td>\n",
       "      <td>0.500000</td>\n",
       "    </tr>\n",
       "    <tr>\n",
       "      <th>46.4</th>\n",
       "      <td>310.500000</td>\n",
       "      <td>105.666667</td>\n",
       "      <td>8.076667</td>\n",
       "      <td>0.500000</td>\n",
       "      <td>0.500000</td>\n",
       "    </tr>\n",
       "    <tr>\n",
       "      <th>47.0</th>\n",
       "      <td>317.000000</td>\n",
       "      <td>110.000000</td>\n",
       "      <td>8.880000</td>\n",
       "      <td>0.000000</td>\n",
       "      <td>1.000000</td>\n",
       "    </tr>\n",
       "    <tr>\n",
       "      <th>63.6</th>\n",
       "      <td>313.000000</td>\n",
       "      <td>104.000000</td>\n",
       "      <td>7.950000</td>\n",
       "      <td>0.500000</td>\n",
       "      <td>0.500000</td>\n",
       "    </tr>\n",
       "    <tr>\n",
       "      <th>70.7</th>\n",
       "      <td>303.000000</td>\n",
       "      <td>100.833333</td>\n",
       "      <td>6.776667</td>\n",
       "      <td>0.500000</td>\n",
       "      <td>0.500000</td>\n",
       "    </tr>\n",
       "    <tr>\n",
       "      <th>82.3</th>\n",
       "      <td>292.000000</td>\n",
       "      <td>87.000000</td>\n",
       "      <td>7.900000</td>\n",
       "      <td>0.000000</td>\n",
       "      <td>0.333333</td>\n",
       "    </tr>\n",
       "    <tr>\n",
       "      <th>99.0</th>\n",
       "      <td>293.000000</td>\n",
       "      <td>92.000000</td>\n",
       "      <td>6.000000</td>\n",
       "      <td>0.000000</td>\n",
       "      <td>1.000000</td>\n",
       "    </tr>\n",
       "  </tbody>\n",
       "</table>\n",
       "</div>"
      ],
      "text/plain": [
       "                    GRE Score  TOEFL Score      CGPA  Research  \\\n",
       "University Rating                                                \n",
       "4.3                316.857143   105.857143  8.434286  0.571429   \n",
       "15.0               317.000000   110.000000  8.880000  0.000000   \n",
       "16.0               317.000000   110.000000  8.880000  0.000000   \n",
       "17.5               317.833333   104.833333  8.973333  0.666667   \n",
       "20.0               317.000000   110.000000  8.880000  0.000000   \n",
       "29.9               315.333333   106.000000  8.495000  0.333333   \n",
       "36.6               316.000000   107.833333  7.683333  0.333333   \n",
       "46.4               310.500000   105.666667  8.076667  0.500000   \n",
       "47.0               317.000000   110.000000  8.880000  0.000000   \n",
       "63.6               313.000000   104.000000  7.950000  0.500000   \n",
       "70.7               303.000000   100.833333  6.776667  0.500000   \n",
       "82.3               292.000000    87.000000  7.900000  0.000000   \n",
       "99.0               293.000000    92.000000  6.000000  0.000000   \n",
       "\n",
       "                   Chance of Admit  \n",
       "University Rating                   \n",
       "4.3                       0.428571  \n",
       "15.0                      0.000000  \n",
       "16.0                      0.000000  \n",
       "17.5                      0.500000  \n",
       "20.0                      1.000000  \n",
       "29.9                      0.500000  \n",
       "36.6                      0.500000  \n",
       "46.4                      0.500000  \n",
       "47.0                      1.000000  \n",
       "63.6                      0.500000  \n",
       "70.7                      0.500000  \n",
       "82.3                      0.333333  \n",
       "99.0                      1.000000  "
      ]
     },
     "execution_count": 54,
     "metadata": {},
     "output_type": "execute_result"
    }
   ],
   "source": [
    "df_university = df.groupby(by='University Rating').mean()\n",
    "df_university"
   ]
  },
  {
   "cell_type": "code",
   "execution_count": 55,
   "metadata": {},
   "outputs": [],
   "source": [
    "x=df.drop(['Chance of Admit'],axis=1)\n",
    "y=df['Chance of Admit']\n",
    "# here we are droping the Chance of Admit and serial no, as they are not going to be used for the features \n",
    "# Chance of Admit is the target column which shows the probalility of admission for a candidate."
   ]
  },
  {
   "cell_type": "code",
   "execution_count": 56,
   "metadata": {},
   "outputs": [
    {
     "data": {
      "text/html": [
       "<div>\n",
       "<style scoped>\n",
       "    .dataframe tbody tr th:only-of-type {\n",
       "        vertical-align: middle;\n",
       "    }\n",
       "\n",
       "    .dataframe tbody tr th {\n",
       "        vertical-align: top;\n",
       "    }\n",
       "\n",
       "    .dataframe thead th {\n",
       "        text-align: right;\n",
       "    }\n",
       "</style>\n",
       "<table border=\"1\" class=\"dataframe\">\n",
       "  <thead>\n",
       "    <tr style=\"text-align: right;\">\n",
       "      <th></th>\n",
       "      <th>GRE Score</th>\n",
       "      <th>TOEFL Score</th>\n",
       "      <th>University Rating</th>\n",
       "      <th>CGPA</th>\n",
       "      <th>Research</th>\n",
       "    </tr>\n",
       "  </thead>\n",
       "  <tbody>\n",
       "    <tr>\n",
       "      <th>0</th>\n",
       "      <td>317</td>\n",
       "      <td>110</td>\n",
       "      <td>47.0</td>\n",
       "      <td>8.88</td>\n",
       "      <td>0</td>\n",
       "    </tr>\n",
       "    <tr>\n",
       "      <th>1</th>\n",
       "      <td>317</td>\n",
       "      <td>110</td>\n",
       "      <td>16.0</td>\n",
       "      <td>8.88</td>\n",
       "      <td>0</td>\n",
       "    </tr>\n",
       "    <tr>\n",
       "      <th>2</th>\n",
       "      <td>317</td>\n",
       "      <td>110</td>\n",
       "      <td>4.3</td>\n",
       "      <td>8.88</td>\n",
       "      <td>0</td>\n",
       "    </tr>\n",
       "    <tr>\n",
       "      <th>3</th>\n",
       "      <td>317</td>\n",
       "      <td>110</td>\n",
       "      <td>20.0</td>\n",
       "      <td>8.88</td>\n",
       "      <td>0</td>\n",
       "    </tr>\n",
       "    <tr>\n",
       "      <th>4</th>\n",
       "      <td>317</td>\n",
       "      <td>110</td>\n",
       "      <td>15.0</td>\n",
       "      <td>8.88</td>\n",
       "      <td>0</td>\n",
       "    </tr>\n",
       "  </tbody>\n",
       "</table>\n",
       "</div>"
      ],
      "text/plain": [
       "   GRE Score  TOEFL Score  University Rating  CGPA  Research\n",
       "0        317          110               47.0  8.88         0\n",
       "1        317          110               16.0  8.88         0\n",
       "2        317          110                4.3  8.88         0\n",
       "3        317          110               20.0  8.88         0\n",
       "4        317          110               15.0  8.88         0"
      ]
     },
     "execution_count": 56,
     "metadata": {},
     "output_type": "execute_result"
    }
   ],
   "source": [
    "x.head() # checking the transformed feature column"
   ]
  },
  {
   "cell_type": "code",
   "execution_count": 57,
   "metadata": {},
   "outputs": [
    {
     "data": {
      "text/plain": [
       "(49, 1)"
      ]
     },
     "execution_count": 57,
     "metadata": {},
     "output_type": "execute_result"
    }
   ],
   "source": [
    "x = np.array(x)\n",
    "y = np.array(y)\n",
    "y = y.reshape(-1,1)\n",
    "y.shape"
   ]
  },
  {
   "cell_type": "code",
   "execution_count": 58,
   "metadata": {},
   "outputs": [
    {
     "data": {
      "text/plain": [
       "array([[ 0.40525612,  0.66139823,  0.2973651 ,  0.759955  , -0.8304548 ],\n",
       "       [ 0.40525612,  0.66139823, -0.93007399,  0.759955  , -0.8304548 ],\n",
       "       [ 0.40525612,  0.66139823, -1.39333325,  0.759955  , -0.8304548 ],\n",
       "       [ 0.40525612,  0.66139823, -0.77169475,  0.759955  , -0.8304548 ],\n",
       "       [ 0.40525612,  0.66139823, -0.9696688 ,  0.759955  , -0.8304548 ],\n",
       "       [-1.50106866, -1.3571251 ,  2.35629518, -1.98779928, -0.8304548 ],\n",
       "       [-1.73935926, -1.58140547,  1.69506186, -0.55667726, -0.8304548 ],\n",
       "       [-1.02448747, -1.58140547,  1.69506186,  0.30199595, -0.8304548 ],\n",
       "       [-1.97764986, -2.59066713,  1.69506186, -0.27045286, -0.8304548 ],\n",
       "       [ 1.27898831,  0.66139823,  0.95463893, -0.30861611, -0.8304548 ],\n",
       "       [ 0.08753532, -0.46000362,  0.95463893, -0.27045286,  1.20415946],\n",
       "       [-0.86562707, -0.90856436,  0.95463893,  0.29245514,  1.20415946],\n",
       "       [-0.15075528,  0.66139823,  0.95463893, -0.22274879, -0.8304548 ],\n",
       "       [ 1.59670911,  0.66139823, -1.39333325,  0.62638361,  1.20415946],\n",
       "       [ 1.67613931,  0.99781879, -1.39333325,  1.30378137,  1.20415946],\n",
       "       [ 2.0732903 ,  1.55851971, -1.39333325,  0.96031208,  1.20415946],\n",
       "       [-0.94505727, -1.58140547, -1.39333325,  0.11117968,  1.20415946],\n",
       "       [-0.94505727, -0.46000362, -1.39333325, -0.70933028, -0.8304548 ],\n",
       "       [-1.10391767, -0.46000362, -1.39333325, -0.70933028, -0.8304548 ],\n",
       "       [ 1.04069771, -0.46000362,  1.23576208,  0.58822036, -0.8304548 ],\n",
       "       [-0.86562707, -0.46000362,  1.23576208, -1.07188119,  1.20415946],\n",
       "       [-1.42163846,  0.10069731,  1.23576208, -0.71887109,  1.20415946],\n",
       "       [-1.34220827, -1.02070454,  1.23576208, -2.87509494, -0.8304548 ],\n",
       "       [-0.94505727,  0.66139823,  1.23576208, -2.56024809, -0.8304548 ],\n",
       "       [-0.70676667, -1.02070454,  1.23576208, -0.84290166,  1.20415946],\n",
       "       [ 1.83499971,  1.22209916, -0.87068177,  1.65679147,  1.20415946],\n",
       "       [ 1.04069771,  0.66139823, -0.87068177,  1.7521996 ,  1.20415946],\n",
       "       [ 1.19955811,  0.43711786, -0.87068177,  1.2560773 ,  1.20415946],\n",
       "       [-0.38904587, -1.13284473, -0.87068177, -0.74749353,  1.20415946],\n",
       "       [ 0.08753532,  0.32497768, -0.87068177,  0.58822036, -0.8304548 ],\n",
       "       [-0.94505727, -1.02070454, -0.87068177,  0.58822036, -0.8304548 ],\n",
       "       [ 0.64354672,  0.8856786 , -0.11442092, -0.36586099,  1.20415946],\n",
       "       [ 0.80240711,  0.32497768, -0.11442092, -0.65208539,  1.20415946],\n",
       "       [ 0.72297692,  1.55851971, -0.11442092,  0.74087337, -0.8304548 ],\n",
       "       [ 0.16696552,  0.8856786 , -0.11442092, -1.68249325, -0.8304548 ],\n",
       "       [-0.07132508,  0.32497768, -0.11442092, -0.7284119 , -0.8304548 ],\n",
       "       [-0.30961567, -1.46926528, -0.11442092,  0.39740409, -0.8304548 ],\n",
       "       [ 0.56411652,  1.33423934, -0.37970614,  1.41827113, -0.8304548 ],\n",
       "       [ 0.56411652,  1.6706599 , -0.37970614,  0.78857744,  1.20415946],\n",
       "       [ 1.12012791,  0.10069731, -0.37970614,  0.80765907, -0.8304548 ],\n",
       "       [-0.54790627, -2.14210639, -0.37970614,  0.49281222, -0.8304548 ],\n",
       "       [ 0.96126751,  0.10069731, -0.37970614, -0.65208539, -0.8304548 ],\n",
       "       [-1.02448747,  0.21283749, -0.37970614, -0.49943238,  1.20415946],\n",
       "       [ 0.72297692,  0.43711786,  0.27360821, -0.14642228,  1.20415946],\n",
       "       [ 0.48468632,  0.66139823,  0.27360821,  0.15888375, -0.8304548 ],\n",
       "       [ 0.32582592,  0.66139823,  0.27360821,  0.9698529 , -0.8304548 ],\n",
       "       [-0.15075528, -0.23572325,  0.27360821, -1.03371793, -0.8304548 ],\n",
       "       [-0.94505727,  0.10069731,  0.27360821, -0.36586099,  1.20415946],\n",
       "       [-1.10391767, -0.5721438 ,  0.27360821,  0.37832246,  1.20415946]])"
      ]
     },
     "execution_count": 58,
     "metadata": {},
     "output_type": "execute_result"
    }
   ],
   "source": [
    "# to be only used if you want to scale the data,standize the data,if the variation is huge in the dataset\n",
    "# when we have huge variation in the data set\n",
    "# i am not changing the data , i am changing the scale only like taking logs, sqrt--not changing the actual meaning of the data set\n",
    "# variance betweeen the dataset become very low\n",
    "# machine will understand in better way this data  as having low variance in the data set\n",
    "\n",
    "from sklearn.preprocessing import StandardScaler\n",
    "scaler_feature=StandardScaler()\n",
    "scaler_lablel=StandardScaler()\n",
    "scaled_data=scaler_feature.fit_transform(x)\n",
    "scaler_y = StandardScaler()\n",
    "y = scaler_y.fit_transform(y)\n",
    "scaled_data"
   ]
  },
  {
   "cell_type": "code",
   "execution_count": 59,
   "metadata": {},
   "outputs": [],
   "source": [
    "#splitting the data into training and testing sets\n",
    "from sklearn.model_selection import train_test_split\n",
    "train_x,test_x,train_y,test_y=train_test_split(x,y,test_size=0.33,random_state=100)\n",
    "# finding mi c1 , m2 c2,..... "
   ]
  },
  {
   "cell_type": "code",
   "execution_count": 60,
   "metadata": {},
   "outputs": [
    {
     "data": {
      "text/plain": [
       "LinearRegression()"
      ]
     },
     "execution_count": 60,
     "metadata": {},
     "output_type": "execute_result"
    }
   ],
   "source": [
    "# fitting the data to the linear regression model\n",
    "from sklearn import linear_model\n",
    "from sklearn.linear_model import LinearRegression\n",
    "from sklearn.metrics import mean_squared_error, accuracy_score\n",
    "reg=linear_model.LinearRegression()\n",
    "reg.fit(train_x,train_y)"
   ]
  },
  {
   "cell_type": "code",
   "execution_count": 61,
   "metadata": {},
   "outputs": [
    {
     "data": {
      "text/plain": [
       "-0.4809549325933795"
      ]
     },
     "execution_count": 61,
     "metadata": {},
     "output_type": "execute_result"
    }
   ],
   "source": [
    "# calc the accuracy of the model\n",
    "from sklearn.metrics import r2_score\n",
    "score=r2_score(reg.predict(test_x),test_y)\n",
    "score"
   ]
  },
  {
   "cell_type": "code",
   "execution_count": 62,
   "metadata": {},
   "outputs": [
    {
     "name": "stdout",
     "output_type": "stream",
     "text": [
      "                   coefficient\n",
      "GRE Score             0.045986\n",
      "TOEFL Score           0.013749\n",
      "University Rating     0.017262\n",
      "CGPA                  0.243238\n",
      "Research              0.608148\n",
      "Feature: 0, Score: 0.04599\n",
      "Feature: 1, Score: 0.01375\n",
      "Feature: 2, Score: 0.01726\n",
      "Feature: 3, Score: 0.24324\n",
      "Feature: 4, Score: 0.60815\n"
     ]
    },
    {
     "data": {
      "image/png": "[encoded data removed]",
      "text/plain": [
       "<Figure size 432x288 with 1 Axes>"
      ]
     },
     "metadata": {
      "needs_background": "light"
     },
     "output_type": "display_data"
    }
   ],
   "source": [
    "intercept = reg.intercept_\n",
    "dfx = df.drop('Chance of Admit' , axis=1)\n",
    "importance = reg.coef_[0]\n",
    "features = pd.DataFrame(importance, dfx.columns, columns=['coefficient'])\n",
    "print(features)\n",
    "for i,v in enumerate(importance):\n",
    "\tprint('Feature: %0d, Score: %.5f' % (i,v))\n",
    "# plot feature importance\n",
    "plt.bar([x for x in range(len(importance))], importance)\n",
    "plt.show()"
   ]
  },
  {
   "cell_type": "code",
   "execution_count": 63,
   "metadata": {},
   "outputs": [],
   "source": [
    "#splitting the data into training and testing sets\n",
    "from sklearn.model_selection import train_test_split\n",
    "train_x,test_x,train_y,test_y=train_test_split(x,y,test_size=0.20,random_state=100)\n",
    "# finding mi c1 , m2 c2,..... "
   ]
  },
  {
   "cell_type": "code",
   "execution_count": 64,
   "metadata": {},
   "outputs": [
    {
     "data": {
      "text/plain": [
       "LinearRegression()"
      ]
     },
     "execution_count": 64,
     "metadata": {},
     "output_type": "execute_result"
    }
   ],
   "source": [
    "# fitting the data to the linear regression model\n",
    "from sklearn import linear_model\n",
    "from sklearn.linear_model import LinearRegression\n",
    "reg=linear_model.LinearRegression()\n",
    "reg.fit(train_x,train_y)"
   ]
  },
  {
   "cell_type": "code",
   "execution_count": 65,
   "metadata": {},
   "outputs": [
    {
     "data": {
      "text/plain": [
       "-2.5890785958947835"
      ]
     },
     "execution_count": 65,
     "metadata": {},
     "output_type": "execute_result"
    }
   ],
   "source": [
    "# calc the accuracy of the model\n",
    "from sklearn.metrics import r2_score\n",
    "score=r2_score(reg.predict(test_x),test_y)\n",
    "score"
   ]
  },
  {
   "cell_type": "markdown",
   "metadata": {},
   "source": [
    "# ANN Model"
   ]
  },
  {
   "cell_type": "code",
   "execution_count": 66,
   "metadata": {},
   "outputs": [],
   "source": [
    "import tensorflow as tf\n",
    "from tensorflow import keras\n",
    "#tf.keras.layers.Dense\n",
    "from tensorflow.keras.layers import Dense, Activation, Dropout\n",
    "from tensorflow.keras.optimizers import Adam\n",
    "#opt = keras.optimizers.Adam(learning_rate=0.01)\n"
   ]
  },
  {
   "cell_type": "code",
   "execution_count": 67,
   "metadata": {},
   "outputs": [
    {
     "name": "stdout",
     "output_type": "stream",
     "text": [
      "Model: \"sequential_2\"\n",
      "_________________________________________________________________\n",
      " Layer (type)                Output Shape              Param #   \n",
      "=================================================================\n",
      " dense_10 (Dense)            (None, 50)                300       \n",
      "                                                                 \n",
      " activation_8 (Activation)   (None, 50)                0         \n",
      "                                                                 \n",
      " dense_11 (Dense)            (None, 150)               7650      \n",
      "                                                                 \n",
      " activation_9 (Activation)   (None, 150)               0         \n",
      "                                                                 \n",
      " dropout_4 (Dropout)         (None, 150)               0         \n",
      "                                                                 \n",
      " dense_12 (Dense)            (None, 150)               22650     \n",
      "                                                                 \n",
      " activation_10 (Activation)  (None, 150)               0         \n",
      "                                                                 \n",
      " dropout_5 (Dropout)         (None, 150)               0         \n",
      "                                                                 \n",
      " dense_13 (Dense)            (None, 50)                7550      \n",
      "                                                                 \n",
      " activation_11 (Activation)  (None, 50)                0         \n",
      "                                                                 \n",
      " dense_14 (Dense)            (None, 1)                 51        \n",
      "                                                                 \n",
      "=================================================================\n",
      "Total params: 38,201\n",
      "Trainable params: 38,201\n",
      "Non-trainable params: 0\n",
      "_________________________________________________________________\n"
     ]
    }
   ],
   "source": [
    "ANN_model = keras.Sequential()\n",
    "ANN_model.add(Dense(50, input_dim = 5))\n",
    "ANN_model.add(Activation('relu'))\n",
    "ANN_model.add(Dense(150))\n",
    "ANN_model.add(Activation('relu'))\n",
    "ANN_model.add(Dropout(0.5))\n",
    "ANN_model.add(Dense(150))\n",
    "ANN_model.add(Activation('relu'))\n",
    "ANN_model.add(Dropout(0.5))\n",
    "ANN_model.add(Dense(50))\n",
    "ANN_model.add(Activation('linear'))\n",
    "ANN_model.add(Dense(1))\n",
    "ANN_model.compile(loss = 'mean_squared_error', optimizer = 'adam')\n",
    "ANN_model.summary()"
   ]
  },
  {
   "cell_type": "code",
   "execution_count": 68,
   "metadata": {},
   "outputs": [],
   "source": [
    "ANN_model.compile(optimizer='adam', loss='mean_squared_error')"
   ]
  },
  {
   "cell_type": "code",
   "execution_count": 69,
   "metadata": {},
   "outputs": [
    {
     "name": "stdout",
     "output_type": "stream",
     "text": [
      "Epoch 1/100\n",
      "2/2 [==============================] - 1s 112ms/step - loss: 4554.9199 - val_loss: 51.9085\n",
      "Epoch 2/100\n",
      "2/2 [==============================] - 0s 25ms/step - loss: 2783.8298 - val_loss: 22.6498\n",
      "Epoch 3/100\n",
      "2/2 [==============================] - 0s 61ms/step - loss: 1070.2483 - val_loss: 59.6720\n",
      "Epoch 4/100\n",
      "2/2 [==============================] - 0s 26ms/step - loss: 1681.3689 - val_loss: 120.6405\n",
      "Epoch 5/100\n",
      "2/2 [==============================] - 0s 25ms/step - loss: 1920.5536 - val_loss: 510.0617\n",
      "Epoch 6/100\n",
      "2/2 [==============================] - 0s 46ms/step - loss: 989.1683 - val_loss: 684.3516\n",
      "Epoch 7/100\n",
      "2/2 [==============================] - 0s 28ms/step - loss: 1581.5557 - val_loss: 339.0549\n",
      "Epoch 8/100\n",
      "2/2 [==============================] - 0s 24ms/step - loss: 995.0842 - val_loss: 86.3853\n",
      "Epoch 9/100\n",
      "2/2 [==============================] - 0s 30ms/step - loss: 838.0998 - val_loss: 8.6062\n",
      "Epoch 10/100\n",
      "2/2 [==============================] - 0s 25ms/step - loss: 507.8871 - val_loss: 3.0495\n",
      "Epoch 11/100\n",
      "2/2 [==============================] - 0s 32ms/step - loss: 574.9908 - val_loss: 2.3816\n",
      "Epoch 12/100\n",
      "2/2 [==============================] - 0s 25ms/step - loss: 727.0464 - val_loss: 5.3077\n",
      "Epoch 13/100\n",
      "2/2 [==============================] - 0s 21ms/step - loss: 760.1765 - val_loss: 43.0503\n",
      "Epoch 14/100\n",
      "2/2 [==============================] - 0s 26ms/step - loss: 194.3895 - val_loss: 96.6439\n",
      "Epoch 15/100\n",
      "2/2 [==============================] - 0s 36ms/step - loss: 544.4274 - val_loss: 121.6880\n",
      "Epoch 16/100\n",
      "2/2 [==============================] - 0s 28ms/step - loss: 332.3487 - val_loss: 101.6889\n",
      "Epoch 17/100\n",
      "2/2 [==============================] - 0s 36ms/step - loss: 384.1035 - val_loss: 56.6339\n",
      "Epoch 18/100\n",
      "2/2 [==============================] - 0s 26ms/step - loss: 261.3517 - val_loss: 21.7133\n",
      "Epoch 19/100\n",
      "2/2 [==============================] - 0s 21ms/step - loss: 233.3264 - val_loss: 6.0287\n",
      "Epoch 20/100\n",
      "2/2 [==============================] - 0s 22ms/step - loss: 207.7618 - val_loss: 2.6712\n",
      "Epoch 21/100\n",
      "2/2 [==============================] - 0s 20ms/step - loss: 180.3248 - val_loss: 2.3771\n",
      "Epoch 22/100\n",
      "2/2 [==============================] - 0s 23ms/step - loss: 104.1061 - val_loss: 2.8151\n",
      "Epoch 23/100\n",
      "2/2 [==============================] - 0s 23ms/step - loss: 101.8873 - val_loss: 6.3097\n",
      "Epoch 24/100\n",
      "2/2 [==============================] - 0s 27ms/step - loss: 92.3092 - val_loss: 12.6853\n",
      "Epoch 25/100\n",
      "2/2 [==============================] - 0s 23ms/step - loss: 105.2922 - val_loss: 18.2998\n",
      "Epoch 26/100\n",
      "2/2 [==============================] - 0s 25ms/step - loss: 117.8105 - val_loss: 20.9566\n",
      "Epoch 27/100\n",
      "2/2 [==============================] - 0s 24ms/step - loss: 70.5927 - val_loss: 20.9160\n",
      "Epoch 28/100\n",
      "2/2 [==============================] - 0s 21ms/step - loss: 94.4323 - val_loss: 22.3698\n",
      "Epoch 29/100\n",
      "2/2 [==============================] - 0s 24ms/step - loss: 56.0151 - val_loss: 23.4368\n",
      "Epoch 30/100\n",
      "2/2 [==============================] - 0s 24ms/step - loss: 99.0602 - val_loss: 18.8756\n",
      "Epoch 31/100\n",
      "2/2 [==============================] - 0s 32ms/step - loss: 39.7073 - val_loss: 12.7725\n",
      "Epoch 32/100\n",
      "2/2 [==============================] - 0s 28ms/step - loss: 62.3206 - val_loss: 7.1554\n",
      "Epoch 33/100\n",
      "2/2 [==============================] - 0s 30ms/step - loss: 81.8305 - val_loss: 3.0545\n",
      "Epoch 34/100\n",
      "2/2 [==============================] - 0s 23ms/step - loss: 52.3977 - val_loss: 1.7400\n",
      "Epoch 35/100\n",
      "2/2 [==============================] - 0s 20ms/step - loss: 38.5232 - val_loss: 1.5120\n",
      "Epoch 36/100\n",
      "2/2 [==============================] - 0s 21ms/step - loss: 62.6995 - val_loss: 1.6740\n",
      "Epoch 37/100\n",
      "2/2 [==============================] - 0s 22ms/step - loss: 54.2087 - val_loss: 2.1811\n",
      "Epoch 38/100\n",
      "2/2 [==============================] - 0s 23ms/step - loss: 50.3863 - val_loss: 2.9662\n",
      "Epoch 39/100\n",
      "2/2 [==============================] - 0s 22ms/step - loss: 36.7453 - val_loss: 3.8874\n",
      "Epoch 40/100\n",
      "2/2 [==============================] - 0s 28ms/step - loss: 53.4506 - val_loss: 4.6166\n",
      "Epoch 41/100\n",
      "2/2 [==============================] - 0s 26ms/step - loss: 48.9133 - val_loss: 5.1457\n",
      "Epoch 42/100\n",
      "2/2 [==============================] - 0s 25ms/step - loss: 50.8309 - val_loss: 5.0931\n",
      "Epoch 43/100\n",
      "2/2 [==============================] - 0s 21ms/step - loss: 29.8415 - val_loss: 4.4957\n",
      "Epoch 44/100\n",
      "2/2 [==============================] - 0s 20ms/step - loss: 30.7503 - val_loss: 3.5575\n",
      "Epoch 45/100\n",
      "2/2 [==============================] - 0s 19ms/step - loss: 36.9146 - val_loss: 2.7899\n",
      "Epoch 46/100\n",
      "2/2 [==============================] - 0s 20ms/step - loss: 22.6521 - val_loss: 2.0728\n",
      "Epoch 47/100\n",
      "2/2 [==============================] - 0s 22ms/step - loss: 49.4031 - val_loss: 1.5545\n",
      "Epoch 48/100\n",
      "2/2 [==============================] - 0s 36ms/step - loss: 31.7547 - val_loss: 1.2583\n",
      "Epoch 49/100\n",
      "2/2 [==============================] - 0s 25ms/step - loss: 39.2315 - val_loss: 1.1075\n",
      "Epoch 50/100\n",
      "2/2 [==============================] - 0s 23ms/step - loss: 39.5867 - val_loss: 1.1108\n",
      "Epoch 51/100\n",
      "2/2 [==============================] - 0s 21ms/step - loss: 33.6977 - val_loss: 1.2068\n",
      "Epoch 52/100\n",
      "2/2 [==============================] - 0s 22ms/step - loss: 47.3693 - val_loss: 1.4754\n",
      "Epoch 53/100\n",
      "2/2 [==============================] - 0s 21ms/step - loss: 18.9174 - val_loss: 1.8423\n",
      "Epoch 54/100\n",
      "2/2 [==============================] - 0s 22ms/step - loss: 24.0429 - val_loss: 2.3832\n",
      "Epoch 55/100\n",
      "2/2 [==============================] - 0s 29ms/step - loss: 29.3750 - val_loss: 2.8066\n",
      "Epoch 56/100\n",
      "2/2 [==============================] - 0s 23ms/step - loss: 19.4727 - val_loss: 3.0283\n",
      "Epoch 57/100\n",
      "2/2 [==============================] - 0s 28ms/step - loss: 25.3639 - val_loss: 2.9258\n",
      "Epoch 58/100\n",
      "2/2 [==============================] - 0s 24ms/step - loss: 28.2420 - val_loss: 2.6058\n",
      "Epoch 59/100\n",
      "2/2 [==============================] - 0s 29ms/step - loss: 22.4367 - val_loss: 2.0722\n",
      "Epoch 60/100\n",
      "2/2 [==============================] - 0s 25ms/step - loss: 22.4753 - val_loss: 1.6251\n",
      "Epoch 61/100\n",
      "2/2 [==============================] - 0s 21ms/step - loss: 15.8643 - val_loss: 1.3578\n",
      "Epoch 62/100\n",
      "2/2 [==============================] - 0s 27ms/step - loss: 19.7894 - val_loss: 1.1998\n",
      "Epoch 63/100\n",
      "2/2 [==============================] - 0s 29ms/step - loss: 19.4979 - val_loss: 1.0696\n",
      "Epoch 64/100\n",
      "2/2 [==============================] - 0s 22ms/step - loss: 17.3895 - val_loss: 1.0291\n",
      "Epoch 65/100\n",
      "2/2 [==============================] - 0s 20ms/step - loss: 12.2216 - val_loss: 1.0147\n",
      "Epoch 66/100\n",
      "2/2 [==============================] - 0s 21ms/step - loss: 25.6497 - val_loss: 1.0114\n",
      "Epoch 67/100\n",
      "2/2 [==============================] - 0s 19ms/step - loss: 15.7343 - val_loss: 1.0354\n",
      "Epoch 68/100\n",
      "2/2 [==============================] - 0s 22ms/step - loss: 15.2831 - val_loss: 1.0661\n",
      "Epoch 69/100\n",
      "2/2 [==============================] - 0s 22ms/step - loss: 21.2136 - val_loss: 1.0831\n",
      "Epoch 70/100\n",
      "2/2 [==============================] - 0s 26ms/step - loss: 9.4263 - val_loss: 1.0793\n",
      "Epoch 71/100\n",
      "2/2 [==============================] - 0s 31ms/step - loss: 15.9416 - val_loss: 1.0854\n",
      "Epoch 72/100\n",
      "2/2 [==============================] - 0s 22ms/step - loss: 17.5602 - val_loss: 1.0722\n",
      "Epoch 73/100\n",
      "2/2 [==============================] - 0s 21ms/step - loss: 14.9421 - val_loss: 1.0808\n",
      "Epoch 74/100\n",
      "2/2 [==============================] - 0s 22ms/step - loss: 11.4540 - val_loss: 1.0852\n",
      "Epoch 75/100\n",
      "2/2 [==============================] - 0s 20ms/step - loss: 24.2096 - val_loss: 1.1133\n",
      "Epoch 76/100\n",
      "2/2 [==============================] - 0s 22ms/step - loss: 9.3985 - val_loss: 1.1556\n",
      "Epoch 77/100\n",
      "2/2 [==============================] - 0s 29ms/step - loss: 10.7828 - val_loss: 1.2371\n",
      "Epoch 78/100\n",
      "2/2 [==============================] - 0s 27ms/step - loss: 9.9045 - val_loss: 1.3219\n",
      "Epoch 79/100\n",
      "2/2 [==============================] - 0s 23ms/step - loss: 16.1535 - val_loss: 1.3430\n",
      "Epoch 80/100\n",
      "2/2 [==============================] - 0s 21ms/step - loss: 7.6434 - val_loss: 1.3068\n",
      "Epoch 81/100\n",
      "2/2 [==============================] - 0s 20ms/step - loss: 10.7046 - val_loss: 1.2263\n",
      "Epoch 82/100\n",
      "2/2 [==============================] - 0s 24ms/step - loss: 12.2397 - val_loss: 1.1523\n",
      "Epoch 83/100\n",
      "2/2 [==============================] - 0s 24ms/step - loss: 11.4343 - val_loss: 1.1218\n",
      "Epoch 84/100\n",
      "2/2 [==============================] - 0s 25ms/step - loss: 9.3461 - val_loss: 1.0878\n",
      "Epoch 85/100\n",
      "2/2 [==============================] - 0s 25ms/step - loss: 17.3398 - val_loss: 1.0925\n",
      "Epoch 86/100\n",
      "2/2 [==============================] - 0s 26ms/step - loss: 7.4182 - val_loss: 1.1147\n",
      "Epoch 87/100\n",
      "2/2 [==============================] - 0s 22ms/step - loss: 13.3200 - val_loss: 1.1128\n",
      "Epoch 88/100\n",
      "2/2 [==============================] - 0s 21ms/step - loss: 11.5532 - val_loss: 1.1096\n",
      "Epoch 89/100\n",
      "2/2 [==============================] - 0s 21ms/step - loss: 9.5594 - val_loss: 1.1008\n",
      "Epoch 90/100\n",
      "2/2 [==============================] - 0s 21ms/step - loss: 9.9448 - val_loss: 1.1102\n",
      "Epoch 91/100\n",
      "2/2 [==============================] - 0s 20ms/step - loss: 12.4471 - val_loss: 1.0834\n",
      "Epoch 92/100\n",
      "2/2 [==============================] - 0s 23ms/step - loss: 14.0172 - val_loss: 1.0589\n",
      "Epoch 93/100\n",
      "2/2 [==============================] - 0s 25ms/step - loss: 4.6447 - val_loss: 1.0467\n",
      "Epoch 94/100\n",
      "2/2 [==============================] - 0s 45ms/step - loss: 9.1778 - val_loss: 1.0543\n",
      "Epoch 95/100\n",
      "2/2 [==============================] - 0s 29ms/step - loss: 10.2158 - val_loss: 1.0975\n",
      "Epoch 96/100\n",
      "2/2 [==============================] - 0s 22ms/step - loss: 7.1172 - val_loss: 1.1353\n",
      "Epoch 97/100\n",
      "2/2 [==============================] - 0s 24ms/step - loss: 6.6038 - val_loss: 1.1237\n",
      "Epoch 98/100\n",
      "2/2 [==============================] - 0s 32ms/step - loss: 11.2358 - val_loss: 1.0851\n",
      "Epoch 99/100\n",
      "2/2 [==============================] - 0s 26ms/step - loss: 9.4167 - val_loss: 1.0997\n",
      "Epoch 100/100\n",
      "2/2 [==============================] - 0s 24ms/step - loss: 9.2757 - val_loss: 1.1978\n"
     ]
    }
   ],
   "source": [
    "epochs_hist = ANN_model.fit(train_x, train_y, epochs = 100, batch_size = 20, validation_split = 0.2)"
   ]
  },
  {
   "cell_type": "code",
   "execution_count": 70,
   "metadata": {},
   "outputs": [
    {
     "name": "stdout",
     "output_type": "stream",
     "text": [
      "1/1 [==============================] - 0s 17ms/step - loss: 1.2100\n",
      "Accuracy : -0.21004986763000488\n"
     ]
    }
   ],
   "source": [
    "result = ANN_model.evaluate(test_x, test_y)\n",
    "accuracy_ANN = 1 - result\n",
    "print(\"Accuracy : {}\".format(accuracy_ANN))"
   ]
  },
  {
   "cell_type": "code",
   "execution_count": 71,
   "metadata": {},
   "outputs": [
    {
     "data": {
      "text/plain": [
       "dict_keys(['loss', 'val_loss'])"
      ]
     },
     "execution_count": 71,
     "metadata": {},
     "output_type": "execute_result"
    }
   ],
   "source": [
    "epochs_hist.history.keys()"
   ]
  },
  {
   "cell_type": "code",
   "execution_count": 72,
   "metadata": {},
   "outputs": [
    {
     "data": {
      "text/plain": [
       "<matplotlib.legend.Legend at 0x1de09d73d90>"
      ]
     },
     "execution_count": 72,
     "metadata": {},
     "output_type": "execute_result"
    },
    {
     "data": {
      "image/png": "[encoded data removed]",
      "text/plain": [
       "<Figure size 432x288 with 1 Axes>"
      ]
     },
     "metadata": {
      "needs_background": "light"
     },
     "output_type": "display_data"
    }
   ],
   "source": [
    "plt.plot(epochs_hist.history['loss'])\n",
    "plt.title('Model Loss Progress During Training')\n",
    "plt.xlabel('Epoch')\n",
    "plt.ylabel('Training Loss')\n",
    "plt.legend(['Training Loss'])"
   ]
  },
  {
   "cell_type": "markdown",
   "metadata": {},
   "source": [
    "# Decesion Tree Model"
   ]
  },
  {
   "cell_type": "code",
   "execution_count": 73,
   "metadata": {},
   "outputs": [
    {
     "data": {
      "text/plain": [
       "DecisionTreeRegressor()"
      ]
     },
     "execution_count": 73,
     "metadata": {},
     "output_type": "execute_result"
    }
   ],
   "source": [
    "# Decision tree builds regression or classification models in the form of a tree structure. \n",
    "# Decision tree breaks down a dataset into smaller subsets while at the same time an associated decision tree is incrementally developed. \n",
    "# The final result is a tree with decision nodes and leaf nodes.\n",
    "\n",
    "\n",
    "from sklearn.tree import DecisionTreeRegressor\n",
    "decisionTree_model = DecisionTreeRegressor()\n",
    "decisionTree_model.fit(train_x, train_y)"
   ]
  },
  {
   "cell_type": "code",
   "execution_count": 74,
   "metadata": {},
   "outputs": [
    {
     "name": "stdout",
     "output_type": "stream",
     "text": [
      "                    coefficient\n",
      "GRE Score          7.707231e-01\n",
      "TOEFL Score        8.253968e-02\n",
      "University Rating  1.467372e-01\n",
      "CGPA               5.724956e-17\n",
      "Research           3.434973e-17\n",
      "Feature: 0, Score: 0.77072\n",
      "Feature: 1, Score: 0.08254\n",
      "Feature: 2, Score: 0.14674\n",
      "Feature: 3, Score: 0.00000\n",
      "Feature: 4, Score: 0.00000\n"
     ]
    },
    {
     "data": {
      "image/png": "[encoded data removed]",
      "text/plain": [
       "<Figure size 432x288 with 1 Axes>"
      ]
     },
     "metadata": {
      "needs_background": "light"
     },
     "output_type": "display_data"
    }
   ],
   "source": [
    "#feature Importancce testing\n",
    "dfx = df.drop('Chance of Admit' , axis=1)\n",
    "importance = decisionTree_model.feature_importances_\n",
    "features = pd.DataFrame(importance, dfx.columns, columns=['coefficient'])\n",
    "print(features)\n",
    "for i,v in enumerate(importance):\n",
    "\tprint('Feature: %0d, Score: %.5f' % (i,v))\n",
    "# plot feature importance\n",
    "plt.bar([x for x in range(len(importance))], importance)\n",
    "plt.show()"
   ]
  },
  {
   "cell_type": "code",
   "execution_count": 75,
   "metadata": {},
   "outputs": [
    {
     "data": {
      "text/plain": [
       "-0.25"
      ]
     },
     "execution_count": 75,
     "metadata": {},
     "output_type": "execute_result"
    }
   ],
   "source": [
    "accuracy_decisionTree = decisionTree_model.score(test_x, test_y)\n",
    "accuracy_decisionTree"
   ]
  },
  {
   "cell_type": "markdown",
   "metadata": {},
   "source": [
    "# Random Forrest Model"
   ]
  },
  {
   "cell_type": "markdown",
   "metadata": {},
   "source": []
  },
  {
   "cell_type": "code",
   "execution_count": 76,
   "metadata": {},
   "outputs": [
    {
     "name": "stderr",
     "output_type": "stream",
     "text": [
      "C:\\Users\\mrhus\\AppData\\Local\\Temp/ipykernel_1432/2085754441.py:3: DataConversionWarning: A column-vector y was passed when a 1d array was expected. Please change the shape of y to (n_samples,), for example using ravel().\n",
      "  randomForest_model.fit(train_x, train_y)\n"
     ]
    },
    {
     "data": {
      "text/plain": [
       "-0.2047916666666667"
      ]
     },
     "execution_count": 76,
     "metadata": {},
     "output_type": "execute_result"
    }
   ],
   "source": [
    "from sklearn.ensemble import RandomForestRegressor\n",
    "randomForest_model = RandomForestRegressor(n_estimators=100, max_depth=10)\n",
    "randomForest_model.fit(train_x, train_y)\n",
    "accuracy_randomforest = randomForest_model.score(test_x, test_y)\n",
    "accuracy_randomforest"
   ]
  },
  {
   "cell_type": "code",
   "execution_count": 77,
   "metadata": {},
   "outputs": [
    {
     "name": "stdout",
     "output_type": "stream",
     "text": [
      "                   coefficient\n",
      "GRE Score             0.739554\n",
      "TOEFL Score           0.027068\n",
      "University Rating     0.135723\n",
      "CGPA                  0.042512\n",
      "Research              0.055143\n",
      "Feature: 0, Score: 0.73955\n",
      "Feature: 1, Score: 0.02707\n",
      "Feature: 2, Score: 0.13572\n",
      "Feature: 3, Score: 0.04251\n",
      "Feature: 4, Score: 0.05514\n"
     ]
    },
    {
     "data": {
      "image/png": "[encoded data removed]",
      "text/plain": [
       "<Figure size 432x288 with 1 Axes>"
      ]
     },
     "metadata": {
      "needs_background": "light"
     },
     "output_type": "display_data"
    }
   ],
   "source": [
    "#feature Importancce testing\n",
    "dfx = df.drop('Chance of Admit' , axis=1)\n",
    "importance = randomForest_model.feature_importances_\n",
    "features = pd.DataFrame(importance, dfx.columns, columns=['coefficient'])\n",
    "print(features)\n",
    "for i,v in enumerate(importance):\n",
    "\tprint('Feature: %0d, Score: %.5f' % (i,v))\n",
    "# plot feature importance\n",
    "plt.bar([x for x in range(len(importance))], importance)\n",
    "plt.show()"
   ]
  },
  {
   "cell_type": "markdown",
   "metadata": {},
   "source": [
    "# Saving the model to the local file system"
   ]
  },
  {
   "cell_type": "code",
   "execution_count": 78,
   "metadata": {},
   "outputs": [
    {
     "data": {
      "text/plain": [
       "['filename.joblib']"
      ]
     },
     "execution_count": 78,
     "metadata": {},
     "output_type": "execute_result"
    }
   ],
   "source": [
    "#filename='finalized_model.pickle'\n",
    "#pickle.dump(reg,open(filename,'wb'))\n",
    "dump(randomForest_model, 'filename.joblib')"
   ]
  }
 ],
 "metadata": {
  "kernelspec": {
   "display_name": "Python 3",
   "language": "python",
   "name": "python3"
  },
  "language_info": {
   "codemirror_mode": {
    "name": "ipython",
    "version": 3
   },
   "file_extension": ".py",
   "mimetype": "text/x-python",
   "name": "python",
   "nbconvert_exporter": "python",
   "pygments_lexer": "ipython3",
   "version": "3.9.7"
  }
 },
 "nbformat": 4,
 "nbformat_minor": 2
}
