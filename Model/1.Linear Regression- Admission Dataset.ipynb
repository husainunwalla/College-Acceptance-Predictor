{
 "cells": [
  {
   "cell_type": "markdown",
   "metadata": {},
   "source": [
    "### Problem Statement\n",
    "- ### The goal here is to find the chance of admission of a candidate based on his/her GRE score, TOEFL score, rating of the university in which he/she is trying to get admission,strength of the SOP,Strength of the letter of the recommendation, CGPA and the research experience\n"
   ]
  },
  {
   "cell_type": "markdown",
   "metadata": {},
   "source": [
    "# Data Preprocessing "
   ]
  },
  {
   "cell_type": "markdown",
   "metadata": {},
   "source": []
  },
  {
   "cell_type": "code",
   "execution_count": 206,
   "metadata": {},
   "outputs": [],
   "source": [
    "#importing libraries\n",
    "import pandas as pd\n",
    "import numpy as np\n",
    "import matplotlib.pyplot as plt\n",
    "import pickle\n",
    "import seaborn as sns\n",
    "from joblib import dump\n",
    "%matplotlib inline"
   ]
  },
  {
   "cell_type": "code",
   "execution_count": 207,
   "metadata": {},
   "outputs": [],
   "source": [
    "df=pd.read_csv(\"Admission_Prediction.csv\")  # importing the data set"
   ]
  },
  {
   "cell_type": "code",
   "execution_count": 208,
   "metadata": {},
   "outputs": [],
   "source": [
    "df.drop('Serial No.', axis=1, inplace=True)\n"
   ]
  },
  {
   "cell_type": "code",
   "execution_count": 209,
   "metadata": {},
   "outputs": [],
   "source": [
    "df['GRE Score'].fillna(df['GRE Score'].mode()[0],inplace=True)\n",
    "df['TOEFL Score'].fillna(df['TOEFL Score'].mode()[0],inplace=True)\n",
    "df['University Rating'].fillna(df['University Rating'].mean(),inplace=True)"
   ]
  },
  {
   "cell_type": "code",
   "execution_count": 210,
   "metadata": {},
   "outputs": [
    {
     "data": {
      "text/html": [
       "<div>\n",
       "<style scoped>\n",
       "    .dataframe tbody tr th:only-of-type {\n",
       "        vertical-align: middle;\n",
       "    }\n",
       "\n",
       "    .dataframe tbody tr th {\n",
       "        vertical-align: top;\n",
       "    }\n",
       "\n",
       "    .dataframe thead th {\n",
       "        text-align: right;\n",
       "    }\n",
       "</style>\n",
       "<table border=\"1\" class=\"dataframe\">\n",
       "  <thead>\n",
       "    <tr style=\"text-align: right;\">\n",
       "      <th></th>\n",
       "      <th>GRE Score</th>\n",
       "      <th>TOEFL Score</th>\n",
       "      <th>SOP</th>\n",
       "      <th>LOR</th>\n",
       "      <th>CGPA</th>\n",
       "      <th>Research</th>\n",
       "      <th>Chance of Admit</th>\n",
       "    </tr>\n",
       "    <tr>\n",
       "      <th>University Rating</th>\n",
       "      <th></th>\n",
       "      <th></th>\n",
       "      <th></th>\n",
       "      <th></th>\n",
       "      <th></th>\n",
       "      <th></th>\n",
       "      <th></th>\n",
       "    </tr>\n",
       "  </thead>\n",
       "  <tbody>\n",
       "    <tr>\n",
       "      <th>4.3</th>\n",
       "      <td>317.0</td>\n",
       "      <td>110.0</td>\n",
       "      <td>3.000000</td>\n",
       "      <td>3.000000</td>\n",
       "      <td>8.88</td>\n",
       "      <td>0.0</td>\n",
       "      <td>0.000000</td>\n",
       "    </tr>\n",
       "    <tr>\n",
       "      <th>15.0</th>\n",
       "      <td>317.0</td>\n",
       "      <td>110.0</td>\n",
       "      <td>3.000000</td>\n",
       "      <td>3.000000</td>\n",
       "      <td>8.88</td>\n",
       "      <td>0.0</td>\n",
       "      <td>0.000000</td>\n",
       "    </tr>\n",
       "    <tr>\n",
       "      <th>16.0</th>\n",
       "      <td>317.0</td>\n",
       "      <td>110.0</td>\n",
       "      <td>3.000000</td>\n",
       "      <td>3.000000</td>\n",
       "      <td>8.88</td>\n",
       "      <td>0.0</td>\n",
       "      <td>0.000000</td>\n",
       "    </tr>\n",
       "    <tr>\n",
       "      <th>20.0</th>\n",
       "      <td>317.0</td>\n",
       "      <td>110.0</td>\n",
       "      <td>3.000000</td>\n",
       "      <td>3.000000</td>\n",
       "      <td>8.88</td>\n",
       "      <td>0.0</td>\n",
       "      <td>1.000000</td>\n",
       "    </tr>\n",
       "    <tr>\n",
       "      <th>47.0</th>\n",
       "      <td>317.0</td>\n",
       "      <td>110.0</td>\n",
       "      <td>3.000000</td>\n",
       "      <td>3.000000</td>\n",
       "      <td>8.88</td>\n",
       "      <td>0.0</td>\n",
       "      <td>1.000000</td>\n",
       "    </tr>\n",
       "    <tr>\n",
       "      <th>63.6</th>\n",
       "      <td>313.0</td>\n",
       "      <td>104.0</td>\n",
       "      <td>3.000000</td>\n",
       "      <td>3.000000</td>\n",
       "      <td>7.95</td>\n",
       "      <td>0.5</td>\n",
       "      <td>0.500000</td>\n",
       "    </tr>\n",
       "    <tr>\n",
       "      <th>82.3</th>\n",
       "      <td>292.0</td>\n",
       "      <td>87.0</td>\n",
       "      <td>1.333333</td>\n",
       "      <td>1.333333</td>\n",
       "      <td>7.90</td>\n",
       "      <td>0.0</td>\n",
       "      <td>0.333333</td>\n",
       "    </tr>\n",
       "    <tr>\n",
       "      <th>99.0</th>\n",
       "      <td>293.0</td>\n",
       "      <td>92.0</td>\n",
       "      <td>1.000000</td>\n",
       "      <td>1.000000</td>\n",
       "      <td>6.00</td>\n",
       "      <td>0.0</td>\n",
       "      <td>1.000000</td>\n",
       "    </tr>\n",
       "  </tbody>\n",
       "</table>\n",
       "</div>"
      ],
      "text/plain": [
       "                   GRE Score  TOEFL Score       SOP       LOR  CGPA  Research  \\\n",
       "University Rating                                                               \n",
       "4.3                    317.0        110.0  3.000000  3.000000  8.88       0.0   \n",
       "15.0                   317.0        110.0  3.000000  3.000000  8.88       0.0   \n",
       "16.0                   317.0        110.0  3.000000  3.000000  8.88       0.0   \n",
       "20.0                   317.0        110.0  3.000000  3.000000  8.88       0.0   \n",
       "47.0                   317.0        110.0  3.000000  3.000000  8.88       0.0   \n",
       "63.6                   313.0        104.0  3.000000  3.000000  7.95       0.5   \n",
       "82.3                   292.0         87.0  1.333333  1.333333  7.90       0.0   \n",
       "99.0                   293.0         92.0  1.000000  1.000000  6.00       0.0   \n",
       "\n",
       "                   Chance of Admit  \n",
       "University Rating                   \n",
       "4.3                       0.000000  \n",
       "15.0                      0.000000  \n",
       "16.0                      0.000000  \n",
       "20.0                      1.000000  \n",
       "47.0                      1.000000  \n",
       "63.6                      0.500000  \n",
       "82.3                      0.333333  \n",
       "99.0                      1.000000  "
      ]
     },
     "execution_count": 210,
     "metadata": {},
     "output_type": "execute_result"
    }
   ],
   "source": [
    "df_university = df.groupby(by='University Rating').mean()\n",
    "df_university"
   ]
  },
  {
   "cell_type": "code",
   "execution_count": 211,
   "metadata": {},
   "outputs": [],
   "source": [
    "x=df.drop(['Chance of Admit'],axis=1)\n",
    "y=df['Chance of Admit']\n",
    "# here we are droping the Chance of Admit and serial no, as they are not going to be used for the features \n",
    "# Chance of Admit is the target column which shows the probalility of admission for a candidate."
   ]
  },
  {
   "cell_type": "code",
   "execution_count": 212,
   "metadata": {},
   "outputs": [
    {
     "data": {
      "text/html": [
       "<div>\n",
       "<style scoped>\n",
       "    .dataframe tbody tr th:only-of-type {\n",
       "        vertical-align: middle;\n",
       "    }\n",
       "\n",
       "    .dataframe tbody tr th {\n",
       "        vertical-align: top;\n",
       "    }\n",
       "\n",
       "    .dataframe thead th {\n",
       "        text-align: right;\n",
       "    }\n",
       "</style>\n",
       "<table border=\"1\" class=\"dataframe\">\n",
       "  <thead>\n",
       "    <tr style=\"text-align: right;\">\n",
       "      <th></th>\n",
       "      <th>GRE Score</th>\n",
       "      <th>TOEFL Score</th>\n",
       "      <th>University Rating</th>\n",
       "      <th>SOP</th>\n",
       "      <th>LOR</th>\n",
       "      <th>CGPA</th>\n",
       "      <th>Research</th>\n",
       "    </tr>\n",
       "  </thead>\n",
       "  <tbody>\n",
       "    <tr>\n",
       "      <th>0</th>\n",
       "      <td>317</td>\n",
       "      <td>110</td>\n",
       "      <td>47.0</td>\n",
       "      <td>3</td>\n",
       "      <td>3</td>\n",
       "      <td>8.88</td>\n",
       "      <td>0</td>\n",
       "    </tr>\n",
       "    <tr>\n",
       "      <th>1</th>\n",
       "      <td>317</td>\n",
       "      <td>110</td>\n",
       "      <td>16.0</td>\n",
       "      <td>3</td>\n",
       "      <td>3</td>\n",
       "      <td>8.88</td>\n",
       "      <td>0</td>\n",
       "    </tr>\n",
       "    <tr>\n",
       "      <th>2</th>\n",
       "      <td>317</td>\n",
       "      <td>110</td>\n",
       "      <td>4.3</td>\n",
       "      <td>3</td>\n",
       "      <td>3</td>\n",
       "      <td>8.88</td>\n",
       "      <td>0</td>\n",
       "    </tr>\n",
       "    <tr>\n",
       "      <th>3</th>\n",
       "      <td>317</td>\n",
       "      <td>110</td>\n",
       "      <td>20.0</td>\n",
       "      <td>3</td>\n",
       "      <td>3</td>\n",
       "      <td>8.88</td>\n",
       "      <td>0</td>\n",
       "    </tr>\n",
       "    <tr>\n",
       "      <th>4</th>\n",
       "      <td>317</td>\n",
       "      <td>110</td>\n",
       "      <td>15.0</td>\n",
       "      <td>3</td>\n",
       "      <td>3</td>\n",
       "      <td>8.88</td>\n",
       "      <td>0</td>\n",
       "    </tr>\n",
       "  </tbody>\n",
       "</table>\n",
       "</div>"
      ],
      "text/plain": [
       "   GRE Score  TOEFL Score  University Rating  SOP  LOR  CGPA  Research\n",
       "0        317          110               47.0    3    3  8.88         0\n",
       "1        317          110               16.0    3    3  8.88         0\n",
       "2        317          110                4.3    3    3  8.88         0\n",
       "3        317          110               20.0    3    3  8.88         0\n",
       "4        317          110               15.0    3    3  8.88         0"
      ]
     },
     "execution_count": 212,
     "metadata": {},
     "output_type": "execute_result"
    }
   ],
   "source": [
    "x.head() # checking the transformed feature column"
   ]
  },
  {
   "cell_type": "code",
   "execution_count": 213,
   "metadata": {},
   "outputs": [
    {
     "data": {
      "text/plain": [
       "(13, 1)"
      ]
     },
     "execution_count": 213,
     "metadata": {},
     "output_type": "execute_result"
    }
   ],
   "source": [
    "x = np.array(x)\n",
    "y = np.array(y)\n",
    "y = y.reshape(-1,1)\n",
    "y.shape"
   ]
  },
  {
   "cell_type": "code",
   "execution_count": 214,
   "metadata": {},
   "outputs": [
    {
     "data": {
      "text/plain": [
       "array([[ 0.72160259,  0.84953403, -0.23756347,  0.63900965,  0.57932412,\n",
       "         0.91750027, -0.42640143],\n",
       "       [ 0.72160259,  0.84953403, -1.28273898,  0.63900965,  0.57932412,\n",
       "         0.91750027, -0.42640143],\n",
       "       [ 0.72160259,  0.84953403, -1.67720845,  0.63900965,  0.57932412,\n",
       "         0.91750027, -0.42640143],\n",
       "       [ 0.72160259,  0.84953403, -1.14787763,  0.63900965,  0.57932412,\n",
       "         0.91750027, -0.42640143],\n",
       "       [ 0.72160259,  0.84953403, -1.31645432,  0.63900965,  0.57932412,\n",
       "         0.91750027, -0.42640143],\n",
       "       [-1.2361366 , -0.94137554,  1.51563417, -1.73445477, -1.57245119,\n",
       "        -2.68325551, -0.42640143],\n",
       "       [-1.480854  , -1.14036549,  0.95258801, -0.54772256, -0.49656353,\n",
       "        -0.80786187, -0.42640143],\n",
       "       [-0.74670181, -1.14036549,  0.95258801, -1.73445477, -1.57245119,\n",
       "         0.31737431, -0.42640143],\n",
       "       [-1.7255714 , -2.03582028,  0.95258801, -1.73445477, -1.57245119,\n",
       "        -0.43278315, -0.42640143],\n",
       "       [ 1.61889971,  0.84953403,  0.32211116,  0.63900965,  0.57932412,\n",
       "        -0.48279364, -0.42640143],\n",
       "       [ 0.39531272, -0.14541573,  0.32211116,  0.63900965,  0.57932412,\n",
       "        -0.43278315,  2.34520788],\n",
       "       [-0.58355687, -0.54339564,  0.32211116,  0.63900965,  1.65521178,\n",
       "         0.30487168,  2.34520788],\n",
       "       [ 0.15059532,  0.84953403,  0.32211116,  0.63900965, -0.49656353,\n",
       "        -0.37027003, -0.42640143]])"
      ]
     },
     "execution_count": 214,
     "metadata": {},
     "output_type": "execute_result"
    }
   ],
   "source": [
    "# to be only used if you want to scale the data,standize the data,if the variation is huge in the dataset\n",
    "# when we have huge variation in the data set\n",
    "# i am not changing the data , i am changing the scale only like taking logs, sqrt--not changing the actual meaning of the data set\n",
    "# variance betweeen the dataset become very low\n",
    "# machine will understand in better way this data  as having low variance in the data set\n",
    "\n",
    "from sklearn.preprocessing import StandardScaler\n",
    "scaler_feature=StandardScaler()\n",
    "scaler_lablel=StandardScaler()\n",
    "scaled_data=scaler_feature.fit_transform(x)\n",
    "scaler_y = StandardScaler()\n",
    "y = scaler_y.fit_transform(y)\n",
    "scaled_data"
   ]
  },
  {
   "cell_type": "code",
   "execution_count": 215,
   "metadata": {},
   "outputs": [],
   "source": [
    "#splitting the data into training and testing sets\n",
    "from sklearn.model_selection import train_test_split\n",
    "train_x,test_x,train_y,test_y=train_test_split(x,y,test_size=0.33,random_state=100)\n",
    "# finding mi c1 , m2 c2,..... "
   ]
  },
  {
   "cell_type": "code",
   "execution_count": 216,
   "metadata": {},
   "outputs": [
    {
     "data": {
      "text/plain": [
       "LinearRegression()"
      ]
     },
     "execution_count": 216,
     "metadata": {},
     "output_type": "execute_result"
    }
   ],
   "source": [
    "# fitting the data to the linear regression model\n",
    "from sklearn import linear_model\n",
    "from sklearn.linear_model import LinearRegression\n",
    "from sklearn.metrics import mean_squared_error, accuracy_score\n",
    "reg=linear_model.LinearRegression()\n",
    "reg.fit(train_x,train_y)"
   ]
  },
  {
   "cell_type": "code",
   "execution_count": 217,
   "metadata": {},
   "outputs": [
    {
     "data": {
      "text/plain": [
       "-1.73297733146206"
      ]
     },
     "execution_count": 217,
     "metadata": {},
     "output_type": "execute_result"
    }
   ],
   "source": [
    "# calc the accuracy of the model\n",
    "from sklearn.metrics import r2_score\n",
    "score=r2_score(reg.predict(test_x),test_y)\n",
    "score"
   ]
  },
  {
   "cell_type": "code",
   "execution_count": 218,
   "metadata": {},
   "outputs": [
    {
     "name": "stdout",
     "output_type": "stream",
     "text": [
      "                   coefficient\n",
      "GRE Score             0.067087\n",
      "TOEFL Score          -0.192818\n",
      "University Rating     0.041856\n",
      "SOP                   1.907994\n",
      "LOR                   0.937924\n",
      "CGPA                  1.550530\n",
      "Research             -4.808803\n",
      "Feature: 0, Score: 0.06709\n",
      "Feature: 1, Score: -0.19282\n",
      "Feature: 2, Score: 0.04186\n",
      "Feature: 3, Score: 1.90799\n",
      "Feature: 4, Score: 0.93792\n",
      "Feature: 5, Score: 1.55053\n",
      "Feature: 6, Score: -4.80880\n"
     ]
    },
    {
     "data": {
      "image/png": "[encoded data removed]",
      "text/plain": [
       "<Figure size 432x288 with 1 Axes>"
      ]
     },
     "metadata": {
      "needs_background": "light"
     },
     "output_type": "display_data"
    }
   ],
   "source": [
    "intercept = reg.intercept_\n",
    "dfx = df.drop('Chance of Admit' , axis=1)\n",
    "importance = reg.coef_[0]\n",
    "features = pd.DataFrame(importance, dfx.columns, columns=['coefficient'])\n",
    "print(features)\n",
    "for i,v in enumerate(importance):\n",
    "\tprint('Feature: %0d, Score: %.5f' % (i,v))\n",
    "# plot feature importance\n",
    "plt.bar([x for x in range(len(importance))], importance)\n",
    "plt.show()"
   ]
  },
  {
   "cell_type": "code",
   "execution_count": 219,
   "metadata": {},
   "outputs": [],
   "source": [
    "#splitting the data into training and testing sets\n",
    "from sklearn.model_selection import train_test_split\n",
    "train_x,test_x,train_y,test_y=train_test_split(x,y,test_size=0.20,random_state=100)\n",
    "# finding mi c1 , m2 c2,..... "
   ]
  },
  {
   "cell_type": "code",
   "execution_count": 220,
   "metadata": {},
   "outputs": [
    {
     "data": {
      "text/plain": [
       "LinearRegression()"
      ]
     },
     "execution_count": 220,
     "metadata": {},
     "output_type": "execute_result"
    }
   ],
   "source": [
    "# fitting the data to the linear regression model\n",
    "from sklearn import linear_model\n",
    "from sklearn.linear_model import LinearRegression\n",
    "reg=linear_model.LinearRegression()\n",
    "reg.fit(train_x,train_y)"
   ]
  },
  {
   "cell_type": "code",
   "execution_count": 221,
   "metadata": {},
   "outputs": [
    {
     "data": {
      "text/plain": [
       "-0.6228417372192021"
      ]
     },
     "execution_count": 221,
     "metadata": {},
     "output_type": "execute_result"
    }
   ],
   "source": [
    "# calc the accuracy of the model\n",
    "from sklearn.metrics import r2_score\n",
    "score=r2_score(reg.predict(test_x),test_y)\n",
    "score"
   ]
  },
  {
   "cell_type": "markdown",
   "metadata": {},
   "source": [
    "# ANN Model"
   ]
  },
  {
   "cell_type": "code",
   "execution_count": 222,
   "metadata": {},
   "outputs": [],
   "source": [
    "import tensorflow as tf\n",
    "from tensorflow import keras\n",
    "#tf.keras.layers.Dense\n",
    "from tensorflow.keras.layers import Dense, Activation, Dropout\n",
    "from tensorflow.keras.optimizers import Adam\n",
    "#opt = keras.optimizers.Adam(learning_rate=0.01)\n"
   ]
  },
  {
   "cell_type": "code",
   "execution_count": 223,
   "metadata": {},
   "outputs": [
    {
     "name": "stdout",
     "output_type": "stream",
     "text": [
      "Model: \"sequential_3\"\n",
      "_________________________________________________________________\n",
      " Layer (type)                Output Shape              Param #   \n",
      "=================================================================\n",
      " dense_15 (Dense)            (None, 50)                400       \n",
      "                                                                 \n",
      " activation_12 (Activation)  (None, 50)                0         \n",
      "                                                                 \n",
      " dense_16 (Dense)            (None, 150)               7650      \n",
      "                                                                 \n",
      " activation_13 (Activation)  (None, 150)               0         \n",
      "                                                                 \n",
      " dropout_6 (Dropout)         (None, 150)               0         \n",
      "                                                                 \n",
      " dense_17 (Dense)            (None, 150)               22650     \n",
      "                                                                 \n",
      " activation_14 (Activation)  (None, 150)               0         \n",
      "                                                                 \n",
      " dropout_7 (Dropout)         (None, 150)               0         \n",
      "                                                                 \n",
      " dense_18 (Dense)            (None, 50)                7550      \n",
      "                                                                 \n",
      " activation_15 (Activation)  (None, 50)                0         \n",
      "                                                                 \n",
      " dense_19 (Dense)            (None, 1)                 51        \n",
      "                                                                 \n",
      "=================================================================\n",
      "Total params: 38,301\n",
      "Trainable params: 38,301\n",
      "Non-trainable params: 0\n",
      "_________________________________________________________________\n"
     ]
    }
   ],
   "source": [
    "ANN_model = keras.Sequential()\n",
    "ANN_model.add(Dense(50, input_dim = 7))\n",
    "ANN_model.add(Activation('relu'))\n",
    "ANN_model.add(Dense(150))\n",
    "ANN_model.add(Activation('relu'))\n",
    "ANN_model.add(Dropout(0.5))\n",
    "ANN_model.add(Dense(150))\n",
    "ANN_model.add(Activation('relu'))\n",
    "ANN_model.add(Dropout(0.5))\n",
    "ANN_model.add(Dense(50))\n",
    "ANN_model.add(Activation('linear'))\n",
    "ANN_model.add(Dense(1))\n",
    "ANN_model.compile(loss = 'mean_squared_error', optimizer = 'adam')\n",
    "ANN_model.summary()"
   ]
  },
  {
   "cell_type": "code",
   "execution_count": 224,
   "metadata": {},
   "outputs": [],
   "source": [
    "ANN_model.compile(optimizer='adam', loss='mean_squared_error')"
   ]
  },
  {
   "cell_type": "code",
   "execution_count": 225,
   "metadata": {},
   "outputs": [
    {
     "name": "stdout",
     "output_type": "stream",
     "text": [
      "Epoch 1/100\n",
      "1/1 [==============================] - 0s 463ms/step - loss: 1664.3018 - val_loss: 70.9703\n",
      "Epoch 2/100\n",
      "1/1 [==============================] - 0s 21ms/step - loss: 3872.7212 - val_loss: 355.0203\n",
      "Epoch 3/100\n",
      "1/1 [==============================] - 0s 30ms/step - loss: 2337.6733 - val_loss: 226.1433\n",
      "Epoch 4/100\n",
      "1/1 [==============================] - 0s 22ms/step - loss: 1251.5220 - val_loss: 89.9722\n",
      "Epoch 5/100\n",
      "1/1 [==============================] - 0s 21ms/step - loss: 1715.1318 - val_loss: 6.8229\n",
      "Epoch 6/100\n",
      "1/1 [==============================] - 0s 21ms/step - loss: 1327.9048 - val_loss: 24.7087\n",
      "Epoch 7/100\n",
      "1/1 [==============================] - 0s 22ms/step - loss: 2064.4131 - val_loss: 62.0414\n",
      "Epoch 8/100\n",
      "1/1 [==============================] - 0s 21ms/step - loss: 300.4880 - val_loss: 102.7031\n",
      "Epoch 9/100\n",
      "1/1 [==============================] - 0s 21ms/step - loss: 228.8630 - val_loss: 137.6037\n",
      "Epoch 10/100\n",
      "1/1 [==============================] - 0s 21ms/step - loss: 966.5047 - val_loss: 145.9117\n",
      "Epoch 11/100\n",
      "1/1 [==============================] - 0s 21ms/step - loss: 681.4106 - val_loss: 111.9507\n",
      "Epoch 12/100\n",
      "1/1 [==============================] - 0s 21ms/step - loss: 703.5607 - val_loss: 77.5258\n",
      "Epoch 13/100\n",
      "1/1 [==============================] - 0s 21ms/step - loss: 782.5272 - val_loss: 36.7153\n",
      "Epoch 14/100\n",
      "1/1 [==============================] - 0s 20ms/step - loss: 612.8875 - val_loss: 14.0303\n",
      "Epoch 15/100\n",
      "1/1 [==============================] - 0s 21ms/step - loss: 373.1857 - val_loss: 9.7002\n",
      "Epoch 16/100\n",
      "1/1 [==============================] - 0s 22ms/step - loss: 417.4842 - val_loss: 9.4835\n",
      "Epoch 17/100\n",
      "1/1 [==============================] - 0s 21ms/step - loss: 303.7654 - val_loss: 12.5014\n",
      "Epoch 18/100\n",
      "1/1 [==============================] - 0s 21ms/step - loss: 318.1547 - val_loss: 17.7017\n",
      "Epoch 19/100\n",
      "1/1 [==============================] - 0s 21ms/step - loss: 251.1233 - val_loss: 27.8139\n",
      "Epoch 20/100\n",
      "1/1 [==============================] - 0s 20ms/step - loss: 1064.0400 - val_loss: 34.9070\n",
      "Epoch 21/100\n",
      "1/1 [==============================] - 0s 22ms/step - loss: 221.2527 - val_loss: 44.7112\n",
      "Epoch 22/100\n",
      "1/1 [==============================] - 0s 21ms/step - loss: 128.7228 - val_loss: 52.9109\n",
      "Epoch 23/100\n",
      "1/1 [==============================] - 0s 20ms/step - loss: 333.2125 - val_loss: 59.8025\n",
      "Epoch 24/100\n",
      "1/1 [==============================] - 0s 20ms/step - loss: 273.9851 - val_loss: 59.0790\n",
      "Epoch 25/100\n",
      "1/1 [==============================] - 0s 20ms/step - loss: 177.0782 - val_loss: 61.0349\n",
      "Epoch 26/100\n",
      "1/1 [==============================] - 0s 22ms/step - loss: 319.3493 - val_loss: 61.2228\n",
      "Epoch 27/100\n",
      "1/1 [==============================] - 0s 20ms/step - loss: 194.3864 - val_loss: 60.0235\n",
      "Epoch 28/100\n",
      "1/1 [==============================] - 0s 21ms/step - loss: 89.2283 - val_loss: 57.8944\n",
      "Epoch 29/100\n",
      "1/1 [==============================] - 0s 20ms/step - loss: 402.7607 - val_loss: 57.5426\n",
      "Epoch 30/100\n",
      "1/1 [==============================] - 0s 20ms/step - loss: 363.1078 - val_loss: 54.8043\n",
      "Epoch 31/100\n",
      "1/1 [==============================] - 0s 21ms/step - loss: 96.2495 - val_loss: 50.4179\n",
      "Epoch 32/100\n",
      "1/1 [==============================] - 0s 21ms/step - loss: 85.9353 - val_loss: 47.0121\n",
      "Epoch 33/100\n",
      "1/1 [==============================] - 0s 21ms/step - loss: 211.9394 - val_loss: 41.4577\n",
      "Epoch 34/100\n",
      "1/1 [==============================] - 0s 20ms/step - loss: 301.5159 - val_loss: 35.7293\n",
      "Epoch 35/100\n",
      "1/1 [==============================] - 0s 22ms/step - loss: 69.7727 - val_loss: 30.2838\n",
      "Epoch 36/100\n",
      "1/1 [==============================] - 0s 21ms/step - loss: 160.6889 - val_loss: 25.1715\n",
      "Epoch 37/100\n",
      "1/1 [==============================] - 0s 20ms/step - loss: 125.2261 - val_loss: 20.6724\n",
      "Epoch 38/100\n",
      "1/1 [==============================] - 0s 21ms/step - loss: 185.9365 - val_loss: 18.2877\n",
      "Epoch 39/100\n",
      "1/1 [==============================] - 0s 20ms/step - loss: 93.5785 - val_loss: 15.6556\n",
      "Epoch 40/100\n",
      "1/1 [==============================] - 0s 20ms/step - loss: 97.0914 - val_loss: 14.0973\n",
      "Epoch 41/100\n",
      "1/1 [==============================] - 0s 20ms/step - loss: 102.2520 - val_loss: 14.3771\n",
      "Epoch 42/100\n",
      "1/1 [==============================] - 0s 21ms/step - loss: 147.8714 - val_loss: 14.0132\n",
      "Epoch 43/100\n",
      "1/1 [==============================] - 0s 21ms/step - loss: 81.2965 - val_loss: 13.2171\n",
      "Epoch 44/100\n",
      "1/1 [==============================] - 0s 20ms/step - loss: 77.3388 - val_loss: 12.5063\n",
      "Epoch 45/100\n",
      "1/1 [==============================] - 0s 21ms/step - loss: 71.6393 - val_loss: 11.7801\n",
      "Epoch 46/100\n",
      "1/1 [==============================] - 0s 20ms/step - loss: 61.6983 - val_loss: 11.9556\n",
      "Epoch 47/100\n",
      "1/1 [==============================] - 0s 20ms/step - loss: 13.9669 - val_loss: 12.4775\n",
      "Epoch 48/100\n",
      "1/1 [==============================] - 0s 20ms/step - loss: 225.7879 - val_loss: 12.3193\n",
      "Epoch 49/100\n",
      "1/1 [==============================] - 0s 21ms/step - loss: 99.5515 - val_loss: 11.4501\n",
      "Epoch 50/100\n",
      "1/1 [==============================] - 0s 20ms/step - loss: 87.3991 - val_loss: 10.0791\n",
      "Epoch 51/100\n",
      "1/1 [==============================] - 0s 21ms/step - loss: 58.5154 - val_loss: 8.4326\n",
      "Epoch 52/100\n",
      "1/1 [==============================] - 0s 21ms/step - loss: 88.1391 - val_loss: 8.0254\n",
      "Epoch 53/100\n",
      "1/1 [==============================] - 0s 21ms/step - loss: 23.9647 - val_loss: 7.4957\n",
      "Epoch 54/100\n",
      "1/1 [==============================] - 0s 20ms/step - loss: 22.3911 - val_loss: 7.1858\n",
      "Epoch 55/100\n",
      "1/1 [==============================] - 0s 23ms/step - loss: 34.9179 - val_loss: 6.6887\n",
      "Epoch 56/100\n",
      "1/1 [==============================] - 0s 21ms/step - loss: 75.3063 - val_loss: 5.8417\n",
      "Epoch 57/100\n",
      "1/1 [==============================] - 0s 20ms/step - loss: 70.1299 - val_loss: 5.1900\n",
      "Epoch 58/100\n",
      "1/1 [==============================] - 0s 21ms/step - loss: 66.6897 - val_loss: 4.5055\n",
      "Epoch 59/100\n",
      "1/1 [==============================] - 0s 21ms/step - loss: 51.6967 - val_loss: 4.3977\n",
      "Epoch 60/100\n",
      "1/1 [==============================] - 0s 22ms/step - loss: 71.8757 - val_loss: 4.0534\n",
      "Epoch 61/100\n",
      "1/1 [==============================] - 0s 21ms/step - loss: 53.1143 - val_loss: 3.9303\n",
      "Epoch 62/100\n",
      "1/1 [==============================] - 0s 21ms/step - loss: 57.0365 - val_loss: 3.9652\n",
      "Epoch 63/100\n",
      "1/1 [==============================] - 0s 21ms/step - loss: 27.8356 - val_loss: 3.8584\n",
      "Epoch 64/100\n",
      "1/1 [==============================] - 0s 20ms/step - loss: 74.9215 - val_loss: 3.6518\n",
      "Epoch 65/100\n",
      "1/1 [==============================] - 0s 21ms/step - loss: 84.2035 - val_loss: 3.8212\n",
      "Epoch 66/100\n",
      "1/1 [==============================] - 0s 21ms/step - loss: 41.6067 - val_loss: 4.1133\n",
      "Epoch 67/100\n",
      "1/1 [==============================] - 0s 21ms/step - loss: 36.2034 - val_loss: 4.6018\n",
      "Epoch 68/100\n",
      "1/1 [==============================] - 0s 20ms/step - loss: 34.0108 - val_loss: 5.1776\n",
      "Epoch 69/100\n",
      "1/1 [==============================] - 0s 22ms/step - loss: 32.4961 - val_loss: 5.8631\n",
      "Epoch 70/100\n",
      "1/1 [==============================] - 0s 20ms/step - loss: 18.5064 - val_loss: 6.2275\n",
      "Epoch 71/100\n",
      "1/1 [==============================] - 0s 21ms/step - loss: 80.5124 - val_loss: 6.4768\n",
      "Epoch 72/100\n",
      "1/1 [==============================] - 0s 14ms/step - loss: 46.0577 - val_loss: 6.8640\n",
      "Epoch 73/100\n",
      "1/1 [==============================] - 0s 29ms/step - loss: 47.6329 - val_loss: 7.1740\n",
      "Epoch 74/100\n",
      "1/1 [==============================] - 0s 20ms/step - loss: 89.5727 - val_loss: 8.2306\n",
      "Epoch 75/100\n",
      "1/1 [==============================] - 0s 20ms/step - loss: 33.2970 - val_loss: 9.1091\n",
      "Epoch 76/100\n",
      "1/1 [==============================] - 0s 21ms/step - loss: 39.6179 - val_loss: 10.8585\n",
      "Epoch 77/100\n",
      "1/1 [==============================] - 0s 20ms/step - loss: 27.8714 - val_loss: 12.9607\n",
      "Epoch 78/100\n",
      "1/1 [==============================] - 0s 21ms/step - loss: 82.6533 - val_loss: 14.3645\n",
      "Epoch 79/100\n",
      "1/1 [==============================] - 0s 21ms/step - loss: 14.8538 - val_loss: 15.5040\n",
      "Epoch 80/100\n",
      "1/1 [==============================] - 0s 20ms/step - loss: 56.4008 - val_loss: 15.8995\n",
      "Epoch 81/100\n",
      "1/1 [==============================] - 0s 21ms/step - loss: 28.5515 - val_loss: 16.3836\n",
      "Epoch 82/100\n",
      "1/1 [==============================] - 0s 21ms/step - loss: 37.5935 - val_loss: 16.0779\n",
      "Epoch 83/100\n",
      "1/1 [==============================] - 0s 21ms/step - loss: 14.1947 - val_loss: 15.6135\n",
      "Epoch 84/100\n",
      "1/1 [==============================] - 0s 21ms/step - loss: 47.8205 - val_loss: 14.5573\n",
      "Epoch 85/100\n",
      "1/1 [==============================] - 0s 21ms/step - loss: 36.7544 - val_loss: 13.2187\n",
      "Epoch 86/100\n",
      "1/1 [==============================] - 0s 20ms/step - loss: 43.2451 - val_loss: 11.7389\n",
      "Epoch 87/100\n",
      "1/1 [==============================] - 0s 21ms/step - loss: 25.3862 - val_loss: 10.6379\n",
      "Epoch 88/100\n",
      "1/1 [==============================] - 0s 23ms/step - loss: 57.3748 - val_loss: 10.4928\n",
      "Epoch 89/100\n",
      "1/1 [==============================] - 0s 20ms/step - loss: 16.2851 - val_loss: 10.0839\n",
      "Epoch 90/100\n",
      "1/1 [==============================] - 0s 19ms/step - loss: 72.4580 - val_loss: 9.7480\n",
      "Epoch 91/100\n",
      "1/1 [==============================] - 0s 21ms/step - loss: 19.4848 - val_loss: 9.1543\n",
      "Epoch 92/100\n",
      "1/1 [==============================] - 0s 20ms/step - loss: 37.2331 - val_loss: 8.7848\n",
      "Epoch 93/100\n",
      "1/1 [==============================] - 0s 21ms/step - loss: 42.9507 - val_loss: 8.8686\n",
      "Epoch 94/100\n",
      "1/1 [==============================] - 0s 20ms/step - loss: 61.3564 - val_loss: 9.3872\n",
      "Epoch 95/100\n",
      "1/1 [==============================] - 0s 21ms/step - loss: 30.8821 - val_loss: 10.1649\n",
      "Epoch 96/100\n",
      "1/1 [==============================] - 0s 21ms/step - loss: 31.5540 - val_loss: 10.7082\n",
      "Epoch 97/100\n",
      "1/1 [==============================] - 0s 21ms/step - loss: 17.1206 - val_loss: 11.1587\n",
      "Epoch 98/100\n",
      "1/1 [==============================] - 0s 28ms/step - loss: 20.8725 - val_loss: 11.6299\n",
      "Epoch 99/100\n",
      "1/1 [==============================] - 0s 20ms/step - loss: 45.0037 - val_loss: 12.1213\n",
      "Epoch 100/100\n",
      "1/1 [==============================] - 0s 22ms/step - loss: 26.1806 - val_loss: 12.5012\n"
     ]
    }
   ],
   "source": [
    "epochs_hist = ANN_model.fit(train_x, train_y, epochs = 100, batch_size = 20, validation_split = 0.2)"
   ]
  },
  {
   "cell_type": "code",
   "execution_count": 226,
   "metadata": {},
   "outputs": [
    {
     "name": "stdout",
     "output_type": "stream",
     "text": [
      "1/1 [==============================] - 0s 18ms/step - loss: 3.9047\n",
      "Accuracy : -2.904728651046753\n"
     ]
    }
   ],
   "source": [
    "result = ANN_model.evaluate(test_x, test_y)\n",
    "accuracy_ANN = 1 - result\n",
    "print(\"Accuracy : {}\".format(accuracy_ANN))"
   ]
  },
  {
   "cell_type": "code",
   "execution_count": 227,
   "metadata": {},
   "outputs": [
    {
     "data": {
      "text/plain": [
       "dict_keys(['loss', 'val_loss'])"
      ]
     },
     "execution_count": 227,
     "metadata": {},
     "output_type": "execute_result"
    }
   ],
   "source": [
    "epochs_hist.history.keys()"
   ]
  },
  {
   "cell_type": "code",
   "execution_count": 228,
   "metadata": {},
   "outputs": [
    {
     "data": {
      "text/plain": [
       "<matplotlib.legend.Legend at 0x242050e0280>"
      ]
     },
     "execution_count": 228,
     "metadata": {},
     "output_type": "execute_result"
    },
    {
     "data": {
      "image/png": "[encoded data removed]",
      "text/plain": [
       "<Figure size 432x288 with 1 Axes>"
      ]
     },
     "metadata": {
      "needs_background": "light"
     },
     "output_type": "display_data"
    }
   ],
   "source": [
    "plt.plot(epochs_hist.history['loss'])\n",
    "plt.title('Model Loss Progress During Training')\n",
    "plt.xlabel('Epoch')\n",
    "plt.ylabel('Training Loss')\n",
    "plt.legend(['Training Loss'])"
   ]
  },
  {
   "cell_type": "markdown",
   "metadata": {},
   "source": [
    "# Decesion Tree Model"
   ]
  },
  {
   "cell_type": "code",
   "execution_count": 229,
   "metadata": {},
   "outputs": [
    {
     "data": {
      "text/plain": [
       "DecisionTreeRegressor()"
      ]
     },
     "execution_count": 229,
     "metadata": {},
     "output_type": "execute_result"
    }
   ],
   "source": [
    "# Decision tree builds regression or classification models in the form of a tree structure. \n",
    "# Decision tree breaks down a dataset into smaller subsets while at the same time an associated decision tree is incrementally developed. \n",
    "# The final result is a tree with decision nodes and leaf nodes.\n",
    "\n",
    "\n",
    "from sklearn.tree import DecisionTreeRegressor\n",
    "decisionTree_model = DecisionTreeRegressor()\n",
    "decisionTree_model.fit(train_x, train_y)"
   ]
  },
  {
   "cell_type": "code",
   "execution_count": 230,
   "metadata": {},
   "outputs": [
    {
     "name": "stdout",
     "output_type": "stream",
     "text": [
      "                   coefficient\n",
      "GRE Score                0.000\n",
      "TOEFL Score              0.000\n",
      "University Rating        0.625\n",
      "SOP                      0.000\n",
      "LOR                      0.000\n",
      "CGPA                     0.375\n",
      "Research                 0.000\n",
      "Feature: 0, Score: 0.00000\n",
      "Feature: 1, Score: 0.00000\n",
      "Feature: 2, Score: 0.62500\n",
      "Feature: 3, Score: 0.00000\n",
      "Feature: 4, Score: 0.00000\n",
      "Feature: 5, Score: 0.37500\n",
      "Feature: 6, Score: 0.00000\n"
     ]
    },
    {
     "data": {
      "image/png": "[encoded data removed]",
      "text/plain": [
       "<Figure size 432x288 with 1 Axes>"
      ]
     },
     "metadata": {
      "needs_background": "light"
     },
     "output_type": "display_data"
    }
   ],
   "source": [
    "#feature Importancce testing\n",
    "dfx = df.drop('Chance of Admit' , axis=1)\n",
    "importance = decisionTree_model.feature_importances_\n",
    "features = pd.DataFrame(importance, dfx.columns, columns=['coefficient'])\n",
    "print(features)\n",
    "for i,v in enumerate(importance):\n",
    "\tprint('Feature: %0d, Score: %.5f' % (i,v))\n",
    "# plot feature importance\n",
    "plt.bar([x for x in range(len(importance))], importance)\n",
    "plt.show()"
   ]
  },
  {
   "cell_type": "code",
   "execution_count": 231,
   "metadata": {},
   "outputs": [
    {
     "data": {
      "text/plain": [
       "-0.4999999999999998"
      ]
     },
     "execution_count": 231,
     "metadata": {},
     "output_type": "execute_result"
    }
   ],
   "source": [
    "accuracy_decisionTree = decisionTree_model.score(test_x, test_y)\n",
    "accuracy_decisionTree"
   ]
  },
  {
   "cell_type": "markdown",
   "metadata": {},
   "source": [
    "# Random Forrest Model"
   ]
  },
  {
   "cell_type": "markdown",
   "metadata": {},
   "source": []
  },
  {
   "cell_type": "code",
   "execution_count": 232,
   "metadata": {},
   "outputs": [
    {
     "name": "stderr",
     "output_type": "stream",
     "text": [
      "C:\\Users\\mrhus\\AppData\\Local\\Temp/ipykernel_5988/2085754441.py:3: DataConversionWarning: A column-vector y was passed when a 1d array was expected. Please change the shape of y to (n_samples,), for example using ravel().\n",
      "  randomForest_model.fit(train_x, train_y)\n"
     ]
    },
    {
     "data": {
      "text/plain": [
       "-0.4665499999999998"
      ]
     },
     "execution_count": 232,
     "metadata": {},
     "output_type": "execute_result"
    }
   ],
   "source": [
    "from sklearn.ensemble import RandomForestRegressor\n",
    "randomForest_model = RandomForestRegressor(n_estimators=100, max_depth=10)\n",
    "randomForest_model.fit(train_x, train_y)\n",
    "accuracy_randomforest = randomForest_model.score(test_x, test_y)\n",
    "accuracy_randomforest"
   ]
  },
  {
   "cell_type": "code",
   "execution_count": 233,
   "metadata": {},
   "outputs": [
    {
     "name": "stdout",
     "output_type": "stream",
     "text": [
      "                    coefficient\n",
      "GRE Score          1.615001e-01\n",
      "TOEFL Score        6.881812e-02\n",
      "University Rating  4.222979e-01\n",
      "SOP                1.266278e-17\n",
      "LOR                4.079921e-02\n",
      "CGPA               2.874179e-01\n",
      "Research           1.916667e-02\n",
      "Feature: 0, Score: 0.16150\n",
      "Feature: 1, Score: 0.06882\n",
      "Feature: 2, Score: 0.42230\n",
      "Feature: 3, Score: 0.00000\n",
      "Feature: 4, Score: 0.04080\n",
      "Feature: 5, Score: 0.28742\n",
      "Feature: 6, Score: 0.01917\n"
     ]
    },
    {
     "data": {
      "image/png": "[encoded data removed]",
      "text/plain": [
       "<Figure size 432x288 with 1 Axes>"
      ]
     },
     "metadata": {
      "needs_background": "light"
     },
     "output_type": "display_data"
    }
   ],
   "source": [
    "#feature Importancce testing\n",
    "dfx = df.drop('Chance of Admit' , axis=1)\n",
    "importance = randomForest_model.feature_importances_\n",
    "features = pd.DataFrame(importance, dfx.columns, columns=['coefficient'])\n",
    "print(features)\n",
    "for i,v in enumerate(importance):\n",
    "\tprint('Feature: %0d, Score: %.5f' % (i,v))\n",
    "# plot feature importance\n",
    "plt.bar([x for x in range(len(importance))], importance)\n",
    "plt.show()"
   ]
  },
  {
   "cell_type": "markdown",
   "metadata": {},
   "source": [
    "# Saving the model to the local file system"
   ]
  },
  {
   "cell_type": "code",
   "execution_count": 234,
   "metadata": {},
   "outputs": [
    {
     "data": {
      "text/plain": [
       "['filename.joblib']"
      ]
     },
     "execution_count": 234,
     "metadata": {},
     "output_type": "execute_result"
    }
   ],
   "source": [
    "#filename='finalized_model.pickle'\n",
    "#pickle.dump(reg,open(filename,'wb'))\n",
    "dump(randomForest_model, 'filename.joblib')"
   ]
  }
 ],
 "metadata": {
  "kernelspec": {
   "display_name": "Python 3",
   "language": "python",
   "name": "python3"
  },
  "language_info": {
   "codemirror_mode": {
    "name": "ipython",
    "version": 3
   },
   "file_extension": ".py",
   "mimetype": "text/x-python",
   "name": "python",
   "nbconvert_exporter": "python",
   "pygments_lexer": "ipython3",
   "version": "3.9.7"
  }
 },
 "nbformat": 4,
 "nbformat_minor": 2
}
