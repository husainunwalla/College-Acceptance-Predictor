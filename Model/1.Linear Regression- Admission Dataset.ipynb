{
 "cells": [
  {
   "cell_type": "code",
   "execution_count": 96,
   "metadata": {},
   "outputs": [],
   "source": [
    "# admission data set \n",
    "# supervised learning - have both x and y value"
   ]
  },
  {
   "cell_type": "markdown",
   "metadata": {},
   "source": [
    "### Problem Statement\n",
    "- ### The goal here is to find the chance of admission of a candidate based on his/her GRE score, TOEFL score, rating of the university in which he/she is trying to get admission,strength of the SOP,Strength of the letter of the recommendation, CGPA and the research experience"
   ]
  },
  {
   "cell_type": "code",
   "execution_count": 97,
   "metadata": {},
   "outputs": [],
   "source": [
    "#importing libraries\n",
    "import pandas as pd\n",
    "import numpy as np\n",
    "import matplotlib.pyplot as plt\n",
    "import pickle\n",
    "import seaborn as sns\n",
    "from joblib import dump\n",
    "%matplotlib inline"
   ]
  },
  {
   "cell_type": "code",
   "execution_count": 98,
   "metadata": {},
   "outputs": [],
   "source": [
    "df=pd.read_csv(\"Admission_Prediction.csv\")  # importing the data set"
   ]
  },
  {
   "cell_type": "code",
   "execution_count": 99,
   "metadata": {},
   "outputs": [],
   "source": [
    "df.drop('Serial No.', axis=1, inplace=True)\n"
   ]
  },
  {
   "cell_type": "code",
   "execution_count": 100,
   "metadata": {},
   "outputs": [],
   "source": [
    "df['GRE Score'].fillna(df['GRE Score'].mode()[0],inplace=True)\n",
    "df['TOEFL Score'].fillna(df['TOEFL Score'].mode()[0],inplace=True)\n",
    "df['University Rating'].fillna(df['University Rating'].mean(),inplace=True)"
   ]
  },
  {
   "cell_type": "code",
   "execution_count": 101,
   "metadata": {},
   "outputs": [
    {
     "data": {
      "text/html": [
       "<div>\n",
       "<style scoped>\n",
       "    .dataframe tbody tr th:only-of-type {\n",
       "        vertical-align: middle;\n",
       "    }\n",
       "\n",
       "    .dataframe tbody tr th {\n",
       "        vertical-align: top;\n",
       "    }\n",
       "\n",
       "    .dataframe thead th {\n",
       "        text-align: right;\n",
       "    }\n",
       "</style>\n",
       "<table border=\"1\" class=\"dataframe\">\n",
       "  <thead>\n",
       "    <tr style=\"text-align: right;\">\n",
       "      <th></th>\n",
       "      <th>GRE Score</th>\n",
       "      <th>TOEFL Score</th>\n",
       "      <th>SOP</th>\n",
       "      <th>LOR</th>\n",
       "      <th>CGPA</th>\n",
       "      <th>Research</th>\n",
       "      <th>Chance of Admit</th>\n",
       "    </tr>\n",
       "    <tr>\n",
       "      <th>University Rating</th>\n",
       "      <th></th>\n",
       "      <th></th>\n",
       "      <th></th>\n",
       "      <th></th>\n",
       "      <th></th>\n",
       "      <th></th>\n",
       "      <th></th>\n",
       "    </tr>\n",
       "  </thead>\n",
       "  <tbody>\n",
       "    <tr>\n",
       "      <th>1.000000</th>\n",
       "      <td>304.156250</td>\n",
       "      <td>99.968750</td>\n",
       "      <td>1.937500</td>\n",
       "      <td>2.406250</td>\n",
       "      <td>7.786875</td>\n",
       "      <td>0.281250</td>\n",
       "      <td>0.560937</td>\n",
       "    </tr>\n",
       "    <tr>\n",
       "      <th>2.000000</th>\n",
       "      <td>309.548387</td>\n",
       "      <td>103.685484</td>\n",
       "      <td>2.689516</td>\n",
       "      <td>2.955645</td>\n",
       "      <td>8.186452</td>\n",
       "      <td>0.298387</td>\n",
       "      <td>0.627339</td>\n",
       "    </tr>\n",
       "    <tr>\n",
       "      <th>3.000000</th>\n",
       "      <td>315.032468</td>\n",
       "      <td>106.292208</td>\n",
       "      <td>3.321429</td>\n",
       "      <td>3.405844</td>\n",
       "      <td>8.504545</td>\n",
       "      <td>0.538961</td>\n",
       "      <td>0.703701</td>\n",
       "    </tr>\n",
       "    <tr>\n",
       "      <th>3.121649</th>\n",
       "      <td>315.133333</td>\n",
       "      <td>105.600000</td>\n",
       "      <td>3.133333</td>\n",
       "      <td>3.266667</td>\n",
       "      <td>8.346667</td>\n",
       "      <td>0.466667</td>\n",
       "      <td>0.683333</td>\n",
       "    </tr>\n",
       "    <tr>\n",
       "      <th>4.000000</th>\n",
       "      <td>323.213592</td>\n",
       "      <td>111.087379</td>\n",
       "      <td>3.990291</td>\n",
       "      <td>3.956311</td>\n",
       "      <td>8.940000</td>\n",
       "      <td>0.786408</td>\n",
       "      <td>0.801553</td>\n",
       "    </tr>\n",
       "    <tr>\n",
       "      <th>5.000000</th>\n",
       "      <td>327.236111</td>\n",
       "      <td>113.486111</td>\n",
       "      <td>4.472222</td>\n",
       "      <td>4.409722</td>\n",
       "      <td>9.280556</td>\n",
       "      <td>0.875000</td>\n",
       "      <td>0.888194</td>\n",
       "    </tr>\n",
       "  </tbody>\n",
       "</table>\n",
       "</div>"
      ],
      "text/plain": [
       "                    GRE Score  TOEFL Score       SOP       LOR      CGPA  \\\n",
       "University Rating                                                          \n",
       "1.000000           304.156250    99.968750  1.937500  2.406250  7.786875   \n",
       "2.000000           309.548387   103.685484  2.689516  2.955645  8.186452   \n",
       "3.000000           315.032468   106.292208  3.321429  3.405844  8.504545   \n",
       "3.121649           315.133333   105.600000  3.133333  3.266667  8.346667   \n",
       "4.000000           323.213592   111.087379  3.990291  3.956311  8.940000   \n",
       "5.000000           327.236111   113.486111  4.472222  4.409722  9.280556   \n",
       "\n",
       "                   Research  Chance of Admit  \n",
       "University Rating                             \n",
       "1.000000           0.281250         0.560937  \n",
       "2.000000           0.298387         0.627339  \n",
       "3.000000           0.538961         0.703701  \n",
       "3.121649           0.466667         0.683333  \n",
       "4.000000           0.786408         0.801553  \n",
       "5.000000           0.875000         0.888194  "
      ]
     },
     "execution_count": 101,
     "metadata": {},
     "output_type": "execute_result"
    }
   ],
   "source": [
    "df_university = df.groupby(by='University Rating').mean()\n",
    "df_university"
   ]
  },
  {
   "cell_type": "code",
   "execution_count": 102,
   "metadata": {},
   "outputs": [],
   "source": [
    "x=df.drop(['Chance of Admit'],axis=1)\n",
    "y=df['Chance of Admit']\n",
    "# here we are droping the Chance of Admit and serial no, as they are not going to be used for the features \n",
    "# Chance of Admit is the target column which shows the probalility of admission for a candidate."
   ]
  },
  {
   "cell_type": "code",
   "execution_count": 103,
   "metadata": {},
   "outputs": [
    {
     "data": {
      "text/html": [
       "<div>\n",
       "<style scoped>\n",
       "    .dataframe tbody tr th:only-of-type {\n",
       "        vertical-align: middle;\n",
       "    }\n",
       "\n",
       "    .dataframe tbody tr th {\n",
       "        vertical-align: top;\n",
       "    }\n",
       "\n",
       "    .dataframe thead th {\n",
       "        text-align: right;\n",
       "    }\n",
       "</style>\n",
       "<table border=\"1\" class=\"dataframe\">\n",
       "  <thead>\n",
       "    <tr style=\"text-align: right;\">\n",
       "      <th></th>\n",
       "      <th>GRE Score</th>\n",
       "      <th>TOEFL Score</th>\n",
       "      <th>University Rating</th>\n",
       "      <th>SOP</th>\n",
       "      <th>LOR</th>\n",
       "      <th>CGPA</th>\n",
       "      <th>Research</th>\n",
       "    </tr>\n",
       "  </thead>\n",
       "  <tbody>\n",
       "    <tr>\n",
       "      <th>0</th>\n",
       "      <td>337.0</td>\n",
       "      <td>118.0</td>\n",
       "      <td>4.0</td>\n",
       "      <td>4.5</td>\n",
       "      <td>4.5</td>\n",
       "      <td>9.65</td>\n",
       "      <td>1</td>\n",
       "    </tr>\n",
       "    <tr>\n",
       "      <th>1</th>\n",
       "      <td>324.0</td>\n",
       "      <td>107.0</td>\n",
       "      <td>4.0</td>\n",
       "      <td>4.0</td>\n",
       "      <td>4.5</td>\n",
       "      <td>8.87</td>\n",
       "      <td>1</td>\n",
       "    </tr>\n",
       "    <tr>\n",
       "      <th>2</th>\n",
       "      <td>312.0</td>\n",
       "      <td>104.0</td>\n",
       "      <td>3.0</td>\n",
       "      <td>3.0</td>\n",
       "      <td>3.5</td>\n",
       "      <td>8.00</td>\n",
       "      <td>1</td>\n",
       "    </tr>\n",
       "    <tr>\n",
       "      <th>3</th>\n",
       "      <td>322.0</td>\n",
       "      <td>110.0</td>\n",
       "      <td>3.0</td>\n",
       "      <td>3.5</td>\n",
       "      <td>2.5</td>\n",
       "      <td>8.67</td>\n",
       "      <td>1</td>\n",
       "    </tr>\n",
       "    <tr>\n",
       "      <th>4</th>\n",
       "      <td>314.0</td>\n",
       "      <td>103.0</td>\n",
       "      <td>2.0</td>\n",
       "      <td>2.0</td>\n",
       "      <td>3.0</td>\n",
       "      <td>8.21</td>\n",
       "      <td>0</td>\n",
       "    </tr>\n",
       "  </tbody>\n",
       "</table>\n",
       "</div>"
      ],
      "text/plain": [
       "   GRE Score  TOEFL Score  University Rating  SOP  LOR  CGPA  Research\n",
       "0      337.0        118.0                4.0  4.5  4.5  9.65         1\n",
       "1      324.0        107.0                4.0  4.0  4.5  8.87         1\n",
       "2      312.0        104.0                3.0  3.0  3.5  8.00         1\n",
       "3      322.0        110.0                3.0  3.5  2.5  8.67         1\n",
       "4      314.0        103.0                2.0  2.0  3.0  8.21         0"
      ]
     },
     "execution_count": 103,
     "metadata": {},
     "output_type": "execute_result"
    }
   ],
   "source": [
    "x.head() # checking the transformed feature column"
   ]
  },
  {
   "cell_type": "code",
   "execution_count": 104,
   "metadata": {},
   "outputs": [
    {
     "data": {
      "text/plain": [
       "(500, 1)"
      ]
     },
     "execution_count": 104,
     "metadata": {},
     "output_type": "execute_result"
    }
   ],
   "source": [
    "x = np.array(x)\n",
    "y = np.array(y)\n",
    "y = y.reshape(-1,1)\n",
    "y.shape"
   ]
  },
  {
   "cell_type": "code",
   "execution_count": 105,
   "metadata": {},
   "outputs": [
    {
     "data": {
      "text/plain": [
       "array([[ 1.85052822,  1.77547686,  0.77890565, ...,  1.09894429,\n",
       "         1.77680627,  0.88640526],\n",
       "       [ 0.68147064, -0.04027672,  0.77890565, ...,  1.09894429,\n",
       "         0.48585943,  0.88640526],\n",
       "       [-0.39765943, -0.53548224, -0.1078766 , ...,  0.01730621,\n",
       "        -0.95404281,  0.88640526],\n",
       "       ...,\n",
       "       [ 1.22103568,  2.10561387,  1.66568791, ...,  1.63976333,\n",
       "         1.62785086,  0.88640526],\n",
       "       [-0.39765943, -0.70055074,  0.77890565, ...,  1.63976333,\n",
       "        -0.24236699, -1.12815215],\n",
       "       [ 0.95125316,  0.95013432,  0.77890565, ...,  1.09894429,\n",
       "         0.76721964, -1.12815215]])"
      ]
     },
     "execution_count": 105,
     "metadata": {},
     "output_type": "execute_result"
    }
   ],
   "source": [
    "# to be only used if you want to scale the data,standize the data,if the variation is huge in the dataset\n",
    "# when we have huge variation in the data set\n",
    "# i am not changing the data , i am changing the scale only like taking logs, sqrt--not changing the actual meaning of the data set\n",
    "# variance betweeen the dataset become very low\n",
    "# machine will understand in better way this data  as having low variance in the data set\n",
    "\n",
    "from sklearn.preprocessing import StandardScaler\n",
    "scaler_feature=StandardScaler()\n",
    "scaler_lablel=StandardScaler()\n",
    "scaled_data=scaler_feature.fit_transform(x)\n",
    "scaler_y = StandardScaler()\n",
    "y = scaler_y.fit_transform(y)\n",
    "scaled_data"
   ]
  },
  {
   "cell_type": "code",
   "execution_count": 106,
   "metadata": {},
   "outputs": [],
   "source": [
    "#splitting the data into training and testing sets\n",
    "from sklearn.model_selection import train_test_split\n",
    "train_x,test_x,train_y,test_y=train_test_split(x,y,test_size=0.33,random_state=100)\n",
    "# finding mi c1 , m2 c2,..... "
   ]
  },
  {
   "cell_type": "code",
   "execution_count": 107,
   "metadata": {},
   "outputs": [
    {
     "data": {
      "text/plain": [
       "LinearRegression()"
      ]
     },
     "execution_count": 107,
     "metadata": {},
     "output_type": "execute_result"
    }
   ],
   "source": [
    "# fitting the data to the linear regression model\n",
    "from sklearn import linear_model\n",
    "from sklearn.linear_model import LinearRegression\n",
    "from sklearn.metrics import mean_squared_error, accuracy_score\n",
    "reg=linear_model.LinearRegression()\n",
    "reg.fit(train_x,train_y)"
   ]
  },
  {
   "cell_type": "code",
   "execution_count": 108,
   "metadata": {},
   "outputs": [
    {
     "data": {
      "text/plain": [
       "0.8076993525686699"
      ]
     },
     "execution_count": 108,
     "metadata": {},
     "output_type": "execute_result"
    }
   ],
   "source": [
    "# calc the accuracy of the model\n",
    "from sklearn.metrics import r2_score\n",
    "score=r2_score(reg.predict(test_x),test_y)\n",
    "score"
   ]
  },
  {
   "cell_type": "code",
   "execution_count": 109,
   "metadata": {},
   "outputs": [],
   "source": [
    "# getting accuracy almost 80%"
   ]
  },
  {
   "cell_type": "markdown",
   "metadata": {},
   "source": [
    "# changing the hyper parameters"
   ]
  },
  {
   "cell_type": "code",
   "execution_count": 110,
   "metadata": {},
   "outputs": [],
   "source": [
    "#splitting the data into training and testing sets\n",
    "from sklearn.model_selection import train_test_split\n",
    "train_x,test_x,train_y,test_y=train_test_split(x,y,test_size=0.20,random_state=100)\n",
    "# finding mi c1 , m2 c2,..... "
   ]
  },
  {
   "cell_type": "code",
   "execution_count": 111,
   "metadata": {},
   "outputs": [
    {
     "data": {
      "text/plain": [
       "LinearRegression()"
      ]
     },
     "execution_count": 111,
     "metadata": {},
     "output_type": "execute_result"
    }
   ],
   "source": [
    "# fitting the data to the linear regression model\n",
    "from sklearn import linear_model\n",
    "from sklearn.linear_model import LinearRegression\n",
    "reg=linear_model.LinearRegression()\n",
    "reg.fit(train_x,train_y)"
   ]
  },
  {
   "cell_type": "code",
   "execution_count": 112,
   "metadata": {},
   "outputs": [
    {
     "data": {
      "text/plain": [
       "0.8149558487897137"
      ]
     },
     "execution_count": 112,
     "metadata": {},
     "output_type": "execute_result"
    }
   ],
   "source": [
    "# calc the accuracy of the model\n",
    "from sklearn.metrics import r2_score\n",
    "score=r2_score(reg.predict(test_x),test_y)\n",
    "score"
   ]
  },
  {
   "cell_type": "code",
   "execution_count": 113,
   "metadata": {},
   "outputs": [],
   "source": [
    "import tensorflow as tf\n",
    "from tensorflow import keras\n",
    "#tf.keras.layers.Dense\n",
    "from tensorflow.keras.layers import Dense, Activation, Dropout\n",
    "from tensorflow.keras.optimizers import Adam\n",
    "#opt = keras.optimizers.Adam(learning_rate=0.01)\n"
   ]
  },
  {
   "cell_type": "code",
   "execution_count": 114,
   "metadata": {},
   "outputs": [
    {
     "name": "stdout",
     "output_type": "stream",
     "text": [
      "Model: \"sequential_2\"\n",
      "_________________________________________________________________\n",
      " Layer (type)                Output Shape              Param #   \n",
      "=================================================================\n",
      " dense_10 (Dense)            (None, 50)                400       \n",
      "                                                                 \n",
      " activation_8 (Activation)   (None, 50)                0         \n",
      "                                                                 \n",
      " dense_11 (Dense)            (None, 150)               7650      \n",
      "                                                                 \n",
      " activation_9 (Activation)   (None, 150)               0         \n",
      "                                                                 \n",
      " dropout_4 (Dropout)         (None, 150)               0         \n",
      "                                                                 \n",
      " dense_12 (Dense)            (None, 150)               22650     \n",
      "                                                                 \n",
      " activation_10 (Activation)  (None, 150)               0         \n",
      "                                                                 \n",
      " dropout_5 (Dropout)         (None, 150)               0         \n",
      "                                                                 \n",
      " dense_13 (Dense)            (None, 50)                7550      \n",
      "                                                                 \n",
      " activation_11 (Activation)  (None, 50)                0         \n",
      "                                                                 \n",
      " dense_14 (Dense)            (None, 1)                 51        \n",
      "                                                                 \n",
      "=================================================================\n",
      "Total params: 38,301\n",
      "Trainable params: 38,301\n",
      "Non-trainable params: 0\n",
      "_________________________________________________________________\n"
     ]
    }
   ],
   "source": [
    "ANN_model = keras.Sequential()\n",
    "ANN_model.add(Dense(50, input_dim = 7))\n",
    "ANN_model.add(Activation('relu'))\n",
    "ANN_model.add(Dense(150))\n",
    "ANN_model.add(Activation('relu'))\n",
    "ANN_model.add(Dropout(0.5))\n",
    "ANN_model.add(Dense(150))\n",
    "ANN_model.add(Activation('relu'))\n",
    "ANN_model.add(Dropout(0.5))\n",
    "ANN_model.add(Dense(50))\n",
    "ANN_model.add(Activation('linear'))\n",
    "ANN_model.add(Dense(1))\n",
    "ANN_model.compile(loss = 'mean_squared_error', optimizer = 'adam')\n",
    "ANN_model.summary()"
   ]
  },
  {
   "cell_type": "code",
   "execution_count": 115,
   "metadata": {},
   "outputs": [],
   "source": [
    "ANN_model.compile(optimizer='adam', loss='mean_squared_error')"
   ]
  },
  {
   "cell_type": "code",
   "execution_count": 116,
   "metadata": {},
   "outputs": [
    {
     "name": "stdout",
     "output_type": "stream",
     "text": [
      "Epoch 1/100\n",
      "16/16 [==============================] - 1s 9ms/step - loss: 864.7169 - val_loss: 2.9432\n",
      "Epoch 2/100\n",
      "16/16 [==============================] - 0s 3ms/step - loss: 130.2803 - val_loss: 1.8248\n",
      "Epoch 3/100\n",
      "16/16 [==============================] - 0s 3ms/step - loss: 61.8394 - val_loss: 1.7636\n",
      "Epoch 4/100\n",
      "16/16 [==============================] - 0s 3ms/step - loss: 38.5290 - val_loss: 1.1356\n",
      "Epoch 5/100\n",
      "16/16 [==============================] - 0s 3ms/step - loss: 26.6716 - val_loss: 1.0885\n",
      "Epoch 6/100\n",
      "16/16 [==============================] - 0s 3ms/step - loss: 18.1976 - val_loss: 1.6986\n",
      "Epoch 7/100\n",
      "16/16 [==============================] - 0s 3ms/step - loss: 13.5961 - val_loss: 1.0864\n",
      "Epoch 8/100\n",
      "16/16 [==============================] - 0s 3ms/step - loss: 11.0469 - val_loss: 1.1715\n",
      "Epoch 9/100\n",
      "16/16 [==============================] - 0s 3ms/step - loss: 8.6027 - val_loss: 1.0900\n",
      "Epoch 10/100\n",
      "16/16 [==============================] - 0s 3ms/step - loss: 7.8417 - val_loss: 1.0769\n",
      "Epoch 11/100\n",
      "16/16 [==============================] - 0s 3ms/step - loss: 6.5748 - val_loss: 1.0641\n",
      "Epoch 12/100\n",
      "16/16 [==============================] - 0s 3ms/step - loss: 6.2735 - val_loss: 1.0690\n",
      "Epoch 13/100\n",
      "16/16 [==============================] - 0s 3ms/step - loss: 4.5639 - val_loss: 1.0572\n",
      "Epoch 14/100\n",
      "16/16 [==============================] - 0s 3ms/step - loss: 4.0535 - val_loss: 1.1189\n",
      "Epoch 15/100\n",
      "16/16 [==============================] - 0s 3ms/step - loss: 3.4024 - val_loss: 1.0567\n",
      "Epoch 16/100\n",
      "16/16 [==============================] - 0s 2ms/step - loss: 3.3084 - val_loss: 1.0878\n",
      "Epoch 17/100\n",
      "16/16 [==============================] - 0s 2ms/step - loss: 2.4733 - val_loss: 1.0648\n",
      "Epoch 18/100\n",
      "16/16 [==============================] - 0s 2ms/step - loss: 2.4824 - val_loss: 1.0848\n",
      "Epoch 19/100\n",
      "16/16 [==============================] - 0s 2ms/step - loss: 2.4829 - val_loss: 1.1032\n",
      "Epoch 20/100\n",
      "16/16 [==============================] - 0s 2ms/step - loss: 2.4839 - val_loss: 1.0491\n",
      "Epoch 21/100\n",
      "16/16 [==============================] - 0s 2ms/step - loss: 2.0252 - val_loss: 1.0330\n",
      "Epoch 22/100\n",
      "16/16 [==============================] - 0s 2ms/step - loss: 2.3097 - val_loss: 1.0732\n",
      "Epoch 23/100\n",
      "16/16 [==============================] - 0s 2ms/step - loss: 2.1930 - val_loss: 1.0334\n",
      "Epoch 24/100\n",
      "16/16 [==============================] - 0s 2ms/step - loss: 2.2121 - val_loss: 1.0708\n",
      "Epoch 25/100\n",
      "16/16 [==============================] - 0s 2ms/step - loss: 2.1086 - val_loss: 1.0560\n",
      "Epoch 26/100\n",
      "16/16 [==============================] - 0s 2ms/step - loss: 1.8963 - val_loss: 1.0710\n",
      "Epoch 27/100\n",
      "16/16 [==============================] - 0s 3ms/step - loss: 1.8935 - val_loss: 1.0613\n",
      "Epoch 28/100\n",
      "16/16 [==============================] - 0s 3ms/step - loss: 1.6776 - val_loss: 1.0301\n",
      "Epoch 29/100\n",
      "16/16 [==============================] - 0s 2ms/step - loss: 1.7698 - val_loss: 1.0253\n",
      "Epoch 30/100\n",
      "16/16 [==============================] - 0s 2ms/step - loss: 1.5700 - val_loss: 1.0421\n",
      "Epoch 31/100\n",
      "16/16 [==============================] - 0s 2ms/step - loss: 1.6939 - val_loss: 1.0253\n",
      "Epoch 32/100\n",
      "16/16 [==============================] - 0s 2ms/step - loss: 1.4587 - val_loss: 1.0899\n",
      "Epoch 33/100\n",
      "16/16 [==============================] - 0s 2ms/step - loss: 1.6073 - val_loss: 1.0264\n",
      "Epoch 34/100\n",
      "16/16 [==============================] - 0s 2ms/step - loss: 1.6343 - val_loss: 1.0833\n",
      "Epoch 35/100\n",
      "16/16 [==============================] - 0s 2ms/step - loss: 1.4926 - val_loss: 1.0640\n",
      "Epoch 36/100\n",
      "16/16 [==============================] - 0s 2ms/step - loss: 1.4164 - val_loss: 1.0358\n",
      "Epoch 37/100\n",
      "16/16 [==============================] - 0s 2ms/step - loss: 1.4454 - val_loss: 1.0596\n",
      "Epoch 38/100\n",
      "16/16 [==============================] - 0s 2ms/step - loss: 1.3223 - val_loss: 1.0239\n",
      "Epoch 39/100\n",
      "16/16 [==============================] - 0s 2ms/step - loss: 1.4951 - val_loss: 1.0733\n",
      "Epoch 40/100\n",
      "16/16 [==============================] - 0s 2ms/step - loss: 1.3116 - val_loss: 1.0332\n",
      "Epoch 41/100\n",
      "16/16 [==============================] - 0s 2ms/step - loss: 1.3836 - val_loss: 1.0526\n",
      "Epoch 42/100\n",
      "16/16 [==============================] - 0s 2ms/step - loss: 1.4684 - val_loss: 1.0866\n",
      "Epoch 43/100\n",
      "16/16 [==============================] - 0s 2ms/step - loss: 1.2271 - val_loss: 1.0372\n",
      "Epoch 44/100\n",
      "16/16 [==============================] - 0s 2ms/step - loss: 1.4295 - val_loss: 1.0407\n",
      "Epoch 45/100\n",
      "16/16 [==============================] - 0s 2ms/step - loss: 1.3081 - val_loss: 1.0488\n",
      "Epoch 46/100\n",
      "16/16 [==============================] - 0s 2ms/step - loss: 1.3182 - val_loss: 1.1010\n",
      "Epoch 47/100\n",
      "16/16 [==============================] - 0s 2ms/step - loss: 1.2123 - val_loss: 1.0319\n",
      "Epoch 48/100\n",
      "16/16 [==============================] - 0s 2ms/step - loss: 1.3551 - val_loss: 1.0294\n",
      "Epoch 49/100\n",
      "16/16 [==============================] - 0s 2ms/step - loss: 1.2917 - val_loss: 1.1177\n",
      "Epoch 50/100\n",
      "16/16 [==============================] - 0s 2ms/step - loss: 1.2045 - val_loss: 1.0286\n",
      "Epoch 51/100\n",
      "16/16 [==============================] - 0s 3ms/step - loss: 1.2859 - val_loss: 1.0643\n",
      "Epoch 52/100\n",
      "16/16 [==============================] - 0s 2ms/step - loss: 1.3200 - val_loss: 1.1004\n",
      "Epoch 53/100\n",
      "16/16 [==============================] - 0s 2ms/step - loss: 1.1740 - val_loss: 1.0625\n",
      "Epoch 54/100\n",
      "16/16 [==============================] - 0s 2ms/step - loss: 1.1579 - val_loss: 1.0285\n",
      "Epoch 55/100\n",
      "16/16 [==============================] - 0s 2ms/step - loss: 1.2254 - val_loss: 1.0296\n",
      "Epoch 56/100\n",
      "16/16 [==============================] - 0s 2ms/step - loss: 1.1894 - val_loss: 1.0332\n",
      "Epoch 57/100\n",
      "16/16 [==============================] - 0s 3ms/step - loss: 1.2651 - val_loss: 1.0382\n",
      "Epoch 58/100\n",
      "16/16 [==============================] - 0s 2ms/step - loss: 1.1524 - val_loss: 1.0427\n",
      "Epoch 59/100\n",
      "16/16 [==============================] - 0s 2ms/step - loss: 1.0604 - val_loss: 1.0377\n",
      "Epoch 60/100\n",
      "16/16 [==============================] - 0s 2ms/step - loss: 1.1133 - val_loss: 1.0443\n",
      "Epoch 61/100\n",
      "16/16 [==============================] - 0s 3ms/step - loss: 1.2590 - val_loss: 1.0334\n",
      "Epoch 62/100\n",
      "16/16 [==============================] - 0s 2ms/step - loss: 1.1429 - val_loss: 1.0261\n",
      "Epoch 63/100\n",
      "16/16 [==============================] - 0s 2ms/step - loss: 1.2226 - val_loss: 1.0478\n",
      "Epoch 64/100\n",
      "16/16 [==============================] - 0s 2ms/step - loss: 1.1739 - val_loss: 1.0537\n",
      "Epoch 65/100\n",
      "16/16 [==============================] - 0s 2ms/step - loss: 1.1909 - val_loss: 1.0287\n",
      "Epoch 66/100\n",
      "16/16 [==============================] - 0s 2ms/step - loss: 1.1513 - val_loss: 1.0476\n",
      "Epoch 67/100\n",
      "16/16 [==============================] - 0s 2ms/step - loss: 1.2546 - val_loss: 1.0619\n",
      "Epoch 68/100\n",
      "16/16 [==============================] - 0s 2ms/step - loss: 1.0831 - val_loss: 1.0298\n",
      "Epoch 69/100\n",
      "16/16 [==============================] - 0s 2ms/step - loss: 1.2378 - val_loss: 1.1272\n",
      "Epoch 70/100\n",
      "16/16 [==============================] - 0s 2ms/step - loss: 1.2208 - val_loss: 1.0154\n",
      "Epoch 71/100\n",
      "16/16 [==============================] - 0s 2ms/step - loss: 1.2190 - val_loss: 1.0316\n",
      "Epoch 72/100\n",
      "16/16 [==============================] - 0s 2ms/step - loss: 1.1856 - val_loss: 1.0544\n",
      "Epoch 73/100\n",
      "16/16 [==============================] - 0s 2ms/step - loss: 1.1642 - val_loss: 1.0324\n",
      "Epoch 74/100\n",
      "16/16 [==============================] - 0s 2ms/step - loss: 1.1135 - val_loss: 1.0219\n",
      "Epoch 75/100\n",
      "16/16 [==============================] - 0s 2ms/step - loss: 1.1609 - val_loss: 1.0377\n",
      "Epoch 76/100\n",
      "16/16 [==============================] - 0s 2ms/step - loss: 1.1137 - val_loss: 1.0219\n",
      "Epoch 77/100\n",
      "16/16 [==============================] - 0s 2ms/step - loss: 1.1355 - val_loss: 1.0218\n",
      "Epoch 78/100\n",
      "16/16 [==============================] - 0s 2ms/step - loss: 1.1292 - val_loss: 1.0199\n",
      "Epoch 79/100\n",
      "16/16 [==============================] - 0s 2ms/step - loss: 1.1940 - val_loss: 1.0458\n",
      "Epoch 80/100\n",
      "16/16 [==============================] - 0s 2ms/step - loss: 1.2138 - val_loss: 1.0381\n",
      "Epoch 81/100\n",
      "16/16 [==============================] - 0s 2ms/step - loss: 1.1437 - val_loss: 1.0565\n",
      "Epoch 82/100\n",
      "16/16 [==============================] - 0s 2ms/step - loss: 1.1319 - val_loss: 1.0261\n",
      "Epoch 83/100\n",
      "16/16 [==============================] - 0s 2ms/step - loss: 1.0807 - val_loss: 1.0556\n",
      "Epoch 84/100\n",
      "16/16 [==============================] - 0s 2ms/step - loss: 1.1056 - val_loss: 1.0605\n",
      "Epoch 85/100\n",
      "16/16 [==============================] - 0s 2ms/step - loss: 1.1987 - val_loss: 1.0323\n",
      "Epoch 86/100\n",
      "16/16 [==============================] - 0s 2ms/step - loss: 1.0974 - val_loss: 1.0435\n",
      "Epoch 87/100\n",
      "16/16 [==============================] - 0s 2ms/step - loss: 1.0944 - val_loss: 1.0796\n",
      "Epoch 88/100\n",
      "16/16 [==============================] - 0s 2ms/step - loss: 1.1842 - val_loss: 1.0231\n",
      "Epoch 89/100\n",
      "16/16 [==============================] - 0s 2ms/step - loss: 1.1498 - val_loss: 1.0393\n",
      "Epoch 90/100\n",
      "16/16 [==============================] - 0s 2ms/step - loss: 1.1690 - val_loss: 1.1016\n",
      "Epoch 91/100\n",
      "16/16 [==============================] - 0s 2ms/step - loss: 1.1704 - val_loss: 1.0181\n",
      "Epoch 92/100\n",
      "16/16 [==============================] - 0s 2ms/step - loss: 1.1610 - val_loss: 1.0217\n",
      "Epoch 93/100\n",
      "16/16 [==============================] - 0s 2ms/step - loss: 1.1404 - val_loss: 1.0278\n",
      "Epoch 94/100\n",
      "16/16 [==============================] - 0s 2ms/step - loss: 1.1245 - val_loss: 1.0286\n",
      "Epoch 95/100\n",
      "16/16 [==============================] - 0s 2ms/step - loss: 1.1213 - val_loss: 1.0139\n",
      "Epoch 96/100\n",
      "16/16 [==============================] - 0s 2ms/step - loss: 1.0704 - val_loss: 1.0191\n",
      "Epoch 97/100\n",
      "16/16 [==============================] - 0s 2ms/step - loss: 1.0709 - val_loss: 1.0247\n",
      "Epoch 98/100\n",
      "16/16 [==============================] - 0s 2ms/step - loss: 1.0421 - val_loss: 1.0230\n",
      "Epoch 99/100\n",
      "16/16 [==============================] - 0s 2ms/step - loss: 1.1226 - val_loss: 1.0226\n",
      "Epoch 100/100\n",
      "16/16 [==============================] - 0s 2ms/step - loss: 1.1365 - val_loss: 1.0201\n"
     ]
    }
   ],
   "source": [
    "epochs_hist = ANN_model.fit(train_x, train_y, epochs = 100, batch_size = 20, validation_split = 0.2)"
   ]
  },
  {
   "cell_type": "code",
   "execution_count": 117,
   "metadata": {},
   "outputs": [
    {
     "name": "stdout",
     "output_type": "stream",
     "text": [
      "4/4 [==============================] - 0s 3ms/step - loss: 1.0609\n",
      "Accuracy : -0.06088292598724365\n"
     ]
    }
   ],
   "source": [
    "result = ANN_model.evaluate(test_x, test_y)\n",
    "accuracy_ANN = 1 - result\n",
    "print(\"Accuracy : {}\".format(accuracy_ANN))"
   ]
  },
  {
   "cell_type": "code",
   "execution_count": 118,
   "metadata": {},
   "outputs": [
    {
     "data": {
      "text/plain": [
       "dict_keys(['loss', 'val_loss'])"
      ]
     },
     "execution_count": 118,
     "metadata": {},
     "output_type": "execute_result"
    }
   ],
   "source": [
    "epochs_hist.history.keys()"
   ]
  },
  {
   "cell_type": "code",
   "execution_count": 119,
   "metadata": {},
   "outputs": [
    {
     "data": {
      "text/plain": [
       "<matplotlib.legend.Legend at 0x17c246b3a90>"
      ]
     },
     "execution_count": 119,
     "metadata": {},
     "output_type": "execute_result"
    },
    {
     "data": {
      "image/png": "[encoded data removed]",
      "text/plain": [
       "<Figure size 432x288 with 1 Axes>"
      ]
     },
     "metadata": {
      "needs_background": "light"
     },
     "output_type": "display_data"
    }
   ],
   "source": [
    "plt.plot(epochs_hist.history['loss'])\n",
    "plt.title('Model Loss Progress During Training')\n",
    "plt.xlabel('Epoch')\n",
    "plt.ylabel('Training Loss')\n",
    "plt.legend(['Training Loss'])"
   ]
  },
  {
   "cell_type": "markdown",
   "metadata": {},
   "source": [
    "TRAIN AND EVALUATE A DECISION TREE AND RANDOM FOREST MODELS"
   ]
  },
  {
   "cell_type": "code",
   "execution_count": 120,
   "metadata": {},
   "outputs": [
    {
     "data": {
      "text/plain": [
       "DecisionTreeRegressor()"
      ]
     },
     "execution_count": 120,
     "metadata": {},
     "output_type": "execute_result"
    }
   ],
   "source": [
    "# Decision tree builds regression or classification models in the form of a tree structure. \n",
    "# Decision tree breaks down a dataset into smaller subsets while at the same time an associated decision tree is incrementally developed. \n",
    "# The final result is a tree with decision nodes and leaf nodes.\n",
    "\n",
    "\n",
    "from sklearn.tree import DecisionTreeRegressor\n",
    "decisionTree_model = DecisionTreeRegressor()\n",
    "decisionTree_model.fit(train_x, train_y)"
   ]
  },
  {
   "cell_type": "code",
   "execution_count": 121,
   "metadata": {},
   "outputs": [
    {
     "data": {
      "text/plain": [
       "0.6396309945204307"
      ]
     },
     "execution_count": 121,
     "metadata": {},
     "output_type": "execute_result"
    }
   ],
   "source": [
    "accuracy_decisionTree = decisionTree_model.score(test_x, test_y)\n",
    "accuracy_decisionTree"
   ]
  },
  {
   "cell_type": "code",
   "execution_count": 122,
   "metadata": {},
   "outputs": [],
   "source": [
    "# Many decision Trees make up a random forest model which is an ensemble model. \n",
    "# Predictions made by each decision tree are averaged to get the prediction of random forest model.\n",
    "# A random forest regressor fits a number of classifying decision trees on various sub-samples of the dataset and uses averaging to improve the predictive accuracy and control over-fitting. \n"
   ]
  },
  {
   "cell_type": "code",
   "execution_count": 123,
   "metadata": {},
   "outputs": [
    {
     "name": "stderr",
     "output_type": "stream",
     "text": [
      "C:\\Users\\mrhus\\AppData\\Local\\Temp/ipykernel_7664/2085754441.py:3: DataConversionWarning: A column-vector y was passed when a 1d array was expected. Please change the shape of y to (n_samples,), for example using ravel().\n",
      "  randomForest_model.fit(train_x, train_y)\n"
     ]
    },
    {
     "data": {
      "text/plain": [
       "0.7942773123164613"
      ]
     },
     "execution_count": 123,
     "metadata": {},
     "output_type": "execute_result"
    }
   ],
   "source": [
    "from sklearn.ensemble import RandomForestRegressor\n",
    "randomForest_model = RandomForestRegressor(n_estimators=100, max_depth=10)\n",
    "randomForest_model.fit(train_x, train_y)\n",
    "accuracy_randomforest = randomForest_model.score(test_x, test_y)\n",
    "accuracy_randomforest"
   ]
  },
  {
   "cell_type": "markdown",
   "metadata": {},
   "source": [
    "UNDERSTAND VARIOUS REGRESSION KPIs"
   ]
  },
  {
   "cell_type": "code",
   "execution_count": 124,
   "metadata": {},
   "outputs": [
    {
     "data": {
      "text/plain": [
       "[<matplotlib.lines.Line2D at 0x17c26ff9e50>]"
      ]
     },
     "execution_count": 124,
     "metadata": {},
     "output_type": "execute_result"
    },
    {
     "data": {
      "image/png": "[encoded data removed]",
      "text/plain": [
       "<Figure size 432x288 with 1 Axes>"
      ]
     },
     "metadata": {
      "needs_background": "light"
     },
     "output_type": "display_data"
    }
   ],
   "source": [
    "y_pred = reg.predict(test_x)\n",
    "plt.plot(test_y, y_pred, '^', color='r')"
   ]
  },
  {
   "cell_type": "code",
   "execution_count": 125,
   "metadata": {},
   "outputs": [],
   "source": [
    "y_predict_orig = scaler_y.inverse_transform(y_pred)\n",
    "y_test_orig = scaler_y.inverse_transform(test_y)"
   ]
  },
  {
   "cell_type": "code",
   "execution_count": null,
   "metadata": {},
   "outputs": [],
   "source": []
  },
  {
   "cell_type": "code",
   "execution_count": 126,
   "metadata": {},
   "outputs": [
    {
     "data": {
      "text/plain": [
       "100"
      ]
     },
     "execution_count": 126,
     "metadata": {},
     "output_type": "execute_result"
    }
   ],
   "source": [
    "k = test_x.shape[1]\n",
    "n = len(test_x)\n",
    "n"
   ]
  },
  {
   "cell_type": "code",
   "execution_count": null,
   "metadata": {},
   "outputs": [],
   "source": []
  },
  {
   "cell_type": "code",
   "execution_count": 127,
   "metadata": {},
   "outputs": [
    {
     "name": "stdout",
     "output_type": "stream",
     "text": [
      "RMSE = 0.058 \n",
      "MSE = 0.0033200058289450845 \n",
      "MAE = 0.044688261926697725 \n",
      "R2 = 0.8287147890102629 \n",
      "Adjusted R2 = 0.8156822186088698\n"
     ]
    }
   ],
   "source": [
    "from sklearn.metrics import r2_score, mean_squared_error, mean_absolute_error\n",
    "from math import sqrt\n",
    "\n",
    "RMSE = float(format(np.sqrt(mean_squared_error(y_test_orig, y_predict_orig)),'.3f'))\n",
    "MSE = mean_squared_error(y_test_orig, y_predict_orig)\n",
    "MAE = mean_absolute_error(y_test_orig, y_predict_orig)\n",
    "r2 = r2_score(y_test_orig, y_predict_orig)\n",
    "adj_r2 = 1-(1-r2)*(n-1)/(n-k-1)\n",
    "\n",
    "print('RMSE =',RMSE, '\\nMSE =',MSE, '\\nMAE =',MAE, '\\nR2 =', r2, '\\nAdjusted R2 =', adj_r2) \n"
   ]
  },
  {
   "cell_type": "code",
   "execution_count": null,
   "metadata": {},
   "outputs": [],
   "source": []
  },
  {
   "cell_type": "code",
   "execution_count": null,
   "metadata": {},
   "outputs": [],
   "source": []
  },
  {
   "cell_type": "markdown",
   "metadata": {},
   "source": [
    "# saving the model to the local file system"
   ]
  },
  {
   "cell_type": "markdown",
   "metadata": {},
   "source": [
    "- pickle library- used to convert object into bytecode - called serialization\n",
    "- deserialization- converting bytecode to object"
   ]
  },
  {
   "cell_type": "code",
   "execution_count": 128,
   "metadata": {},
   "outputs": [
    {
     "data": {
      "text/plain": [
       "['filename.joblib']"
      ]
     },
     "execution_count": 128,
     "metadata": {},
     "output_type": "execute_result"
    }
   ],
   "source": [
    "#filename='finalized_model.pickle'\n",
    "#pickle.dump(reg,open(filename,'wb'))\n",
    "dump(reg, 'filename.joblib')"
   ]
  },
  {
   "cell_type": "code",
   "execution_count": 129,
   "metadata": {},
   "outputs": [
    {
     "name": "stdout",
     "output_type": "stream",
     "text": [
      "(7,)\n",
      "(1, 7)\n"
     ]
    }
   ],
   "source": [
    "s = np.array([340, 120, 5, 5, 5, 9.6, 1])\n",
    "print(s.shape)\n",
    "s = s.reshape(1,-1)\n",
    "print(s.shape)"
   ]
  },
  {
   "cell_type": "code",
   "execution_count": 130,
   "metadata": {},
   "outputs": [],
   "source": [
    "#model = pickle.load(open(filename, 'rb'))\n",
    "#print(model.predict(s))\n"
   ]
  },
  {
   "cell_type": "code",
   "execution_count": 131,
   "metadata": {},
   "outputs": [],
   "source": [
    "#loaded_model=pickle.load(open(filename,'rb'))\n",
    "#a=loaded_model.predict([[300,110,5,5,5,10,1]])\n",
    "#a[0]"
   ]
  },
  {
   "cell_type": "code",
   "execution_count": 132,
   "metadata": {},
   "outputs": [],
   "source": [
    "#a=loaded_model.predict([[320,120,5,5,5,10,1]])\n",
    "#a[0]"
   ]
  }
 ],
 "metadata": {
  "kernelspec": {
   "display_name": "Python 3",
   "language": "python",
   "name": "python3"
  },
  "language_info": {
   "codemirror_mode": {
    "name": "ipython",
    "version": 3
   },
   "file_extension": ".py",
   "mimetype": "text/x-python",
   "name": "python",
   "nbconvert_exporter": "python",
   "pygments_lexer": "ipython3",
   "version": "3.9.7"
  }
 },
 "nbformat": 4,
 "nbformat_minor": 2
}
