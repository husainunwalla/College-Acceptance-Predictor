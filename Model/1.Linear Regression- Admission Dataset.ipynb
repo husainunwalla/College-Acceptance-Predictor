{
 "cells": [
  {
   "cell_type": "markdown",
   "metadata": {},
   "source": [
    "### Problem Statement\n",
    "- ### The goal here is to find the chance of admission of a candidate based on his/her GRE score, TOEFL score, rating of the university in which he/she is trying to get admission,strength of the SOP,Strength of the letter of the recommendation, CGPA and the research experience\n"
   ]
  },
  {
   "cell_type": "markdown",
   "metadata": {},
   "source": [
    "# Data Preprocessing "
   ]
  },
  {
   "cell_type": "markdown",
   "metadata": {},
   "source": []
  },
  {
   "cell_type": "code",
   "execution_count": 1,
   "metadata": {},
   "outputs": [],
   "source": [
    "#importing libraries\n",
    "import pandas as pd\n",
    "import numpy as np\n",
    "import matplotlib.pyplot as plt\n",
    "import pickle\n",
    "import seaborn as sns\n",
    "from joblib import dump\n",
    "%matplotlib inline"
   ]
  },
  {
   "cell_type": "code",
   "execution_count": 2,
   "metadata": {},
   "outputs": [],
   "source": [
    "df=pd.read_csv(\"Admission_Prediction.csv\")  # importing the data set"
   ]
  },
  {
   "cell_type": "code",
   "execution_count": 3,
   "metadata": {},
   "outputs": [],
   "source": [
    "df.drop('Serial No.', axis=1, inplace=True)\n"
   ]
  },
  {
   "cell_type": "code",
   "execution_count": 4,
   "metadata": {},
   "outputs": [],
   "source": [
    "df['GRE Score'].fillna(df['GRE Score'].mode()[0],inplace=True)\n",
    "df['TOEFL Score'].fillna(df['TOEFL Score'].mode()[0],inplace=True)\n",
    "df['University Rating'].fillna(df['University Rating'].mean(),inplace=True)"
   ]
  },
  {
   "cell_type": "code",
   "execution_count": 5,
   "metadata": {},
   "outputs": [
    {
     "data": {
      "text/html": [
       "<div>\n",
       "<style scoped>\n",
       "    .dataframe tbody tr th:only-of-type {\n",
       "        vertical-align: middle;\n",
       "    }\n",
       "\n",
       "    .dataframe tbody tr th {\n",
       "        vertical-align: top;\n",
       "    }\n",
       "\n",
       "    .dataframe thead th {\n",
       "        text-align: right;\n",
       "    }\n",
       "</style>\n",
       "<table border=\"1\" class=\"dataframe\">\n",
       "  <thead>\n",
       "    <tr style=\"text-align: right;\">\n",
       "      <th></th>\n",
       "      <th>GRE Score</th>\n",
       "      <th>TOEFL Score</th>\n",
       "      <th>SOP</th>\n",
       "      <th>LOR</th>\n",
       "      <th>CGPA</th>\n",
       "      <th>Research</th>\n",
       "      <th>Chance of Admit</th>\n",
       "    </tr>\n",
       "    <tr>\n",
       "      <th>University Rating</th>\n",
       "      <th></th>\n",
       "      <th></th>\n",
       "      <th></th>\n",
       "      <th></th>\n",
       "      <th></th>\n",
       "      <th></th>\n",
       "      <th></th>\n",
       "    </tr>\n",
       "  </thead>\n",
       "  <tbody>\n",
       "    <tr>\n",
       "      <th>4.3</th>\n",
       "      <td>311.285714</td>\n",
       "      <td>103.857143</td>\n",
       "      <td>3.428571</td>\n",
       "      <td>3.428571</td>\n",
       "      <td>8.434286</td>\n",
       "      <td>0.571429</td>\n",
       "      <td>0.428571</td>\n",
       "    </tr>\n",
       "    <tr>\n",
       "      <th>15.0</th>\n",
       "      <td>317.000000</td>\n",
       "      <td>110.000000</td>\n",
       "      <td>3.000000</td>\n",
       "      <td>3.000000</td>\n",
       "      <td>8.880000</td>\n",
       "      <td>0.000000</td>\n",
       "      <td>0.000000</td>\n",
       "    </tr>\n",
       "    <tr>\n",
       "      <th>16.0</th>\n",
       "      <td>317.000000</td>\n",
       "      <td>110.000000</td>\n",
       "      <td>3.000000</td>\n",
       "      <td>3.000000</td>\n",
       "      <td>8.880000</td>\n",
       "      <td>0.000000</td>\n",
       "      <td>0.000000</td>\n",
       "    </tr>\n",
       "    <tr>\n",
       "      <th>17.5</th>\n",
       "      <td>317.833333</td>\n",
       "      <td>104.833333</td>\n",
       "      <td>4.083333</td>\n",
       "      <td>4.083333</td>\n",
       "      <td>8.973333</td>\n",
       "      <td>0.666667</td>\n",
       "      <td>0.500000</td>\n",
       "    </tr>\n",
       "    <tr>\n",
       "      <th>20.0</th>\n",
       "      <td>317.000000</td>\n",
       "      <td>110.000000</td>\n",
       "      <td>3.000000</td>\n",
       "      <td>3.000000</td>\n",
       "      <td>8.880000</td>\n",
       "      <td>0.000000</td>\n",
       "      <td>1.000000</td>\n",
       "    </tr>\n",
       "    <tr>\n",
       "      <th>29.9</th>\n",
       "      <td>315.333333</td>\n",
       "      <td>106.000000</td>\n",
       "      <td>3.683333</td>\n",
       "      <td>4.066667</td>\n",
       "      <td>8.495000</td>\n",
       "      <td>0.333333</td>\n",
       "      <td>0.500000</td>\n",
       "    </tr>\n",
       "    <tr>\n",
       "      <th>36.6</th>\n",
       "      <td>316.000000</td>\n",
       "      <td>107.833333</td>\n",
       "      <td>3.683333</td>\n",
       "      <td>3.483333</td>\n",
       "      <td>7.683333</td>\n",
       "      <td>0.333333</td>\n",
       "      <td>0.500000</td>\n",
       "    </tr>\n",
       "    <tr>\n",
       "      <th>46.4</th>\n",
       "      <td>310.500000</td>\n",
       "      <td>105.666667</td>\n",
       "      <td>3.583333</td>\n",
       "      <td>3.566667</td>\n",
       "      <td>8.076667</td>\n",
       "      <td>0.500000</td>\n",
       "      <td>0.500000</td>\n",
       "    </tr>\n",
       "    <tr>\n",
       "      <th>47.0</th>\n",
       "      <td>317.000000</td>\n",
       "      <td>110.000000</td>\n",
       "      <td>3.000000</td>\n",
       "      <td>3.000000</td>\n",
       "      <td>8.880000</td>\n",
       "      <td>0.000000</td>\n",
       "      <td>1.000000</td>\n",
       "    </tr>\n",
       "    <tr>\n",
       "      <th>63.6</th>\n",
       "      <td>313.000000</td>\n",
       "      <td>104.000000</td>\n",
       "      <td>3.000000</td>\n",
       "      <td>3.000000</td>\n",
       "      <td>7.950000</td>\n",
       "      <td>0.500000</td>\n",
       "      <td>0.500000</td>\n",
       "    </tr>\n",
       "    <tr>\n",
       "      <th>70.7</th>\n",
       "      <td>303.000000</td>\n",
       "      <td>100.833333</td>\n",
       "      <td>3.333333</td>\n",
       "      <td>3.666667</td>\n",
       "      <td>6.776667</td>\n",
       "      <td>0.500000</td>\n",
       "      <td>0.500000</td>\n",
       "    </tr>\n",
       "    <tr>\n",
       "      <th>82.3</th>\n",
       "      <td>292.000000</td>\n",
       "      <td>87.000000</td>\n",
       "      <td>1.333333</td>\n",
       "      <td>1.333333</td>\n",
       "      <td>7.900000</td>\n",
       "      <td>0.000000</td>\n",
       "      <td>0.333333</td>\n",
       "    </tr>\n",
       "    <tr>\n",
       "      <th>99.0</th>\n",
       "      <td>293.000000</td>\n",
       "      <td>92.000000</td>\n",
       "      <td>1.000000</td>\n",
       "      <td>1.000000</td>\n",
       "      <td>6.000000</td>\n",
       "      <td>0.000000</td>\n",
       "      <td>1.000000</td>\n",
       "    </tr>\n",
       "  </tbody>\n",
       "</table>\n",
       "</div>"
      ],
      "text/plain": [
       "                    GRE Score  TOEFL Score       SOP       LOR      CGPA  \\\n",
       "University Rating                                                          \n",
       "4.3                311.285714   103.857143  3.428571  3.428571  8.434286   \n",
       "15.0               317.000000   110.000000  3.000000  3.000000  8.880000   \n",
       "16.0               317.000000   110.000000  3.000000  3.000000  8.880000   \n",
       "17.5               317.833333   104.833333  4.083333  4.083333  8.973333   \n",
       "20.0               317.000000   110.000000  3.000000  3.000000  8.880000   \n",
       "29.9               315.333333   106.000000  3.683333  4.066667  8.495000   \n",
       "36.6               316.000000   107.833333  3.683333  3.483333  7.683333   \n",
       "46.4               310.500000   105.666667  3.583333  3.566667  8.076667   \n",
       "47.0               317.000000   110.000000  3.000000  3.000000  8.880000   \n",
       "63.6               313.000000   104.000000  3.000000  3.000000  7.950000   \n",
       "70.7               303.000000   100.833333  3.333333  3.666667  6.776667   \n",
       "82.3               292.000000    87.000000  1.333333  1.333333  7.900000   \n",
       "99.0               293.000000    92.000000  1.000000  1.000000  6.000000   \n",
       "\n",
       "                   Research  Chance of Admit  \n",
       "University Rating                             \n",
       "4.3                0.571429         0.428571  \n",
       "15.0               0.000000         0.000000  \n",
       "16.0               0.000000         0.000000  \n",
       "17.5               0.666667         0.500000  \n",
       "20.0               0.000000         1.000000  \n",
       "29.9               0.333333         0.500000  \n",
       "36.6               0.333333         0.500000  \n",
       "46.4               0.500000         0.500000  \n",
       "47.0               0.000000         1.000000  \n",
       "63.6               0.500000         0.500000  \n",
       "70.7               0.500000         0.500000  \n",
       "82.3               0.000000         0.333333  \n",
       "99.0               0.000000         1.000000  "
      ]
     },
     "execution_count": 5,
     "metadata": {},
     "output_type": "execute_result"
    }
   ],
   "source": [
    "df_university = df.groupby(by='University Rating').mean()\n",
    "df_university"
   ]
  },
  {
   "cell_type": "code",
   "execution_count": 6,
   "metadata": {},
   "outputs": [],
   "source": [
    "x=df.drop(['Chance of Admit'],axis=1)\n",
    "y=df['Chance of Admit']\n",
    "# here we are droping the Chance of Admit and serial no, as they are not going to be used for the features \n",
    "# Chance of Admit is the target column which shows the probalility of admission for a candidate."
   ]
  },
  {
   "cell_type": "code",
   "execution_count": 7,
   "metadata": {},
   "outputs": [
    {
     "data": {
      "text/html": [
       "<div>\n",
       "<style scoped>\n",
       "    .dataframe tbody tr th:only-of-type {\n",
       "        vertical-align: middle;\n",
       "    }\n",
       "\n",
       "    .dataframe tbody tr th {\n",
       "        vertical-align: top;\n",
       "    }\n",
       "\n",
       "    .dataframe thead th {\n",
       "        text-align: right;\n",
       "    }\n",
       "</style>\n",
       "<table border=\"1\" class=\"dataframe\">\n",
       "  <thead>\n",
       "    <tr style=\"text-align: right;\">\n",
       "      <th></th>\n",
       "      <th>GRE Score</th>\n",
       "      <th>TOEFL Score</th>\n",
       "      <th>University Rating</th>\n",
       "      <th>SOP</th>\n",
       "      <th>LOR</th>\n",
       "      <th>CGPA</th>\n",
       "      <th>Research</th>\n",
       "    </tr>\n",
       "  </thead>\n",
       "  <tbody>\n",
       "    <tr>\n",
       "      <th>0</th>\n",
       "      <td>317</td>\n",
       "      <td>110</td>\n",
       "      <td>47.0</td>\n",
       "      <td>3.0</td>\n",
       "      <td>3.0</td>\n",
       "      <td>8.88</td>\n",
       "      <td>0</td>\n",
       "    </tr>\n",
       "    <tr>\n",
       "      <th>1</th>\n",
       "      <td>317</td>\n",
       "      <td>110</td>\n",
       "      <td>16.0</td>\n",
       "      <td>3.0</td>\n",
       "      <td>3.0</td>\n",
       "      <td>8.88</td>\n",
       "      <td>0</td>\n",
       "    </tr>\n",
       "    <tr>\n",
       "      <th>2</th>\n",
       "      <td>317</td>\n",
       "      <td>110</td>\n",
       "      <td>4.3</td>\n",
       "      <td>3.0</td>\n",
       "      <td>3.0</td>\n",
       "      <td>8.88</td>\n",
       "      <td>0</td>\n",
       "    </tr>\n",
       "    <tr>\n",
       "      <th>3</th>\n",
       "      <td>317</td>\n",
       "      <td>110</td>\n",
       "      <td>20.0</td>\n",
       "      <td>3.0</td>\n",
       "      <td>3.0</td>\n",
       "      <td>8.88</td>\n",
       "      <td>0</td>\n",
       "    </tr>\n",
       "    <tr>\n",
       "      <th>4</th>\n",
       "      <td>317</td>\n",
       "      <td>110</td>\n",
       "      <td>15.0</td>\n",
       "      <td>3.0</td>\n",
       "      <td>3.0</td>\n",
       "      <td>8.88</td>\n",
       "      <td>0</td>\n",
       "    </tr>\n",
       "  </tbody>\n",
       "</table>\n",
       "</div>"
      ],
      "text/plain": [
       "   GRE Score  TOEFL Score  University Rating  SOP  LOR  CGPA  Research\n",
       "0        317          110               47.0  3.0  3.0  8.88         0\n",
       "1        317          110               16.0  3.0  3.0  8.88         0\n",
       "2        317          110                4.3  3.0  3.0  8.88         0\n",
       "3        317          110               20.0  3.0  3.0  8.88         0\n",
       "4        317          110               15.0  3.0  3.0  8.88         0"
      ]
     },
     "execution_count": 7,
     "metadata": {},
     "output_type": "execute_result"
    }
   ],
   "source": [
    "x.head() # checking the transformed feature column"
   ]
  },
  {
   "cell_type": "code",
   "execution_count": 8,
   "metadata": {},
   "outputs": [
    {
     "data": {
      "text/plain": [
       "(49, 1)"
      ]
     },
     "execution_count": 8,
     "metadata": {},
     "output_type": "execute_result"
    }
   ],
   "source": [
    "x = np.array(x)\n",
    "y = np.array(y)\n",
    "y = y.reshape(-1,1)\n",
    "y.shape"
   ]
  },
  {
   "cell_type": "code",
   "execution_count": 9,
   "metadata": {},
   "outputs": [
    {
     "data": {
      "text/plain": [
       "array([[ 0.5046682 ,  0.71321961,  0.2973651 , -0.33885875, -0.36556246,\n",
       "         0.759955  , -0.8304548 ],\n",
       "       [ 0.5046682 ,  0.71321961, -0.93007399, -0.33885875, -0.36556246,\n",
       "         0.759955  , -0.8304548 ],\n",
       "       [ 0.5046682 ,  0.71321961, -1.39333325, -0.33885875, -0.36556246,\n",
       "         0.759955  , -0.8304548 ],\n",
       "       [ 0.5046682 ,  0.71321961, -0.77169475, -0.33885875, -0.36556246,\n",
       "         0.759955  , -0.8304548 ],\n",
       "       [ 0.5046682 ,  0.71321961, -0.9696688 , -0.33885875, -0.36556246,\n",
       "         0.759955  , -0.8304548 ],\n",
       "       [-1.54892975, -1.36288499,  2.35629518, -2.388745  , -2.23145416,\n",
       "        -1.98779928, -0.8304548 ],\n",
       "       [-1.80562949, -1.59356328,  1.69506186, -1.36380187, -1.29850831,\n",
       "        -0.55667726, -0.8304548 ],\n",
       "       [-1.03553026, -1.59356328,  1.69506186, -2.388745  , -2.23145416,\n",
       "         0.30199595, -0.8304548 ],\n",
       "       [-2.06232924, -2.63161559,  1.69506186, -2.388745  , -2.23145416,\n",
       "        -0.27045286, -0.8304548 ],\n",
       "       [ 1.4459006 ,  0.71321961,  0.95463893, -0.33885875, -0.36556246,\n",
       "        -0.30861611, -0.8304548 ],\n",
       "       [ 0.16240188, -0.44017184,  0.95463893, -0.33885875, -0.36556246,\n",
       "        -0.27045286,  1.20415946],\n",
       "       [-0.8643971 , -0.90152842,  0.95463893, -0.33885875,  0.56738339,\n",
       "         0.29245514,  1.20415946],\n",
       "       [-0.09429787,  0.71321961,  0.95463893, -0.33885875, -1.29850831,\n",
       "        -0.22274879, -0.8304548 ],\n",
       "       [ 1.78816693,  0.71321961, -1.39333325,  0.68608438,  0.56738339,\n",
       "         0.62638361,  1.20415946],\n",
       "       [-0.00873128,  0.13652389, -1.39333325,  1.7110275 ,  1.50032924,\n",
       "         1.30378137,  1.20415946],\n",
       "       [ 0.84693453,  0.9438979 , -1.39333325,  0.68608438,  0.56738339,\n",
       "         0.96031208,  1.20415946],\n",
       "       [-0.94996368, -1.59356328, -1.39333325, -0.33885875, -0.36556246,\n",
       "         0.11117968,  1.20415946],\n",
       "       [-0.94996368, -0.44017184, -1.39333325, -1.36380187, -0.36556246,\n",
       "        -0.70933028, -0.8304548 ],\n",
       "       [-1.12109684, -0.44017184, -1.39333325, -0.33885875, -1.29850831,\n",
       "        -0.70933028, -0.8304548 ],\n",
       "       [ 1.18920086, -0.44017184,  1.23576208, -0.33885875,  0.56738339,\n",
       "         0.58822036, -0.8304548 ],\n",
       "       [-0.8643971 , -0.44017184,  1.23576208,  0.68608438,  1.50032924,\n",
       "        -1.07188119,  1.20415946],\n",
       "       [-1.46336317,  0.13652389,  1.23576208,  1.7110275 ,  1.50032924,\n",
       "        -0.71887109,  1.20415946],\n",
       "       [-1.37779659, -1.01686756,  1.23576208, -1.36380187, -0.36556246,\n",
       "        -2.87509494, -0.8304548 ],\n",
       "       [-0.94996368,  0.71321961,  1.23576208, -0.33885875, -1.29850831,\n",
       "        -2.56024809, -0.8304548 ],\n",
       "       [-0.69326394, -1.01686756,  1.23576208, -0.33885875, -0.36556246,\n",
       "        -0.84290166,  1.20415946],\n",
       "       [ 2.04486667,  1.28991533, -0.87068177,  1.7110275 ,  1.50032924,\n",
       "         1.65679147,  1.20415946],\n",
       "       [ 1.18920086,  0.71321961, -0.87068177,  1.7110275 ,  1.50032924,\n",
       "         1.7521996 ,  1.20415946],\n",
       "       [ 1.36033402,  0.48254132, -0.87068177,  1.19855594,  1.03385632,\n",
       "         1.2560773 ,  1.20415946],\n",
       "       [-0.35099761, -1.13220671, -0.87068177,  0.68608438, -0.36556246,\n",
       "        -0.74749353,  1.20415946],\n",
       "       [ 0.16240188,  0.36720217, -0.87068177, -0.33885875,  0.56738339,\n",
       "         0.58822036, -0.8304548 ],\n",
       "       [-0.94996368, -1.01686756, -0.87068177, -0.33885875, -0.36556246,\n",
       "         0.58822036, -0.8304548 ],\n",
       "       [ 0.76136795,  0.9438979 , -0.11442092,  0.68608438,  0.56738339,\n",
       "        -0.36586099,  1.20415946],\n",
       "       [ 0.93250111,  0.36720217, -0.11442092,  0.68608438, -0.36556246,\n",
       "        -0.65208539,  1.20415946],\n",
       "       [ 0.84693453,  1.63593277, -0.11442092,  0.68608438,  1.03385632,\n",
       "         0.74087337, -0.8304548 ],\n",
       "       [ 0.24796846,  0.9438979 , -0.11442092, -0.03137581,  0.38079422,\n",
       "        -1.68249325, -0.8304548 ],\n",
       "       [-0.00873128,  0.36720217, -0.11442092,  0.0711185 ,  0.10091047,\n",
       "        -0.7284119 , -0.8304548 ],\n",
       "       [-0.26543103, -1.47822414, -0.11442092,  0.0711185 , -1.20521372,\n",
       "         0.39740409, -0.8304548 ],\n",
       "       [ 0.67580137,  1.40525448, -0.37970614,  1.19855594,  1.03385632,\n",
       "         1.41827113, -0.8304548 ],\n",
       "       [ 0.67580137,  1.75127191, -0.37970614,  0.99356731,  0.75397256,\n",
       "         0.78857744,  1.20415946],\n",
       "       [ 1.27476744,  0.13652389, -0.37970614,  0.68608438,  1.50032924,\n",
       "         0.80765907, -0.8304548 ],\n",
       "       [-0.52213077, -2.17025901, -0.37970614, -0.85133031, -0.83203538,\n",
       "         0.49281222, -0.8304548 ],\n",
       "       [ 1.10363427,  0.13652389, -0.37970614,  0.58359007,  0.84726715,\n",
       "        -0.65208539, -0.8304548 ],\n",
       "       [-1.03553026,  0.25186303, -0.37970614, -0.44135306,  0.47408881,\n",
       "        -0.49943238,  1.20415946],\n",
       "       [ 0.84693453,  0.48254132,  0.27360821,  0.68608438,  0.56738339,\n",
       "        -0.14642228,  1.20415946],\n",
       "       [ 0.59023479,  0.71321961,  0.27360821,  0.68608438,  0.56738339,\n",
       "         0.15888375, -0.8304548 ],\n",
       "       [ 0.41910162,  0.71321961,  0.27360821,  0.891073  ,  0.75397256,\n",
       "         0.9698529 , -0.8304548 ],\n",
       "       [-0.09429787, -0.20949355,  0.27360821,  0.48109575,  0.28749964,\n",
       "        -1.03371793, -0.8304548 ],\n",
       "       [-0.94996368,  0.13652389,  0.27360821,  0.17361282,  0.10091047,\n",
       "        -0.36586099,  1.20415946],\n",
       "       [-1.12109684, -0.55551098,  0.27360821, -1.36380187, -1.29850831,\n",
       "         0.37832246,  1.20415946]])"
      ]
     },
     "execution_count": 9,
     "metadata": {},
     "output_type": "execute_result"
    }
   ],
   "source": [
    "# to be only used if you want to scale the data,standize the data,if the variation is huge in the dataset\n",
    "# when we have huge variation in the data set\n",
    "# i am not changing the data , i am changing the scale only like taking logs, sqrt--not changing the actual meaning of the data set\n",
    "# variance betweeen the dataset become very low\n",
    "# machine will understand in better way this data  as having low variance in the data set\n",
    "\n",
    "from sklearn.preprocessing import StandardScaler\n",
    "scaler_feature=StandardScaler()\n",
    "scaler_lablel=StandardScaler()\n",
    "scaled_data=scaler_feature.fit_transform(x)\n",
    "scaler_y = StandardScaler()\n",
    "y = scaler_y.fit_transform(y)\n",
    "scaled_data"
   ]
  },
  {
   "cell_type": "code",
   "execution_count": 10,
   "metadata": {},
   "outputs": [],
   "source": [
    "#splitting the data into training and testing sets\n",
    "from sklearn.model_selection import train_test_split\n",
    "train_x,test_x,train_y,test_y=train_test_split(x,y,test_size=0.33,random_state=100)\n",
    "# finding mi c1 , m2 c2,..... "
   ]
  },
  {
   "cell_type": "code",
   "execution_count": 11,
   "metadata": {},
   "outputs": [
    {
     "data": {
      "text/plain": [
       "LinearRegression()"
      ]
     },
     "execution_count": 11,
     "metadata": {},
     "output_type": "execute_result"
    }
   ],
   "source": [
    "# fitting the data to the linear regression model\n",
    "from sklearn import linear_model\n",
    "from sklearn.linear_model import LinearRegression\n",
    "from sklearn.metrics import mean_squared_error, accuracy_score\n",
    "reg=linear_model.LinearRegression()\n",
    "reg.fit(train_x,train_y)"
   ]
  },
  {
   "cell_type": "code",
   "execution_count": 12,
   "metadata": {},
   "outputs": [
    {
     "data": {
      "text/plain": [
       "-0.2434400285949736"
      ]
     },
     "execution_count": 12,
     "metadata": {},
     "output_type": "execute_result"
    }
   ],
   "source": [
    "# calc the accuracy of the model\n",
    "from sklearn.metrics import r2_score\n",
    "score=r2_score(reg.predict(test_x),test_y)\n",
    "score"
   ]
  },
  {
   "cell_type": "code",
   "execution_count": 13,
   "metadata": {},
   "outputs": [
    {
     "name": "stdout",
     "output_type": "stream",
     "text": [
      "                   coefficient\n",
      "GRE Score             0.035205\n",
      "TOEFL Score           0.002547\n",
      "University Rating     0.017480\n",
      "SOP                   0.029151\n",
      "LOR                   0.382793\n",
      "CGPA                  0.261578\n",
      "Research              0.428959\n",
      "Feature: 0, Score: 0.03520\n",
      "Feature: 1, Score: 0.00255\n",
      "Feature: 2, Score: 0.01748\n",
      "Feature: 3, Score: 0.02915\n",
      "Feature: 4, Score: 0.38279\n",
      "Feature: 5, Score: 0.26158\n",
      "Feature: 6, Score: 0.42896\n"
     ]
    },
    {
     "data": {
      "image/png": "[encoded data removed]",
      "text/plain": [
       "<Figure size 432x288 with 1 Axes>"
      ]
     },
     "metadata": {
      "needs_background": "light"
     },
     "output_type": "display_data"
    }
   ],
   "source": [
    "intercept = reg.intercept_\n",
    "dfx = df.drop('Chance of Admit' , axis=1)\n",
    "importance = reg.coef_[0]\n",
    "features = pd.DataFrame(importance, dfx.columns, columns=['coefficient'])\n",
    "print(features)\n",
    "for i,v in enumerate(importance):\n",
    "\tprint('Feature: %0d, Score: %.5f' % (i,v))\n",
    "# plot feature importance\n",
    "plt.bar([x for x in range(len(importance))], importance)\n",
    "plt.show()"
   ]
  },
  {
   "cell_type": "code",
   "execution_count": 14,
   "metadata": {},
   "outputs": [],
   "source": [
    "#splitting the data into training and testing sets\n",
    "from sklearn.model_selection import train_test_split\n",
    "train_x,test_x,train_y,test_y=train_test_split(x,y,test_size=0.20,random_state=100)\n",
    "# finding mi c1 , m2 c2,..... "
   ]
  },
  {
   "cell_type": "code",
   "execution_count": 15,
   "metadata": {},
   "outputs": [
    {
     "data": {
      "text/plain": [
       "LinearRegression()"
      ]
     },
     "execution_count": 15,
     "metadata": {},
     "output_type": "execute_result"
    }
   ],
   "source": [
    "# fitting the data to the linear regression model\n",
    "from sklearn import linear_model\n",
    "from sklearn.linear_model import LinearRegression\n",
    "reg=linear_model.LinearRegression()\n",
    "reg.fit(train_x,train_y)"
   ]
  },
  {
   "cell_type": "code",
   "execution_count": 16,
   "metadata": {},
   "outputs": [
    {
     "data": {
      "text/plain": [
       "-1.7861401571270124"
      ]
     },
     "execution_count": 16,
     "metadata": {},
     "output_type": "execute_result"
    }
   ],
   "source": [
    "# calc the accuracy of the model\n",
    "from sklearn.metrics import r2_score\n",
    "score=r2_score(reg.predict(test_x),test_y)\n",
    "score"
   ]
  },
  {
   "cell_type": "markdown",
   "metadata": {},
   "source": [
    "# ANN Model"
   ]
  },
  {
   "cell_type": "code",
   "execution_count": 17,
   "metadata": {},
   "outputs": [],
   "source": [
    "import tensorflow as tf\n",
    "from tensorflow import keras\n",
    "#tf.keras.layers.Dense\n",
    "from tensorflow.keras.layers import Dense, Activation, Dropout\n",
    "from tensorflow.keras.optimizers import Adam\n",
    "#opt = keras.optimizers.Adam(learning_rate=0.01)\n"
   ]
  },
  {
   "cell_type": "code",
   "execution_count": 18,
   "metadata": {},
   "outputs": [
    {
     "name": "stdout",
     "output_type": "stream",
     "text": [
      "Model: \"sequential\"\n",
      "_________________________________________________________________\n",
      " Layer (type)                Output Shape              Param #   \n",
      "=================================================================\n",
      " dense (Dense)               (None, 50)                400       \n",
      "                                                                 \n",
      " activation (Activation)     (None, 50)                0         \n",
      "                                                                 \n",
      " dense_1 (Dense)             (None, 150)               7650      \n",
      "                                                                 \n",
      " activation_1 (Activation)   (None, 150)               0         \n",
      "                                                                 \n",
      " dropout (Dropout)           (None, 150)               0         \n",
      "                                                                 \n",
      " dense_2 (Dense)             (None, 150)               22650     \n",
      "                                                                 \n",
      " activation_2 (Activation)   (None, 150)               0         \n",
      "                                                                 \n",
      " dropout_1 (Dropout)         (None, 150)               0         \n",
      "                                                                 \n",
      " dense_3 (Dense)             (None, 50)                7550      \n",
      "                                                                 \n",
      " activation_3 (Activation)   (None, 50)                0         \n",
      "                                                                 \n",
      " dense_4 (Dense)             (None, 1)                 51        \n",
      "                                                                 \n",
      "=================================================================\n",
      "Total params: 38,301\n",
      "Trainable params: 38,301\n",
      "Non-trainable params: 0\n",
      "_________________________________________________________________\n"
     ]
    }
   ],
   "source": [
    "ANN_model = keras.Sequential()\n",
    "ANN_model.add(Dense(50, input_dim = 7))\n",
    "ANN_model.add(Activation('relu'))\n",
    "ANN_model.add(Dense(150))\n",
    "ANN_model.add(Activation('relu'))\n",
    "ANN_model.add(Dropout(0.5))\n",
    "ANN_model.add(Dense(150))\n",
    "ANN_model.add(Activation('relu'))\n",
    "ANN_model.add(Dropout(0.5))\n",
    "ANN_model.add(Dense(50))\n",
    "ANN_model.add(Activation('linear'))\n",
    "ANN_model.add(Dense(1))\n",
    "ANN_model.compile(loss = 'mean_squared_error', optimizer = 'adam')\n",
    "ANN_model.summary()"
   ]
  },
  {
   "cell_type": "code",
   "execution_count": 19,
   "metadata": {},
   "outputs": [],
   "source": [
    "ANN_model.compile(optimizer='adam', loss='mean_squared_error')"
   ]
  },
  {
   "cell_type": "code",
   "execution_count": 20,
   "metadata": {},
   "outputs": [
    {
     "name": "stdout",
     "output_type": "stream",
     "text": [
      "Epoch 1/100\n",
      "2/2 [==============================] - 1s 271ms/step - loss: 2273.6042 - val_loss: 170.1236\n",
      "Epoch 2/100\n",
      "2/2 [==============================] - 0s 41ms/step - loss: 1125.3259 - val_loss: 59.7124\n",
      "Epoch 3/100\n",
      "2/2 [==============================] - 0s 26ms/step - loss: 1173.7336 - val_loss: 40.3463\n",
      "Epoch 4/100\n",
      "2/2 [==============================] - 0s 27ms/step - loss: 1071.0433 - val_loss: 71.6889\n",
      "Epoch 5/100\n",
      "2/2 [==============================] - 0s 38ms/step - loss: 723.9583 - val_loss: 43.7827\n",
      "Epoch 6/100\n",
      "2/2 [==============================] - 0s 41ms/step - loss: 606.9637 - val_loss: 47.8499\n",
      "Epoch 7/100\n",
      "2/2 [==============================] - 0s 22ms/step - loss: 592.9833 - val_loss: 66.2216\n",
      "Epoch 8/100\n",
      "2/2 [==============================] - 0s 22ms/step - loss: 451.7481 - val_loss: 56.7040\n",
      "Epoch 9/100\n",
      "2/2 [==============================] - 0s 20ms/step - loss: 394.9084 - val_loss: 23.5132\n",
      "Epoch 10/100\n",
      "2/2 [==============================] - 0s 20ms/step - loss: 312.9081 - val_loss: 6.2988\n",
      "Epoch 11/100\n",
      "2/2 [==============================] - 0s 19ms/step - loss: 291.0312 - val_loss: 1.1072\n",
      "Epoch 12/100\n",
      "2/2 [==============================] - 0s 20ms/step - loss: 225.7877 - val_loss: 3.3667\n",
      "Epoch 13/100\n",
      "2/2 [==============================] - 0s 22ms/step - loss: 313.9057 - val_loss: 2.0913\n",
      "Epoch 14/100\n",
      "2/2 [==============================] - 0s 21ms/step - loss: 232.9113 - val_loss: 0.7345\n",
      "Epoch 15/100\n",
      "2/2 [==============================] - 0s 21ms/step - loss: 208.8029 - val_loss: 3.7279\n",
      "Epoch 16/100\n",
      "2/2 [==============================] - 0s 21ms/step - loss: 78.5579 - val_loss: 10.4621\n",
      "Epoch 17/100\n",
      "2/2 [==============================] - 0s 22ms/step - loss: 117.7942 - val_loss: 15.1772\n",
      "Epoch 18/100\n",
      "2/2 [==============================] - 0s 21ms/step - loss: 120.8374 - val_loss: 15.0963\n",
      "Epoch 19/100\n",
      "2/2 [==============================] - 0s 21ms/step - loss: 122.9510 - val_loss: 11.9674\n",
      "Epoch 20/100\n",
      "2/2 [==============================] - 0s 21ms/step - loss: 56.1579 - val_loss: 8.0492\n",
      "Epoch 21/100\n",
      "2/2 [==============================] - 0s 21ms/step - loss: 104.6758 - val_loss: 4.8674\n",
      "Epoch 22/100\n",
      "2/2 [==============================] - 0s 20ms/step - loss: 114.5081 - val_loss: 2.8489\n",
      "Epoch 23/100\n",
      "2/2 [==============================] - 0s 21ms/step - loss: 52.1401 - val_loss: 1.9346\n",
      "Epoch 24/100\n",
      "2/2 [==============================] - 0s 22ms/step - loss: 34.9283 - val_loss: 1.6812\n",
      "Epoch 25/100\n",
      "2/2 [==============================] - 0s 20ms/step - loss: 30.6770 - val_loss: 1.5623\n",
      "Epoch 26/100\n",
      "2/2 [==============================] - 0s 23ms/step - loss: 36.3953 - val_loss: 1.5342\n",
      "Epoch 27/100\n",
      "2/2 [==============================] - 0s 23ms/step - loss: 65.7217 - val_loss: 1.5333\n",
      "Epoch 28/100\n",
      "2/2 [==============================] - 0s 22ms/step - loss: 74.2351 - val_loss: 1.4413\n",
      "Epoch 29/100\n",
      "2/2 [==============================] - 0s 24ms/step - loss: 30.0416 - val_loss: 1.4113\n",
      "Epoch 30/100\n",
      "2/2 [==============================] - 0s 29ms/step - loss: 28.7655 - val_loss: 1.4241\n",
      "Epoch 31/100\n",
      "2/2 [==============================] - 0s 36ms/step - loss: 32.6714 - val_loss: 1.4792\n",
      "Epoch 32/100\n",
      "2/2 [==============================] - 0s 27ms/step - loss: 28.8017 - val_loss: 1.5481\n",
      "Epoch 33/100\n",
      "2/2 [==============================] - 0s 35ms/step - loss: 34.7900 - val_loss: 1.7149\n",
      "Epoch 34/100\n",
      "2/2 [==============================] - 0s 34ms/step - loss: 23.5533 - val_loss: 2.0351\n",
      "Epoch 35/100\n",
      "2/2 [==============================] - 0s 28ms/step - loss: 27.1249 - val_loss: 2.3514\n",
      "Epoch 36/100\n",
      "2/2 [==============================] - 0s 21ms/step - loss: 28.8902 - val_loss: 2.8058\n",
      "Epoch 37/100\n",
      "2/2 [==============================] - 0s 22ms/step - loss: 21.1240 - val_loss: 3.3000\n",
      "Epoch 38/100\n",
      "2/2 [==============================] - 0s 21ms/step - loss: 23.8720 - val_loss: 3.2951\n",
      "Epoch 39/100\n",
      "2/2 [==============================] - 0s 21ms/step - loss: 29.3998 - val_loss: 3.0151\n",
      "Epoch 40/100\n",
      "2/2 [==============================] - 0s 21ms/step - loss: 19.4464 - val_loss: 2.8702\n",
      "Epoch 41/100\n",
      "2/2 [==============================] - 0s 22ms/step - loss: 15.4900 - val_loss: 2.8188\n",
      "Epoch 42/100\n",
      "2/2 [==============================] - 0s 21ms/step - loss: 21.8149 - val_loss: 3.0232\n",
      "Epoch 43/100\n",
      "2/2 [==============================] - 0s 20ms/step - loss: 29.3342 - val_loss: 3.2164\n",
      "Epoch 44/100\n",
      "2/2 [==============================] - 0s 19ms/step - loss: 23.3692 - val_loss: 3.1164\n",
      "Epoch 45/100\n",
      "2/2 [==============================] - 0s 21ms/step - loss: 12.6594 - val_loss: 2.9617\n",
      "Epoch 46/100\n",
      "2/2 [==============================] - 0s 21ms/step - loss: 19.8180 - val_loss: 2.7220\n",
      "Epoch 47/100\n",
      "2/2 [==============================] - 0s 20ms/step - loss: 22.5875 - val_loss: 2.4439\n",
      "Epoch 48/100\n",
      "2/2 [==============================] - 0s 20ms/step - loss: 18.3438 - val_loss: 2.2549\n",
      "Epoch 49/100\n",
      "2/2 [==============================] - 0s 20ms/step - loss: 14.5714 - val_loss: 1.9336\n",
      "Epoch 50/100\n",
      "2/2 [==============================] - 0s 21ms/step - loss: 15.7221 - val_loss: 1.6414\n",
      "Epoch 51/100\n",
      "2/2 [==============================] - 0s 19ms/step - loss: 13.7389 - val_loss: 1.4623\n",
      "Epoch 52/100\n",
      "2/2 [==============================] - 0s 20ms/step - loss: 15.2239 - val_loss: 1.3204\n",
      "Epoch 53/100\n",
      "2/2 [==============================] - 0s 22ms/step - loss: 16.8116 - val_loss: 1.2608\n",
      "Epoch 54/100\n",
      "2/2 [==============================] - 0s 22ms/step - loss: 16.1701 - val_loss: 1.1989\n",
      "Epoch 55/100\n",
      "2/2 [==============================] - 0s 20ms/step - loss: 24.1721 - val_loss: 1.2115\n",
      "Epoch 56/100\n",
      "2/2 [==============================] - 0s 21ms/step - loss: 9.5667 - val_loss: 1.2478\n",
      "Epoch 57/100\n",
      "2/2 [==============================] - 0s 21ms/step - loss: 15.8656 - val_loss: 1.2407\n",
      "Epoch 58/100\n",
      "2/2 [==============================] - 0s 19ms/step - loss: 11.3304 - val_loss: 1.2490\n",
      "Epoch 59/100\n",
      "2/2 [==============================] - 0s 21ms/step - loss: 10.7345 - val_loss: 1.2884\n",
      "Epoch 60/100\n",
      "2/2 [==============================] - 0s 21ms/step - loss: 18.4744 - val_loss: 1.3462\n",
      "Epoch 61/100\n",
      "2/2 [==============================] - 0s 21ms/step - loss: 14.0189 - val_loss: 1.3890\n",
      "Epoch 62/100\n",
      "2/2 [==============================] - 0s 22ms/step - loss: 7.7898 - val_loss: 1.4263\n",
      "Epoch 63/100\n",
      "2/2 [==============================] - 0s 22ms/step - loss: 12.3067 - val_loss: 1.4604\n",
      "Epoch 64/100\n",
      "2/2 [==============================] - 0s 20ms/step - loss: 12.0010 - val_loss: 1.4967\n",
      "Epoch 65/100\n",
      "2/2 [==============================] - 0s 23ms/step - loss: 13.5185 - val_loss: 1.5562\n",
      "Epoch 66/100\n",
      "2/2 [==============================] - 0s 37ms/step - loss: 8.8244 - val_loss: 1.5665\n",
      "Epoch 67/100\n",
      "2/2 [==============================] - 0s 27ms/step - loss: 11.7816 - val_loss: 1.5227\n",
      "Epoch 68/100\n",
      "2/2 [==============================] - 0s 24ms/step - loss: 11.9147 - val_loss: 1.5158\n",
      "Epoch 69/100\n",
      "2/2 [==============================] - 0s 36ms/step - loss: 9.6582 - val_loss: 1.5054\n",
      "Epoch 70/100\n",
      "2/2 [==============================] - 0s 24ms/step - loss: 5.4585 - val_loss: 1.4888\n",
      "Epoch 71/100\n",
      "2/2 [==============================] - 0s 22ms/step - loss: 14.1875 - val_loss: 1.4844\n",
      "Epoch 72/100\n",
      "2/2 [==============================] - 0s 22ms/step - loss: 5.8256 - val_loss: 1.5059\n",
      "Epoch 73/100\n",
      "2/2 [==============================] - 0s 21ms/step - loss: 16.5477 - val_loss: 1.5525\n",
      "Epoch 74/100\n",
      "2/2 [==============================] - 0s 20ms/step - loss: 6.7600 - val_loss: 1.5625\n",
      "Epoch 75/100\n",
      "2/2 [==============================] - 0s 22ms/step - loss: 8.6383 - val_loss: 1.6322\n",
      "Epoch 76/100\n",
      "2/2 [==============================] - 0s 21ms/step - loss: 9.6928 - val_loss: 1.7169\n",
      "Epoch 77/100\n",
      "2/2 [==============================] - 0s 21ms/step - loss: 13.9857 - val_loss: 1.7265\n",
      "Epoch 78/100\n",
      "2/2 [==============================] - 0s 22ms/step - loss: 14.9165 - val_loss: 1.7521\n",
      "Epoch 79/100\n",
      "2/2 [==============================] - 0s 22ms/step - loss: 7.9857 - val_loss: 1.7437\n",
      "Epoch 80/100\n",
      "2/2 [==============================] - 0s 21ms/step - loss: 10.0345 - val_loss: 1.7494\n",
      "Epoch 81/100\n",
      "2/2 [==============================] - 0s 23ms/step - loss: 6.0966 - val_loss: 1.7814\n",
      "Epoch 82/100\n",
      "2/2 [==============================] - 0s 20ms/step - loss: 7.2037 - val_loss: 1.7712\n",
      "Epoch 83/100\n",
      "2/2 [==============================] - 0s 20ms/step - loss: 8.7890 - val_loss: 1.7674\n",
      "Epoch 84/100\n",
      "2/2 [==============================] - 0s 21ms/step - loss: 6.5779 - val_loss: 1.7303\n",
      "Epoch 85/100\n",
      "2/2 [==============================] - 0s 22ms/step - loss: 6.4967 - val_loss: 1.6942\n",
      "Epoch 86/100\n",
      "2/2 [==============================] - 0s 21ms/step - loss: 8.9366 - val_loss: 1.6746\n",
      "Epoch 87/100\n",
      "2/2 [==============================] - 0s 22ms/step - loss: 4.7586 - val_loss: 1.6579\n",
      "Epoch 88/100\n",
      "2/2 [==============================] - 0s 22ms/step - loss: 6.5403 - val_loss: 1.6591\n",
      "Epoch 89/100\n",
      "2/2 [==============================] - 0s 22ms/step - loss: 4.8596 - val_loss: 1.6611\n",
      "Epoch 90/100\n",
      "2/2 [==============================] - 0s 24ms/step - loss: 11.5421 - val_loss: 1.6551\n",
      "Epoch 91/100\n",
      "2/2 [==============================] - 0s 24ms/step - loss: 6.3845 - val_loss: 1.6330\n",
      "Epoch 92/100\n",
      "2/2 [==============================] - 0s 23ms/step - loss: 7.5402 - val_loss: 1.5793\n",
      "Epoch 93/100\n",
      "2/2 [==============================] - 0s 32ms/step - loss: 6.7012 - val_loss: 1.5199\n",
      "Epoch 94/100\n",
      "2/2 [==============================] - 0s 21ms/step - loss: 4.3758 - val_loss: 1.4633\n",
      "Epoch 95/100\n",
      "2/2 [==============================] - 0s 21ms/step - loss: 4.9336 - val_loss: 1.4091\n",
      "Epoch 96/100\n",
      "2/2 [==============================] - 0s 23ms/step - loss: 7.2739 - val_loss: 1.3691\n",
      "Epoch 97/100\n",
      "2/2 [==============================] - 0s 35ms/step - loss: 4.2879 - val_loss: 1.3421\n",
      "Epoch 98/100\n",
      "2/2 [==============================] - 0s 22ms/step - loss: 7.9621 - val_loss: 1.3488\n",
      "Epoch 99/100\n",
      "2/2 [==============================] - 0s 22ms/step - loss: 4.0585 - val_loss: 1.3585\n",
      "Epoch 100/100\n",
      "2/2 [==============================] - 0s 22ms/step - loss: 6.1997 - val_loss: 1.3652\n"
     ]
    }
   ],
   "source": [
    "epochs_hist = ANN_model.fit(train_x, train_y, epochs = 100, batch_size = 20, validation_split = 0.2)"
   ]
  },
  {
   "cell_type": "code",
   "execution_count": 21,
   "metadata": {},
   "outputs": [
    {
     "name": "stdout",
     "output_type": "stream",
     "text": [
      "1/1 [==============================] - 0s 17ms/step - loss: 1.0777\n",
      "Accuracy : -0.0777050256729126\n"
     ]
    }
   ],
   "source": [
    "result = ANN_model.evaluate(test_x, test_y)\n",
    "accuracy_ANN = 1 - result\n",
    "print(\"Accuracy : {}\".format(accuracy_ANN))"
   ]
  },
  {
   "cell_type": "code",
   "execution_count": 22,
   "metadata": {},
   "outputs": [
    {
     "data": {
      "text/plain": [
       "dict_keys(['loss', 'val_loss'])"
      ]
     },
     "execution_count": 22,
     "metadata": {},
     "output_type": "execute_result"
    }
   ],
   "source": [
    "epochs_hist.history.keys()"
   ]
  },
  {
   "cell_type": "code",
   "execution_count": 23,
   "metadata": {},
   "outputs": [
    {
     "data": {
      "text/plain": [
       "<matplotlib.legend.Legend at 0x204e04ab850>"
      ]
     },
     "execution_count": 23,
     "metadata": {},
     "output_type": "execute_result"
    },
    {
     "data": {
      "image/png": "[encoded data removed]",
      "text/plain": [
       "<Figure size 432x288 with 1 Axes>"
      ]
     },
     "metadata": {
      "needs_background": "light"
     },
     "output_type": "display_data"
    }
   ],
   "source": [
    "plt.plot(epochs_hist.history['loss'])\n",
    "plt.title('Model Loss Progress During Training')\n",
    "plt.xlabel('Epoch')\n",
    "plt.ylabel('Training Loss')\n",
    "plt.legend(['Training Loss'])"
   ]
  },
  {
   "cell_type": "markdown",
   "metadata": {},
   "source": [
    "# Decesion Tree Model"
   ]
  },
  {
   "cell_type": "code",
   "execution_count": 24,
   "metadata": {},
   "outputs": [
    {
     "data": {
      "text/plain": [
       "DecisionTreeRegressor()"
      ]
     },
     "execution_count": 24,
     "metadata": {},
     "output_type": "execute_result"
    }
   ],
   "source": [
    "# Decision tree builds regression or classification models in the form of a tree structure. \n",
    "# Decision tree breaks down a dataset into smaller subsets while at the same time an associated decision tree is incrementally developed. \n",
    "# The final result is a tree with decision nodes and leaf nodes.\n",
    "\n",
    "\n",
    "from sklearn.tree import DecisionTreeRegressor\n",
    "decisionTree_model = DecisionTreeRegressor()\n",
    "decisionTree_model.fit(train_x, train_y)"
   ]
  },
  {
   "cell_type": "code",
   "execution_count": 25,
   "metadata": {},
   "outputs": [
    {
     "name": "stdout",
     "output_type": "stream",
     "text": [
      "                   coefficient\n",
      "GRE Score             0.158730\n",
      "TOEFL Score           0.000000\n",
      "University Rating     0.171958\n",
      "SOP                   0.583333\n",
      "LOR                   0.000000\n",
      "CGPA                  0.085979\n",
      "Research              0.000000\n",
      "Feature: 0, Score: 0.15873\n",
      "Feature: 1, Score: 0.00000\n",
      "Feature: 2, Score: 0.17196\n",
      "Feature: 3, Score: 0.58333\n",
      "Feature: 4, Score: 0.00000\n",
      "Feature: 5, Score: 0.08598\n",
      "Feature: 6, Score: 0.00000\n"
     ]
    },
    {
     "data": {
      "image/png": "[encoded data removed]",
      "text/plain": [
       "<Figure size 432x288 with 1 Axes>"
      ]
     },
     "metadata": {
      "needs_background": "light"
     },
     "output_type": "display_data"
    }
   ],
   "source": [
    "#feature Importancce testing\n",
    "dfx = df.drop('Chance of Admit' , axis=1)\n",
    "importance = decisionTree_model.feature_importances_\n",
    "features = pd.DataFrame(importance, dfx.columns, columns=['coefficient'])\n",
    "print(features)\n",
    "for i,v in enumerate(importance):\n",
    "\tprint('Feature: %0d, Score: %.5f' % (i,v))\n",
    "# plot feature importance\n",
    "plt.bar([x for x in range(len(importance))], importance)\n",
    "plt.show()"
   ]
  },
  {
   "cell_type": "code",
   "execution_count": 26,
   "metadata": {},
   "outputs": [
    {
     "data": {
      "text/plain": [
       "-0.6666666666666665"
      ]
     },
     "execution_count": 26,
     "metadata": {},
     "output_type": "execute_result"
    }
   ],
   "source": [
    "accuracy_decisionTree = decisionTree_model.score(test_x, test_y)\n",
    "accuracy_decisionTree"
   ]
  },
  {
   "cell_type": "markdown",
   "metadata": {},
   "source": [
    "# Random Forrest Model"
   ]
  },
  {
   "cell_type": "markdown",
   "metadata": {},
   "source": []
  },
  {
   "cell_type": "code",
   "execution_count": 27,
   "metadata": {},
   "outputs": [
    {
     "name": "stderr",
     "output_type": "stream",
     "text": [
      "C:\\Users\\mrhus\\AppData\\Local\\Temp/ipykernel_14320/2085754441.py:3: DataConversionWarning: A column-vector y was passed when a 1d array was expected. Please change the shape of y to (n_samples,), for example using ravel().\n",
      "  randomForest_model.fit(train_x, train_y)\n"
     ]
    },
    {
     "data": {
      "text/plain": [
       "-0.3627500000000017"
      ]
     },
     "execution_count": 27,
     "metadata": {},
     "output_type": "execute_result"
    }
   ],
   "source": [
    "from sklearn.ensemble import RandomForestRegressor\n",
    "randomForest_model = RandomForestRegressor(n_estimators=100, max_depth=10)\n",
    "randomForest_model.fit(train_x, train_y)\n",
    "accuracy_randomforest = randomForest_model.score(test_x, test_y)\n",
    "accuracy_randomforest"
   ]
  },
  {
   "cell_type": "code",
   "execution_count": 28,
   "metadata": {},
   "outputs": [
    {
     "name": "stdout",
     "output_type": "stream",
     "text": [
      "                   coefficient\n",
      "GRE Score             0.410505\n",
      "TOEFL Score           0.027425\n",
      "University Rating     0.123003\n",
      "SOP                   0.289187\n",
      "LOR                   0.108846\n",
      "CGPA                  0.029550\n",
      "Research              0.011484\n",
      "Feature: 0, Score: 0.41050\n",
      "Feature: 1, Score: 0.02742\n",
      "Feature: 2, Score: 0.12300\n",
      "Feature: 3, Score: 0.28919\n",
      "Feature: 4, Score: 0.10885\n",
      "Feature: 5, Score: 0.02955\n",
      "Feature: 6, Score: 0.01148\n"
     ]
    },
    {
     "data": {
      "image/png": "[encoded data removed]",
      "text/plain": [
       "<Figure size 432x288 with 1 Axes>"
      ]
     },
     "metadata": {
      "needs_background": "light"
     },
     "output_type": "display_data"
    }
   ],
   "source": [
    "#feature Importancce testing\n",
    "dfx = df.drop('Chance of Admit' , axis=1)\n",
    "importance = randomForest_model.feature_importances_\n",
    "features = pd.DataFrame(importance, dfx.columns, columns=['coefficient'])\n",
    "print(features)\n",
    "for i,v in enumerate(importance):\n",
    "\tprint('Feature: %0d, Score: %.5f' % (i,v))\n",
    "# plot feature importance\n",
    "plt.bar([x for x in range(len(importance))], importance)\n",
    "plt.show()"
   ]
  },
  {
   "cell_type": "markdown",
   "metadata": {},
   "source": [
    "# Saving the model to the local file system"
   ]
  },
  {
   "cell_type": "code",
   "execution_count": 29,
   "metadata": {},
   "outputs": [
    {
     "data": {
      "text/plain": [
       "['filename.joblib']"
      ]
     },
     "execution_count": 29,
     "metadata": {},
     "output_type": "execute_result"
    }
   ],
   "source": [
    "#filename='finalized_model.pickle'\n",
    "#pickle.dump(reg,open(filename,'wb'))\n",
    "dump(randomForest_model, 'filename.joblib')"
   ]
  }
 ],
 "metadata": {
  "kernelspec": {
   "display_name": "Python 3",
   "language": "python",
   "name": "python3"
  },
  "language_info": {
   "codemirror_mode": {
    "name": "ipython",
    "version": 3
   },
   "file_extension": ".py",
   "mimetype": "text/x-python",
   "name": "python",
   "nbconvert_exporter": "python",
   "pygments_lexer": "ipython3",
   "version": "3.9.7"
  }
 },
 "nbformat": 4,
 "nbformat_minor": 2
}
